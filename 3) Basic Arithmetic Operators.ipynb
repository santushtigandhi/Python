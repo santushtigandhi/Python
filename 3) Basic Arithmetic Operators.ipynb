{
 "cells": [
  {
   "cell_type": "markdown",
   "id": "final-transaction",
   "metadata": {},
   "source": [
    "<b><center>Basic Arithmentic Operators</center></b>"
   ]
  },
  {
   "cell_type": "markdown",
   "id": "digital-filling",
   "metadata": {},
   "source": [
    "Arithmetic operators are used to perform mathematical operations like addition, subtraction, multiplication, division and many more. <br>\n",
    "\n",
    "So let's get started!!! <br>\n",
    "\n",
    "There are 7 arithmetic operators in Python : <br>\n",
    "\n",
    "- Addition\n",
    "- Subtraction\n",
    "- Multiplication\n",
    "- Division\n",
    "- Modulus\n",
    "- Exponentiation\n",
    "- Floor division"
   ]
  },
  {
   "cell_type": "markdown",
   "id": "particular-poker",
   "metadata": {},
   "source": [
    "<b>Addition Operator</b>"
   ]
  },
  {
   "cell_type": "markdown",
   "id": "sexual-niagara",
   "metadata": {},
   "source": [
    "In Python, + is the addition operator and it is used to add 2 values."
   ]
  },
  {
   "cell_type": "code",
   "execution_count": 1,
   "id": "surprised-emperor",
   "metadata": {},
   "outputs": [
    {
     "data": {
      "text/plain": [
       "15"
      ]
     },
     "execution_count": 1,
     "metadata": {},
     "output_type": "execute_result"
    }
   ],
   "source": [
    "4+11"
   ]
  },
  {
   "cell_type": "code",
   "execution_count": 2,
   "id": "infectious-cowboy",
   "metadata": {},
   "outputs": [
    {
     "name": "stdout",
     "output_type": "stream",
     "text": [
      "5\n"
     ]
    }
   ],
   "source": [
    "a = 2\n",
    "b = 3\n",
    "print(a + b)"
   ]
  },
  {
   "cell_type": "markdown",
   "id": "heard-meditation",
   "metadata": {},
   "source": [
    "<b> Subtration Operator</b>"
   ]
  },
  {
   "cell_type": "markdown",
   "id": "coated-treasure",
   "metadata": {},
   "source": [
    "In Python, – is the subtraction operator and it is used to subtract the second value from the first value."
   ]
  },
  {
   "cell_type": "code",
   "execution_count": 3,
   "id": "toxic-midnight",
   "metadata": {},
   "outputs": [
    {
     "data": {
      "text/plain": [
       "-7"
      ]
     },
     "execution_count": 3,
     "metadata": {},
     "output_type": "execute_result"
    }
   ],
   "source": [
    "4-11"
   ]
  },
  {
   "cell_type": "code",
   "execution_count": 4,
   "id": "automatic-shipping",
   "metadata": {},
   "outputs": [
    {
     "name": "stdout",
     "output_type": "stream",
     "text": [
      "1\n"
     ]
    }
   ],
   "source": [
    "a = 3\n",
    "b = 2\n",
    "print(a - b)"
   ]
  },
  {
   "cell_type": "markdown",
   "id": "physical-contribution",
   "metadata": {},
   "source": [
    "<b>Multiplication Operator</b>"
   ]
  },
  {
   "cell_type": "markdown",
   "id": "supposed-parade",
   "metadata": {},
   "source": [
    "In Python, * is the multiplication operator and it is used to find the product of values."
   ]
  },
  {
   "cell_type": "code",
   "execution_count": 5,
   "id": "postal-karma",
   "metadata": {},
   "outputs": [
    {
     "data": {
      "text/plain": [
       "44"
      ]
     },
     "execution_count": 5,
     "metadata": {},
     "output_type": "execute_result"
    }
   ],
   "source": [
    "4 * 11"
   ]
  },
  {
   "cell_type": "code",
   "execution_count": 6,
   "id": "functional-english",
   "metadata": {},
   "outputs": [
    {
     "name": "stdout",
     "output_type": "stream",
     "text": [
      "6\n"
     ]
    }
   ],
   "source": [
    "a = 3\n",
    "b = 2\n",
    "print(a * b)"
   ]
  },
  {
   "cell_type": "markdown",
   "id": "interim-phrase",
   "metadata": {},
   "source": [
    "<b> Division Operator </b>"
   ]
  },
  {
   "cell_type": "markdown",
   "id": "critical-proceeding",
   "metadata": {},
   "source": [
    " In Python, / is the division operator and t is used to find the quotient when first operand is divided by the second."
   ]
  },
  {
   "cell_type": "code",
   "execution_count": 7,
   "id": "indonesian-dryer",
   "metadata": {},
   "outputs": [
    {
     "data": {
      "text/plain": [
       "2.0"
      ]
     },
     "execution_count": 7,
     "metadata": {},
     "output_type": "execute_result"
    }
   ],
   "source": [
    "10/5"
   ]
  },
  {
   "cell_type": "code",
   "execution_count": 8,
   "id": "eight-extraction",
   "metadata": {},
   "outputs": [
    {
     "name": "stdout",
     "output_type": "stream",
     "text": [
      "6.666666666666667\n"
     ]
    }
   ],
   "source": [
    "a = 20\n",
    "b = 3\n",
    "print(a / b)"
   ]
  },
  {
   "cell_type": "markdown",
   "id": "fossil-working",
   "metadata": {},
   "source": [
    "<b>Floor Division Operator</b>"
   ]
  },
  {
   "cell_type": "markdown",
   "id": "subject-heritage",
   "metadata": {},
   "source": [
    "If you have noticed in the above division Operator, it always gives you the answer in float(decimal point) whereas Floor division Operator gives the answer in integer. In Python, // is the floor division operator."
   ]
  },
  {
   "cell_type": "code",
   "execution_count": 9,
   "id": "further-documentary",
   "metadata": {},
   "outputs": [
    {
     "data": {
      "text/plain": [
       "2"
      ]
     },
     "execution_count": 9,
     "metadata": {},
     "output_type": "execute_result"
    }
   ],
   "source": [
    "10//5"
   ]
  },
  {
   "cell_type": "code",
   "execution_count": 10,
   "id": "warming-turkish",
   "metadata": {},
   "outputs": [
    {
     "name": "stdout",
     "output_type": "stream",
     "text": [
      "6\n"
     ]
    }
   ],
   "source": [
    "a = 20\n",
    "b = 3\n",
    "print(a // b)"
   ]
  },
  {
   "cell_type": "markdown",
   "id": "industrial-tower",
   "metadata": {},
   "source": [
    "<b>Modulus Operator</b>"
   ]
  },
  {
   "cell_type": "markdown",
   "id": "accompanied-tribune",
   "metadata": {},
   "source": [
    " In Python, % is the modulus operator and it is used to find the remainder when first operand is divided by the second."
   ]
  },
  {
   "cell_type": "code",
   "execution_count": 11,
   "id": "surrounded-senegal",
   "metadata": {},
   "outputs": [
    {
     "data": {
      "text/plain": [
       "1"
      ]
     },
     "execution_count": 11,
     "metadata": {},
     "output_type": "execute_result"
    }
   ],
   "source": [
    "11%5"
   ]
  },
  {
   "cell_type": "code",
   "execution_count": 12,
   "id": "rational-blink",
   "metadata": {},
   "outputs": [
    {
     "name": "stdout",
     "output_type": "stream",
     "text": [
      "2\n"
     ]
    }
   ],
   "source": [
    "a = 20\n",
    "b = 3\n",
    "print(a % b)"
   ]
  },
  {
   "cell_type": "markdown",
   "id": "prerequisite-newport",
   "metadata": {},
   "source": [
    "<b>Exponential Operator</b>"
   ]
  },
  {
   "cell_type": "markdown",
   "id": "legal-integer",
   "metadata": {},
   "source": [
    " In Python, ** is the exponentiation operator and it is used to raise the first operand to power of second."
   ]
  },
  {
   "cell_type": "code",
   "execution_count": 13,
   "id": "pleasant-melbourne",
   "metadata": {},
   "outputs": [
    {
     "data": {
      "text/plain": [
       "32"
      ]
     },
     "execution_count": 13,
     "metadata": {},
     "output_type": "execute_result"
    }
   ],
   "source": [
    "2**5"
   ]
  },
  {
   "cell_type": "code",
   "execution_count": 14,
   "id": "decimal-annual",
   "metadata": {},
   "outputs": [
    {
     "name": "stdout",
     "output_type": "stream",
     "text": [
      "9\n"
     ]
    }
   ],
   "source": [
    "a = 3\n",
    "b = 2\n",
    "print(a ** b)"
   ]
  },
  {
   "cell_type": "markdown",
   "id": "competitive-expansion",
   "metadata": {},
   "source": [
    "These were the Basic Arithmetic Operators. In the next repository, I'll discuss about more Operators in Python."
   ]
  }
 ],
 "metadata": {
  "kernelspec": {
   "display_name": "Python 3",
   "language": "python",
   "name": "python3"
  },
  "language_info": {
   "codemirror_mode": {
    "name": "ipython",
    "version": 3
   },
   "file_extension": ".py",
   "mimetype": "text/x-python",
   "name": "python",
   "nbconvert_exporter": "python",
   "pygments_lexer": "ipython3",
   "version": "3.9.6"
  }
 },
 "nbformat": 4,
 "nbformat_minor": 5
}
