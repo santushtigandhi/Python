{
 "cells": [
  {
   "cell_type": "markdown",
   "id": "dominican-knowing",
   "metadata": {},
   "source": [
    "<b><center>Some more Operators</center></b>"
   ]
  },
  {
   "cell_type": "markdown",
   "id": "weighted-rachel",
   "metadata": {},
   "source": [
    "Operators are the constructs which can manipulate the value of operands. <br>\n",
    "\n",
    "Consider the expression 20 + 5 = 25. Here, 20 and 5 are called operands and + is called operator."
   ]
  },
  {
   "cell_type": "markdown",
   "id": "shared-trinidad",
   "metadata": {},
   "source": [
    "Python language supports the following types of operators.\n",
    "\n",
    "- Arithmetic Operators\n",
    "- Comparison (Relational) Operators\n",
    "- Assignment Operators\n",
    "- Logical Operators\n",
    "- Bitwise Operators\n",
    "- Membership Operators\n",
    "- Identity Operators"
   ]
  },
  {
   "cell_type": "markdown",
   "id": "chubby-sodium",
   "metadata": {},
   "source": [
    "Now we already discussed Arithmetic Operators in the last repository, now let's discuss other operators as well."
   ]
  },
  {
   "cell_type": "markdown",
   "id": "tutorial-league",
   "metadata": {},
   "source": [
    "<b>Comparison Operator</b>"
   ]
  },
  {
   "cell_type": "markdown",
   "id": "regional-running",
   "metadata": {},
   "source": [
    "These operators compare the values on either sides of them and decide the relation among them. They are also called Relational operators."
   ]
  },
  {
   "cell_type": "markdown",
   "id": "dedicated-oregon",
   "metadata": {},
   "source": [
    "- == Operator"
   ]
  },
  {
   "cell_type": "markdown",
   "id": "parallel-tooth",
   "metadata": {},
   "source": [
    "If the values of two operands are equal, then the condition becomes true."
   ]
  },
  {
   "cell_type": "code",
   "execution_count": 1,
   "id": "measured-creek",
   "metadata": {},
   "outputs": [
    {
     "data": {
      "text/plain": [
       "False"
      ]
     },
     "execution_count": 1,
     "metadata": {},
     "output_type": "execute_result"
    }
   ],
   "source": [
    "4==5"
   ]
  },
  {
   "cell_type": "code",
   "execution_count": 2,
   "id": "fitted-bride",
   "metadata": {},
   "outputs": [
    {
     "name": "stdout",
     "output_type": "stream",
     "text": [
      "True\n"
     ]
    }
   ],
   "source": [
    "a = 2\n",
    "b = 2\n",
    "print(a == b)"
   ]
  },
  {
   "cell_type": "markdown",
   "id": "graduate-index",
   "metadata": {},
   "source": [
    "- != Operator"
   ]
  },
  {
   "cell_type": "markdown",
   "id": "varying-virgin",
   "metadata": {},
   "source": [
    "If values of two operands are not equal, then condition becomes true.If values of two operands are not equal, then condition becomes true."
   ]
  },
  {
   "cell_type": "code",
   "execution_count": 3,
   "id": "decimal-custom",
   "metadata": {},
   "outputs": [
    {
     "data": {
      "text/plain": [
       "True"
      ]
     },
     "execution_count": 3,
     "metadata": {},
     "output_type": "execute_result"
    }
   ],
   "source": [
    "4!=5"
   ]
  },
  {
   "cell_type": "code",
   "execution_count": 4,
   "id": "described-society",
   "metadata": {},
   "outputs": [
    {
     "name": "stdout",
     "output_type": "stream",
     "text": [
      "False\n"
     ]
    }
   ],
   "source": [
    "a = 2\n",
    "b = 2\n",
    "print(a != b)"
   ]
  },
  {
   "cell_type": "markdown",
   "id": "initial-laptop",
   "metadata": {},
   "source": [
    "-     > Operator"
   ]
  },
  {
   "cell_type": "markdown",
   "id": "herbal-motel",
   "metadata": {},
   "source": [
    "If the value of left operand is greater than the value of right operand, then condition becomes true."
   ]
  },
  {
   "cell_type": "code",
   "execution_count": 5,
   "id": "super-gambling",
   "metadata": {},
   "outputs": [
    {
     "data": {
      "text/plain": [
       "False"
      ]
     },
     "execution_count": 5,
     "metadata": {},
     "output_type": "execute_result"
    }
   ],
   "source": [
    "4 > 5"
   ]
  },
  {
   "cell_type": "code",
   "execution_count": 6,
   "id": "advanced-excellence",
   "metadata": {},
   "outputs": [
    {
     "name": "stdout",
     "output_type": "stream",
     "text": [
      "True\n"
     ]
    }
   ],
   "source": [
    "a = 5\n",
    "b = 2\n",
    "print(a > b)"
   ]
  },
  {
   "cell_type": "markdown",
   "id": "settled-client",
   "metadata": {},
   "source": [
    "-     >= Operator"
   ]
  },
  {
   "cell_type": "markdown",
   "id": "spatial-enclosure",
   "metadata": {},
   "source": [
    "If the value of left operand is greater than or equal to the value of right operand, then condition becomes true. If we enter two equal numbers and put > operand then it will give us False. For that we use greater than equal to operator (>=)"
   ]
  },
  {
   "cell_type": "code",
   "execution_count": 7,
   "id": "premier-poster",
   "metadata": {},
   "outputs": [
    {
     "data": {
      "text/plain": [
       "False"
      ]
     },
     "execution_count": 7,
     "metadata": {},
     "output_type": "execute_result"
    }
   ],
   "source": [
    "5 > 5"
   ]
  },
  {
   "cell_type": "code",
   "execution_count": 8,
   "id": "seventh-living",
   "metadata": {},
   "outputs": [
    {
     "data": {
      "text/plain": [
       "True"
      ]
     },
     "execution_count": 8,
     "metadata": {},
     "output_type": "execute_result"
    }
   ],
   "source": [
    "5 >= 5"
   ]
  },
  {
   "cell_type": "code",
   "execution_count": 9,
   "id": "secure-documentary",
   "metadata": {},
   "outputs": [
    {
     "name": "stdout",
     "output_type": "stream",
     "text": [
      "True\n"
     ]
    }
   ],
   "source": [
    "a = 5\n",
    "b = 2\n",
    "print(a >= b)"
   ]
  },
  {
   "cell_type": "markdown",
   "id": "professional-appraisal",
   "metadata": {},
   "source": [
    "-     < Operator"
   ]
  },
  {
   "cell_type": "markdown",
   "id": "prepared-relative",
   "metadata": {},
   "source": [
    "If the value of left operand is less than the value of right operand, then condition becomes true."
   ]
  },
  {
   "cell_type": "code",
   "execution_count": 10,
   "id": "enormous-studio",
   "metadata": {},
   "outputs": [
    {
     "data": {
      "text/plain": [
       "True"
      ]
     },
     "execution_count": 10,
     "metadata": {},
     "output_type": "execute_result"
    }
   ],
   "source": [
    "4 < 5"
   ]
  },
  {
   "cell_type": "code",
   "execution_count": 11,
   "id": "worthy-folks",
   "metadata": {},
   "outputs": [
    {
     "name": "stdout",
     "output_type": "stream",
     "text": [
      "False\n"
     ]
    }
   ],
   "source": [
    "a = 2\n",
    "b = 1\n",
    "print( a < b)"
   ]
  },
  {
   "cell_type": "markdown",
   "id": "valuable-average",
   "metadata": {},
   "source": [
    "-     <= Operator"
   ]
  },
  {
   "cell_type": "markdown",
   "id": "brilliant-davis",
   "metadata": {},
   "source": [
    "If the value of left operand is less than or equal to the value of right operand, then condition becomes true. If we enter two equal numbers and put < operand then it will give us False. For that we use less than equal to operator (<=)"
   ]
  },
  {
   "cell_type": "code",
   "execution_count": 12,
   "id": "cathedral-portable",
   "metadata": {},
   "outputs": [
    {
     "data": {
      "text/plain": [
       "False"
      ]
     },
     "execution_count": 12,
     "metadata": {},
     "output_type": "execute_result"
    }
   ],
   "source": [
    "5 < 5"
   ]
  },
  {
   "cell_type": "code",
   "execution_count": 13,
   "id": "conditional-brisbane",
   "metadata": {},
   "outputs": [
    {
     "data": {
      "text/plain": [
       "True"
      ]
     },
     "execution_count": 13,
     "metadata": {},
     "output_type": "execute_result"
    }
   ],
   "source": [
    "5 <= 5"
   ]
  },
  {
   "cell_type": "code",
   "execution_count": 14,
   "id": "important-eleven",
   "metadata": {},
   "outputs": [
    {
     "name": "stdout",
     "output_type": "stream",
     "text": [
      "False\n"
     ]
    }
   ],
   "source": [
    "a = 2\n",
    "b = 1\n",
    "print( a <= b)"
   ]
  },
  {
   "cell_type": "markdown",
   "id": "radio-alignment",
   "metadata": {},
   "source": [
    "<b>Assignment Operator</b>"
   ]
  },
  {
   "cell_type": "markdown",
   "id": "opposite-bulletin",
   "metadata": {},
   "source": [
    "As the name suggests this operator assigns the value. "
   ]
  },
  {
   "cell_type": "markdown",
   "id": "italian-diesel",
   "metadata": {},
   "source": [
    "- = Operator"
   ]
  },
  {
   "cell_type": "markdown",
   "id": "quantitative-prescription",
   "metadata": {},
   "source": [
    "It assigns values from right side operands to left side operand."
   ]
  },
  {
   "cell_type": "code",
   "execution_count": 15,
   "id": "welsh-parts",
   "metadata": {},
   "outputs": [
    {
     "name": "stdout",
     "output_type": "stream",
     "text": [
      "6\n"
     ]
    }
   ],
   "source": [
    "a = 2\n",
    "b = 4\n",
    "c = a + b\n",
    "print(c)"
   ]
  },
  {
   "cell_type": "markdown",
   "id": "northern-package",
   "metadata": {},
   "source": [
    "- += Operator"
   ]
  },
  {
   "cell_type": "markdown",
   "id": "distributed-doubt",
   "metadata": {},
   "source": [
    "It adds right operand to the left operand and assign the result to left operand. <br>\n",
    "a += b is same as a = a + b"
   ]
  },
  {
   "cell_type": "code",
   "execution_count": 16,
   "id": "parental-freeware",
   "metadata": {},
   "outputs": [
    {
     "name": "stdout",
     "output_type": "stream",
     "text": [
      "7\n"
     ]
    }
   ],
   "source": [
    "a = 5\n",
    "b = 2\n",
    "a += b\n",
    "print(a)"
   ]
  },
  {
   "cell_type": "markdown",
   "id": "conditional-destruction",
   "metadata": {},
   "source": [
    "- -= Operator"
   ]
  },
  {
   "cell_type": "markdown",
   "id": "stunning-patrol",
   "metadata": {},
   "source": [
    "It subtracts right operand from the left operand and assign the result to left operand. <br>\n",
    "a -=b is same as a = a - b"
   ]
  },
  {
   "cell_type": "code",
   "execution_count": 17,
   "id": "disciplinary-testing",
   "metadata": {},
   "outputs": [
    {
     "name": "stdout",
     "output_type": "stream",
     "text": [
      "3\n"
     ]
    }
   ],
   "source": [
    "a = 5\n",
    "b = 2\n",
    "a -= b\n",
    "print(a)"
   ]
  },
  {
   "cell_type": "markdown",
   "id": "interesting-coverage",
   "metadata": {},
   "source": [
    "- *= Operator"
   ]
  },
  {
   "cell_type": "markdown",
   "id": "different-camera",
   "metadata": {},
   "source": [
    "It multiplies right operand with the left operand and assign the result to left operand. <br>\n",
    "a *=b is same as a = a * b"
   ]
  },
  {
   "cell_type": "code",
   "execution_count": 18,
   "id": "grave-polymer",
   "metadata": {},
   "outputs": [
    {
     "name": "stdout",
     "output_type": "stream",
     "text": [
      "10\n"
     ]
    }
   ],
   "source": [
    "a = 5\n",
    "b = 2\n",
    "a *= b\n",
    "print(a)"
   ]
  },
  {
   "cell_type": "markdown",
   "id": "normal-allah",
   "metadata": {},
   "source": [
    "- /= Operator"
   ]
  },
  {
   "cell_type": "markdown",
   "id": "racial-terrace",
   "metadata": {},
   "source": [
    "It divides left operand with the right operand and assign the result to left operand. <br>\n",
    "a /=b is same as a = a / b"
   ]
  },
  {
   "cell_type": "code",
   "execution_count": 19,
   "id": "ideal-duplicate",
   "metadata": {},
   "outputs": [
    {
     "name": "stdout",
     "output_type": "stream",
     "text": [
      "2.5\n"
     ]
    }
   ],
   "source": [
    "a = 5\n",
    "b = 2\n",
    "a /= b\n",
    "print(a)"
   ]
  },
  {
   "cell_type": "markdown",
   "id": "informed-watershed",
   "metadata": {},
   "source": [
    "- %= Operator"
   ]
  },
  {
   "cell_type": "markdown",
   "id": "small-cloud",
   "metadata": {},
   "source": [
    "It takes modulus using two operands and assign the result to left operand. <br>\n",
    "a %=b is same as a = a % b"
   ]
  },
  {
   "cell_type": "code",
   "execution_count": 20,
   "id": "broadband-repair",
   "metadata": {},
   "outputs": [
    {
     "name": "stdout",
     "output_type": "stream",
     "text": [
      "1\n"
     ]
    }
   ],
   "source": [
    "a = 5\n",
    "b = 2\n",
    "a %= b\n",
    "print(a)"
   ]
  },
  {
   "cell_type": "markdown",
   "id": "referenced-validity",
   "metadata": {},
   "source": [
    "- **= Operator"
   ]
  },
  {
   "cell_type": "markdown",
   "id": "wrong-metallic",
   "metadata": {},
   "source": [
    "It performs exponential (power) calculation on operators and assign value to the left operand. <br>\n",
    "a **=b is same as a = a ** b"
   ]
  },
  {
   "cell_type": "code",
   "execution_count": 21,
   "id": "impressive-sudan",
   "metadata": {},
   "outputs": [
    {
     "name": "stdout",
     "output_type": "stream",
     "text": [
      "25\n"
     ]
    }
   ],
   "source": [
    "a = 5\n",
    "b = 2\n",
    "a **= b\n",
    "print(a)"
   ]
  },
  {
   "cell_type": "markdown",
   "id": "conscious-bumper",
   "metadata": {},
   "source": [
    "- //= Operator"
   ]
  },
  {
   "cell_type": "markdown",
   "id": "corresponding-truth",
   "metadata": {},
   "source": [
    "It performs floor division on operators and assign value to the left operand. <br>\n",
    "a //=b is same as a = a // b"
   ]
  },
  {
   "cell_type": "code",
   "execution_count": 22,
   "id": "partial-sister",
   "metadata": {},
   "outputs": [
    {
     "name": "stdout",
     "output_type": "stream",
     "text": [
      "2\n"
     ]
    }
   ],
   "source": [
    "a = 5\n",
    "b = 2\n",
    "a //= b\n",
    "print(a)"
   ]
  },
  {
   "cell_type": "markdown",
   "id": "involved-casino",
   "metadata": {},
   "source": [
    "<b>Bitwise Operator</b>"
   ]
  },
  {
   "cell_type": "markdown",
   "id": "front-synthetic",
   "metadata": {},
   "source": [
    "Bitwise operator works on bits and performs bit by bit operation."
   ]
  },
  {
   "cell_type": "markdown",
   "id": "available-principle",
   "metadata": {},
   "source": [
    "- & Binary AND"
   ]
  },
  {
   "cell_type": "markdown",
   "id": "sealed-compound",
   "metadata": {},
   "source": [
    "This Operator copies a bit to the result if it exists in both operands"
   ]
  },
  {
   "cell_type": "code",
   "execution_count": 23,
   "id": "colored-aerospace",
   "metadata": {},
   "outputs": [
    {
     "name": "stdout",
     "output_type": "stream",
     "text": [
      "4\n"
     ]
    }
   ],
   "source": [
    "a = 20\n",
    "b = 13\n",
    "c = a&b\n",
    "print(c)"
   ]
  },
  {
   "cell_type": "markdown",
   "id": "prostate-correlation",
   "metadata": {},
   "source": [
    "- | Binary OR"
   ]
  },
  {
   "cell_type": "markdown",
   "id": "neither-sugar",
   "metadata": {},
   "source": [
    "It copies a bit if it exists in either operand."
   ]
  },
  {
   "cell_type": "code",
   "execution_count": 24,
   "id": "canadian-regression",
   "metadata": {},
   "outputs": [
    {
     "name": "stdout",
     "output_type": "stream",
     "text": [
      "29\n"
     ]
    }
   ],
   "source": [
    "a = 20\n",
    "b = 13\n",
    "c = a|b\n",
    "print(c)"
   ]
  },
  {
   "cell_type": "markdown",
   "id": "mechanical-violin",
   "metadata": {},
   "source": [
    "- ^ Binary XOR"
   ]
  },
  {
   "cell_type": "markdown",
   "id": "robust-croatia",
   "metadata": {},
   "source": [
    "It copies the bit if it is set in one operand but not both."
   ]
  },
  {
   "cell_type": "code",
   "execution_count": 25,
   "id": "chronic-pharmacy",
   "metadata": {},
   "outputs": [
    {
     "name": "stdout",
     "output_type": "stream",
     "text": [
      "25\n"
     ]
    }
   ],
   "source": [
    "a = 20\n",
    "b = 13\n",
    "c = a^b\n",
    "print(c)"
   ]
  },
  {
   "cell_type": "markdown",
   "id": "opposed-blackjack",
   "metadata": {},
   "source": [
    "- ~ Binary Ones Complement"
   ]
  },
  {
   "cell_type": "markdown",
   "id": "common-fitting",
   "metadata": {},
   "source": [
    "It is unary and has the effect of 'flipping' bits. It does 2's complement of the bits."
   ]
  },
  {
   "cell_type": "code",
   "execution_count": 26,
   "id": "northern-pointer",
   "metadata": {},
   "outputs": [
    {
     "name": "stdout",
     "output_type": "stream",
     "text": [
      "-21\n"
     ]
    }
   ],
   "source": [
    "a = 20\n",
    "print(~a)"
   ]
  },
  {
   "cell_type": "markdown",
   "id": "experimental-signal",
   "metadata": {},
   "source": [
    "- << Binary Left Shift"
   ]
  },
  {
   "cell_type": "markdown",
   "id": "competitive-logistics",
   "metadata": {},
   "source": [
    "The left operands value is moved left by the number of bits specified by the right operand."
   ]
  },
  {
   "cell_type": "markdown",
   "id": "democratic-royalty",
   "metadata": {},
   "source": [
    "-      >> Binary Right Shift"
   ]
  },
  {
   "cell_type": "markdown",
   "id": "stable-syria",
   "metadata": {},
   "source": [
    "The left operands value is moved right by the number of bits specified by the right operand."
   ]
  },
  {
   "cell_type": "code",
   "execution_count": 27,
   "id": "competent-mystery",
   "metadata": {},
   "outputs": [
    {
     "name": "stdout",
     "output_type": "stream",
     "text": [
      "80\n",
      "5\n"
     ]
    }
   ],
   "source": [
    "a = 20\n",
    "print(a<<2)\n",
    "print(a>>2)"
   ]
  },
  {
   "cell_type": "markdown",
   "id": "oriental-referral",
   "metadata": {},
   "source": [
    "<b>Logical Operators</b>"
   ]
  },
  {
   "cell_type": "markdown",
   "id": "posted-pursuit",
   "metadata": {},
   "source": [
    "- and Logical AND"
   ]
  },
  {
   "cell_type": "markdown",
   "id": "initial-thompson",
   "metadata": {},
   "source": [
    "If both the operands are true then condition becomes true."
   ]
  },
  {
   "cell_type": "code",
   "execution_count": 28,
   "id": "athletic-lightweight",
   "metadata": {},
   "outputs": [
    {
     "name": "stdout",
     "output_type": "stream",
     "text": [
      "True\n"
     ]
    }
   ],
   "source": [
    "a = 2\n",
    "b = 3\n",
    "c = 1\n",
    "d = (a < b) and (c < a)  # 2<3 Yes so it will result in True and 1<2 Yes, so it will also result in True. True and True = True\n",
    "print(d)"
   ]
  },
  {
   "cell_type": "markdown",
   "id": "athletic-membrane",
   "metadata": {},
   "source": [
    "True and True = True <br>\n",
    "True and False = False <br>\n",
    "False and True = False <br>\n",
    "False and False = False <br>\n",
    "<b>Note : </b> AND Operator will only return True when both of the conditions are true."
   ]
  },
  {
   "cell_type": "markdown",
   "id": "valid-sarah",
   "metadata": {},
   "source": [
    "- or Logical OR"
   ]
  },
  {
   "cell_type": "markdown",
   "id": "smoking-atlantic",
   "metadata": {},
   "source": [
    "If any of the two operands are non-zero then condition becomes true."
   ]
  },
  {
   "cell_type": "code",
   "execution_count": 29,
   "id": "better-contemporary",
   "metadata": {},
   "outputs": [
    {
     "name": "stdout",
     "output_type": "stream",
     "text": [
      "True\n"
     ]
    }
   ],
   "source": [
    "a = 2\n",
    "b = 3\n",
    "c = 1\n",
    "d = (a < b) or (c > a)  # 2<3 Yes so it will result in True and 1>2 No, so it will result in False. True or False = True\n",
    "print(d)"
   ]
  },
  {
   "cell_type": "markdown",
   "id": "focused-wesley",
   "metadata": {},
   "source": [
    "True or True = True <br>\n",
    "True or False = True <br>\n",
    "False or True = True <br>\n",
    "False or False = False <br>\n",
    "<b>Note : </b> OR Operator will only return False when both of the conditions are false."
   ]
  },
  {
   "cell_type": "markdown",
   "id": "crucial-wagon",
   "metadata": {},
   "source": [
    "- not Logical NOT"
   ]
  },
  {
   "cell_type": "markdown",
   "id": "technological-lindsay",
   "metadata": {},
   "source": [
    "It is used to reverse the logical state of its operand."
   ]
  },
  {
   "cell_type": "code",
   "execution_count": 30,
   "id": "executive-cedar",
   "metadata": {},
   "outputs": [
    {
     "name": "stdout",
     "output_type": "stream",
     "text": [
      "False\n"
     ]
    }
   ],
   "source": [
    "a = 2\n",
    "b = 3\n",
    "c = 1\n",
    "d = not(a < b) or (c > a)  # 2<3 Yes so it will result in True but because of not True changes to False and 1>2 No, so it will result in False. False or False = False\n",
    "print(d)"
   ]
  },
  {
   "cell_type": "code",
   "execution_count": 31,
   "id": "promising-stranger",
   "metadata": {},
   "outputs": [
    {
     "name": "stdout",
     "output_type": "stream",
     "text": [
      "False\n"
     ]
    }
   ],
   "source": [
    "a = 2\n",
    "b = 3\n",
    "c = 1\n",
    "d = (a < b) and not(c < a)  # 2<3 Yes so it will result in True and 1<2 Yes, so it will also result in True but because of not True changes to False. True and False = False\n",
    "print(d)"
   ]
  },
  {
   "cell_type": "markdown",
   "id": "editorial-bahamas",
   "metadata": {},
   "source": [
    "<b> Membership Operator </b>"
   ]
  },
  {
   "cell_type": "markdown",
   "id": "distinct-hazard",
   "metadata": {},
   "source": [
    "Python’s membership operators test for membership in a sequence, such as strings, lists, or tuples."
   ]
  },
  {
   "cell_type": "markdown",
   "id": "attended-norwegian",
   "metadata": {},
   "source": [
    "- in"
   ]
  },
  {
   "cell_type": "markdown",
   "id": "hydraulic-juice",
   "metadata": {},
   "source": [
    "It evaluates to true if it finds a variable in the specified sequence and false otherwise."
   ]
  },
  {
   "cell_type": "code",
   "execution_count": 32,
   "id": "better-hamburg",
   "metadata": {},
   "outputs": [
    {
     "name": "stdout",
     "output_type": "stream",
     "text": [
      "True\n"
     ]
    }
   ],
   "source": [
    "s = \"Hello\"\n",
    "print('e' in s)"
   ]
  },
  {
   "cell_type": "markdown",
   "id": "inappropriate-amateur",
   "metadata": {},
   "source": [
    "- not in"
   ]
  },
  {
   "cell_type": "markdown",
   "id": "together-performer",
   "metadata": {},
   "source": [
    "It evaluates to true if it does not finds a variable in the specified sequence and false otherwise."
   ]
  },
  {
   "cell_type": "code",
   "execution_count": 33,
   "id": "recognized-entrance",
   "metadata": {},
   "outputs": [
    {
     "name": "stdout",
     "output_type": "stream",
     "text": [
      "False\n"
     ]
    }
   ],
   "source": [
    "s = \"Hello\"\n",
    "print('e' not in s)"
   ]
  },
  {
   "cell_type": "markdown",
   "id": "likely-customer",
   "metadata": {},
   "source": [
    "<b> Identity Operator </b>"
   ]
  },
  {
   "cell_type": "markdown",
   "id": "fitted-islam",
   "metadata": {},
   "source": [
    "Identity operators compare the memory locations of two objects and also the value of two variables."
   ]
  },
  {
   "cell_type": "markdown",
   "id": "suited-scratch",
   "metadata": {},
   "source": [
    "- is"
   ]
  },
  {
   "cell_type": "markdown",
   "id": "improved-appraisal",
   "metadata": {},
   "source": [
    "It evaluates to true if the variables on either side of the operator point to the same object and false otherwise."
   ]
  },
  {
   "cell_type": "code",
   "execution_count": 34,
   "id": "constitutional-rental",
   "metadata": {},
   "outputs": [
    {
     "name": "stdout",
     "output_type": "stream",
     "text": [
      "False\n"
     ]
    }
   ],
   "source": [
    "a = 5\n",
    "b = 10\n",
    "print(a is b)"
   ]
  },
  {
   "cell_type": "markdown",
   "id": "handy-motel",
   "metadata": {},
   "source": [
    "- not is"
   ]
  },
  {
   "cell_type": "markdown",
   "id": "mediterranean-portrait",
   "metadata": {},
   "source": [
    "It evaluates to false if the variables on either side of the operator point to the same object and true otherwise."
   ]
  },
  {
   "cell_type": "code",
   "execution_count": 35,
   "id": "mature-belly",
   "metadata": {},
   "outputs": [
    {
     "name": "stdout",
     "output_type": "stream",
     "text": [
      "True\n"
     ]
    }
   ],
   "source": [
    "a = 5\n",
    "b = 10\n",
    "print(a is not b)"
   ]
  },
  {
   "cell_type": "markdown",
   "id": "armed-principle",
   "metadata": {},
   "source": [
    "We finished all the operators in Python. But before ending this repository, there is something you should know about these operators. <br>\n",
    "If you ever faced a complex statement with all the operators, you should always remember the precedence of all the operators."
   ]
  },
  {
   "cell_type": "markdown",
   "id": "concerned-divide",
   "metadata": {},
   "source": [
    "<img src=\"https://img.brainkart.com/imagebk36/G2hID2U.jpg\"></img>"
   ]
  },
  {
   "cell_type": "code",
   "execution_count": 36,
   "id": "vocational-housing",
   "metadata": {},
   "outputs": [
    {
     "name": "stdout",
     "output_type": "stream",
     "text": [
      "50.0\n"
     ]
    }
   ],
   "source": [
    "a = 20\n",
    "b = 10\n",
    "c = 15\n",
    "d = 5\n",
    "\n",
    "e = a + b * c / d       # 20 + 10 * 15 / 5. * and / have more precendence than +. However * and / the same precedence, so we generally go from left to right. \n",
    "print(e)                # 20 + 150/5 = 20 + 30.0 = 50.0"
   ]
  },
  {
   "cell_type": "markdown",
   "id": "local-inflation",
   "metadata": {},
   "source": [
    "However, if we use brackets then the answer will differ. "
   ]
  },
  {
   "cell_type": "code",
   "execution_count": 37,
   "id": "dutch-legislature",
   "metadata": {},
   "outputs": [
    {
     "name": "stdout",
     "output_type": "stream",
     "text": [
      "90.0\n"
     ]
    }
   ],
   "source": [
    "a = 20\n",
    "b = 10\n",
    "c = 15\n",
    "d = 5\n",
    "\n",
    "e = (a + b) * c / d       # (20 + 10) * 15 / 5. Here, although * and / have more precendence than + but due to bracket that expession will be evaluated first.\n",
    "print(e)                # 30 * 15 / 5 = 450/5 = 90.0"
   ]
  },
  {
   "cell_type": "markdown",
   "id": "honey-theta",
   "metadata": {},
   "source": [
    "Hence, it is really important to know the pecendence of the operators."
   ]
  }
 ],
 "metadata": {
  "kernelspec": {
   "display_name": "Python 3",
   "language": "python",
   "name": "python3"
  },
  "language_info": {
   "codemirror_mode": {
    "name": "ipython",
    "version": 3
   },
   "file_extension": ".py",
   "mimetype": "text/x-python",
   "name": "python",
   "nbconvert_exporter": "python",
   "pygments_lexer": "ipython3",
   "version": "3.9.6"
  }
 },
 "nbformat": 4,
 "nbformat_minor": 5
}
