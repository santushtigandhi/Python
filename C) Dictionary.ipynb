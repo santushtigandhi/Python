{
 "cells": [
  {
   "cell_type": "markdown",
   "id": "9e2267fc-07f5-417d-8b79-f1af31b1265c",
   "metadata": {},
   "source": [
    "<b>Dictionary</b>"
   ]
  },
  {
   "cell_type": "markdown",
   "id": "8ea520af-83c3-4eda-9005-52d1e9d70c9e",
   "metadata": {},
   "source": [
    "Dictionaries are used to store data values in key:value pairs. A dictionary is a collection which is ordered, changeable and do not allow duplicates."
   ]
  },
  {
   "cell_type": "markdown",
   "id": "98bf6fe6-0376-4a8f-aa98-c3c07c252e03",
   "metadata": {},
   "source": [
    "Dictionaries are written with curly brackets, and have keys and values. "
   ]
  },
  {
   "cell_type": "code",
   "execution_count": 1,
   "id": "72e0bde6-9646-4f29-a0fc-f39046e51fb6",
   "metadata": {},
   "outputs": [
    {
     "name": "stdout",
     "output_type": "stream",
     "text": [
      "{'Apple': 1, 'Banana': 2, 'Cherry': 3}\n"
     ]
    }
   ],
   "source": [
    "a = {\n",
    "  \"Apple\": 1,\n",
    "  \"Banana\": 2,\n",
    "  \"Cherry\": 3\n",
    "}\n",
    "print(a)"
   ]
  },
  {
   "cell_type": "markdown",
   "id": "0f1e24ab-e3b4-4d96-8382-ec5728711c33",
   "metadata": {},
   "source": [
    "When we say that dictionaries are ordered, it means that the items have a defined order, and that order will not change.\n"
   ]
  },
  {
   "cell_type": "markdown",
   "id": "58baaa75-783b-4fff-9fb2-2012da74b8cf",
   "metadata": {},
   "source": [
    "Dictionaries are changeable, meaning that we can change, add or remove items after the dictionary has been created."
   ]
  },
  {
   "cell_type": "markdown",
   "id": "c26f4a51-b798-43ca-86d1-988643458e17",
   "metadata": {},
   "source": [
    "Dictionaries cannot have two items with the same key."
   ]
  },
  {
   "cell_type": "code",
   "execution_count": 2,
   "id": "29136c4a-f9af-4369-9063-92d16f127103",
   "metadata": {},
   "outputs": [
    {
     "name": "stdout",
     "output_type": "stream",
     "text": [
      "{'Apple': 4, 'Banana': 2, 'Cherry': 3}\n"
     ]
    }
   ],
   "source": [
    "a = {\n",
    "  \"Apple\": 1,\n",
    "  \"Banana\": 2,\n",
    "  \"Cherry\": 3,\n",
    "  \"Apple\": 4\n",
    "}\n",
    "print(a)"
   ]
  },
  {
   "cell_type": "markdown",
   "id": "0ed9d15d-02a9-4c36-9449-21c448922f16",
   "metadata": {},
   "source": [
    "As you can see Apple is repeated, so Apple is printed once in the dictionary and it's last occurred value is written as its value."
   ]
  },
  {
   "cell_type": "markdown",
   "id": "8154bd8d-f6cb-4589-bec9-8d71bb9e53b9",
   "metadata": {},
   "source": [
    "To determine how many items a dictionary has, use the len() function."
   ]
  },
  {
   "cell_type": "code",
   "execution_count": 3,
   "id": "71fbd734-df0d-4635-be0f-68985dbed75e",
   "metadata": {},
   "outputs": [
    {
     "name": "stdout",
     "output_type": "stream",
     "text": [
      "3\n"
     ]
    }
   ],
   "source": [
    "a = {\n",
    "  \"Apple\": 1,\n",
    "  \"Banana\": 2,\n",
    "  \"Cherry\": 3\n",
    "}\n",
    "print(len(a))"
   ]
  },
  {
   "cell_type": "code",
   "execution_count": 4,
   "id": "c4d7c074-7a78-4578-b752-366f18908404",
   "metadata": {},
   "outputs": [
    {
     "name": "stdout",
     "output_type": "stream",
     "text": [
      "{'Apple': 2, 'Rice': 2.5, 'Bag': 'Plastic', 'Home': True}\n"
     ]
    }
   ],
   "source": [
    "a = {\n",
    "  \"Apple\": 2,\n",
    "  \"Rice\": 2.5,\n",
    "  \"Bag\": \"Plastic\",\n",
    "  \"Home\":True\n",
    "}\n",
    "print(a)"
   ]
  },
  {
   "cell_type": "markdown",
   "id": "4979540a-8fd5-4442-af1f-ccf1427d5082",
   "metadata": {},
   "source": [
    "As you can see from the above example, that the values in dictionary items can be of any data type."
   ]
  },
  {
   "cell_type": "code",
   "execution_count": 5,
   "id": "efbe28e0-8489-456a-9542-f76b79377ccc",
   "metadata": {},
   "outputs": [
    {
     "name": "stdout",
     "output_type": "stream",
     "text": [
      "<class 'dict'>\n",
      "{'Apple': 2, 'Rice': 2.5, 'Bag': 'Plastic', 'Home': True}\n"
     ]
    }
   ],
   "source": [
    "a = {\n",
    "  \"Apple\": 2,\n",
    "  \"Rice\": 2.5,\n",
    "  \"Bag\": \"Plastic\",\n",
    "  \"Home\":True\n",
    "}\n",
    "print(type(a)) #It is used to print the data type of 'a'\n",
    "print(a)"
   ]
  },
  {
   "cell_type": "markdown",
   "id": "0b200445-bd8b-4b71-98d7-f46b63c42e72",
   "metadata": {},
   "source": [
    "<b>Accessing elements from Dictionary</b>"
   ]
  },
  {
   "cell_type": "markdown",
   "id": "e2ffc790-8cde-4484-863d-e15ecaccc8d3",
   "metadata": {},
   "source": [
    "While indexing is used with other data types to access values, a dictionary uses keys. Keys can be used either inside square brackets [] or with the get() method.\n",
    "\n",
    "If we use the square brackets [] while accessing keys so KeyError is raised in case a key is not found in the dictionary. On the other hand, the get() method returns None if the key is not found."
   ]
  },
  {
   "cell_type": "code",
   "execution_count": 7,
   "id": "96f34f8d-bd1a-4f61-8346-7e4af762d06d",
   "metadata": {},
   "outputs": [
    {
     "name": "stdout",
     "output_type": "stream",
     "text": [
      "1\n",
      "3\n",
      "None\n"
     ]
    },
    {
     "ename": "KeyError",
     "evalue": "'Mango'",
     "output_type": "error",
     "traceback": [
      "\u001b[0;31m---------------------------------------------------------------------------\u001b[0m",
      "\u001b[0;31mKeyError\u001b[0m                                  Traceback (most recent call last)",
      "Input \u001b[0;32mIn [7]\u001b[0m, in \u001b[0;36m<cell line: 9>\u001b[0;34m()\u001b[0m\n\u001b[1;32m      7\u001b[0m \u001b[38;5;28mprint\u001b[39m(a\u001b[38;5;241m.\u001b[39mget(\u001b[38;5;124m'\u001b[39m\u001b[38;5;124mCherry\u001b[39m\u001b[38;5;124m'\u001b[39m))\n\u001b[1;32m      8\u001b[0m \u001b[38;5;28mprint\u001b[39m(a\u001b[38;5;241m.\u001b[39mget(\u001b[38;5;124m'\u001b[39m\u001b[38;5;124mMango\u001b[39m\u001b[38;5;124m'\u001b[39m))\n\u001b[0;32m----> 9\u001b[0m \u001b[38;5;28mprint\u001b[39m(\u001b[43ma\u001b[49m\u001b[43m[\u001b[49m\u001b[38;5;124;43m'\u001b[39;49m\u001b[38;5;124;43mMango\u001b[39;49m\u001b[38;5;124;43m'\u001b[39;49m\u001b[43m]\u001b[49m)\n",
      "\u001b[0;31mKeyError\u001b[0m: 'Mango'"
     ]
    }
   ],
   "source": [
    "a = {\n",
    "  \"Apple\": 1,\n",
    "  \"Banana\": 2,\n",
    "  \"Cherry\": 3\n",
    "}\n",
    "print(a['Apple'])\n",
    "print(a.get('Cherry'))\n",
    "print(a.get('Mango'))\n",
    "print(a['Mango'])"
   ]
  },
  {
   "cell_type": "markdown",
   "id": "b0e78ff9-021d-4d41-9d4d-c5b45138044e",
   "metadata": {},
   "source": [
    "Dictionaries are mutable, hence can add new items or change the value of existing items using an assignment operator.\n",
    "\n",
    "If the key is already present, then the existing value gets updated. In case the key is not present, a new (key: value) pair is added to the dictionary."
   ]
  },
  {
   "cell_type": "code",
   "execution_count": 8,
   "id": "5d0fb3b9-265f-4580-9ebd-b0fc04eae684",
   "metadata": {},
   "outputs": [
    {
     "name": "stdout",
     "output_type": "stream",
     "text": [
      "{'Apple': 4, 'Banana': 2, 'Cherry': 3}\n",
      "{'Apple': 4, 'Banana': 2, 'Cherry': 3, 'Mango': 5}\n"
     ]
    }
   ],
   "source": [
    "a = {\n",
    "  \"Apple\": 1,\n",
    "  \"Banana\": 2,\n",
    "  \"Cherry\": 3\n",
    "}\n",
    "a[\"Apple\"]=4\n",
    "print(a)\n",
    "a[\"Mango\"]=5\n",
    "print(a)"
   ]
  },
  {
   "cell_type": "code",
   "execution_count": 9,
   "id": "7a9fba25-f22e-46ec-83b9-50bcfd9f98e6",
   "metadata": {},
   "outputs": [
    {
     "name": "stdout",
     "output_type": "stream",
     "text": [
      "4\n",
      "{'Apple': 1, 'Banana': 2, 'Cherry': 3, 'Watermelon': 5}\n",
      "('Watermelon', 5)\n",
      "{'Apple': 1, 'Banana': 2, 'Cherry': 3}\n",
      "{}\n"
     ]
    },
    {
     "ename": "NameError",
     "evalue": "name 'a' is not defined",
     "output_type": "error",
     "traceback": [
      "\u001b[0;31m---------------------------------------------------------------------------\u001b[0m",
      "\u001b[0;31mNameError\u001b[0m                                 Traceback (most recent call last)",
      "Input \u001b[0;32mIn [9]\u001b[0m, in \u001b[0;36m<cell line: 19>\u001b[0;34m()\u001b[0m\n\u001b[1;32m     16\u001b[0m \u001b[38;5;28mprint\u001b[39m(a)\n\u001b[1;32m     18\u001b[0m \u001b[38;5;28;01mdel\u001b[39;00m a\n\u001b[0;32m---> 19\u001b[0m \u001b[38;5;28mprint\u001b[39m(\u001b[43ma\u001b[49m)\n",
      "\u001b[0;31mNameError\u001b[0m: name 'a' is not defined"
     ]
    }
   ],
   "source": [
    "a = {\n",
    "  \"Apple\": 1,\n",
    "  \"Banana\": 2,\n",
    "  \"Cherry\": 3,\n",
    "  \"Mango\": 4,\n",
    "  \"Watermelon\" : 5\n",
    "}\n",
    "print(a.pop(\"Mango\"))\n",
    "print(a)\n",
    "\n",
    "print(a.popitem()) #removes the last inserted item.\n",
    "print(a)\n",
    "\n",
    "a.clear()\n",
    "\n",
    "print(a)\n",
    "\n",
    "del a\n",
    "print(a) #It will throw an error as 'a' is already deleted."
   ]
  },
  {
   "cell_type": "markdown",
   "id": "3af46a1b-5e6f-4781-a5a0-1346e9187745",
   "metadata": {},
   "source": [
    "There are some methods that are available with a dictionary are tabulated below. Some of them have already been used in the above examples."
   ]
  },
  {
   "cell_type": "markdown",
   "id": "7b0430e4-75d4-4029-b9b0-a62cc335638f",
   "metadata": {},
   "source": [
    "clear() : Removes all items from the dictionary <br>\n",
    "copy() : Returns a shallow copy of the dictionary. <br>\n",
    "fromkeys(seq[, v]) : Returns a new dictionary with keys from seq and value equal to v (defaults to None). <br>\n",
    "get(key[,d]) : Returns the value of the key. If the key does not exist, returns d (defaults to None). <br>\n",
    "items() : Return a new object of the dictionary's items in (key, value) format. <br>\n",
    "keys() : Returns a new object of the dictionary's keys. <br>\n",
    "pop(key[,d]) : Removes the item with the key and returns its value or d if key is not found. If d is not provided and the key is not found, it raises KeyError. <br>\n",
    "popitem() : Removes and returns an arbitrary item (key, value). Raises KeyError if the dictionary is empty. <br>\n",
    "setdefault(key[,d]) : Returns the corresponding value if the key is in the dictionary. If not, inserts the key with a value of d and returns d (defaults to None) <br>\n",
    "update([other]) : Updates the dictionary with the key/value pairs from other, overwriting existing keys. <br>\n",
    "values() : Returns a new object of the dictionary's values. <br>"
   ]
  },
  {
   "cell_type": "markdown",
   "id": "4c0d80e5-9f84-4a83-be77-db1b89358fe0",
   "metadata": {},
   "source": [
    "<b>Dictionary Comprehension</b>"
   ]
  },
  {
   "cell_type": "markdown",
   "id": "bcd19ef5-2c25-4d70-836a-234f04b979d0",
   "metadata": {},
   "source": [
    "Dictionary comprehension is an elegant and concise way to create a new dictionary from an iterable in Python. <br>\n",
    "\n",
    "Dictionary comprehension consists of an expression pair (key: value) followed by a for statement inside curly braces {}. Here is an example to make a dictionary with each item being a pair of a number and its square."
   ]
  },
  {
   "cell_type": "code",
   "execution_count": 10,
   "id": "6e76c2ac-2f0e-4684-b4e8-93a095a302fe",
   "metadata": {},
   "outputs": [
    {
     "name": "stdout",
     "output_type": "stream",
     "text": [
      "{0: 0, 1: 2, 2: 4, 3: 6, 4: 8, 5: 10, 6: 12, 7: 14, 8: 16, 9: 18, 10: 20}\n"
     ]
    }
   ],
   "source": [
    "b = {x: x*2 for x in range(11)}\n",
    "print(b)"
   ]
  },
  {
   "cell_type": "markdown",
   "id": "3787aaee-4631-408d-8ea7-1c7d8cacb35c",
   "metadata": {},
   "source": [
    "A dictionary comprehension can optionally contain more for or if statements. <br>\n",
    "Here is an example to make a dictionary with only odd items."
   ]
  },
  {
   "cell_type": "code",
   "execution_count": 11,
   "id": "fa960287-1e16-4bd9-88b0-37037a75de59",
   "metadata": {},
   "outputs": [
    {
     "name": "stdout",
     "output_type": "stream",
     "text": [
      "{0: 0, 2: 4, 4: 16, 6: 36, 8: 64, 10: 100}\n"
     ]
    }
   ],
   "source": [
    "c = {x: x*x for x in range(11) if x % 2 == 0}\n",
    "print(c)"
   ]
  },
  {
   "cell_type": "markdown",
   "id": "f0bd5b12-2f3d-41c1-b6f2-73bfb67ba682",
   "metadata": {},
   "source": [
    "<b>Dictionary Membership Test</b>\n",
    "\n",
    "We can test if a key is in a dictionary or not using the keyword in. Notice that the membership test is only for the keys and not for the values.\n",
    "\n"
   ]
  },
  {
   "cell_type": "code",
   "execution_count": 12,
   "id": "5b481458-48fc-4baa-b850-4654c6bce9cc",
   "metadata": {},
   "outputs": [
    {
     "name": "stdout",
     "output_type": "stream",
     "text": [
      "True\n",
      "True\n",
      "False\n"
     ]
    }
   ],
   "source": [
    "a = {\n",
    "  \"Apple\": 1,\n",
    "  \"Banana\": 2,\n",
    "  \"Cherry\": 3,\n",
    "  \"Mango\": 4,\n",
    "  \"Watermelon\" : 5\n",
    "}\n",
    "print(\"Apple\" in a)\n",
    "\n",
    "print(\"Strawberry\" not in a)\n",
    "\n",
    "print(5 in a)"
   ]
  },
  {
   "cell_type": "markdown",
   "id": "80275925-bf1b-49f6-a753-56f6c6fbc978",
   "metadata": {},
   "source": [
    "<b>Iterating through a Dictionary </b>"
   ]
  },
  {
   "cell_type": "markdown",
   "id": "6b934703-62ea-418e-b9ca-400ac1388bc2",
   "metadata": {},
   "source": [
    "We can iterate through each key in a dictionary using a for loop."
   ]
  },
  {
   "cell_type": "code",
   "execution_count": 13,
   "id": "969e1dde-ad5a-4607-a1a4-8ed002700f08",
   "metadata": {},
   "outputs": [
    {
     "name": "stdout",
     "output_type": "stream",
     "text": [
      "1\n",
      "2\n",
      "3\n",
      "4\n",
      "5\n"
     ]
    }
   ],
   "source": [
    "a = {\n",
    "  \"Apple\": 1,\n",
    "  \"Banana\": 2,\n",
    "  \"Cherry\": 3,\n",
    "  \"Mango\": 4,\n",
    "  \"Watermelon\" : 5\n",
    "}\n",
    "for i in a:\n",
    "    print(a[i])"
   ]
  },
  {
   "cell_type": "markdown",
   "id": "5d593c39-03da-40b8-9018-60611ec91825",
   "metadata": {},
   "source": [
    "There are some built in functions in Dictionary which you can explore. They are mentioned below."
   ]
  },
  {
   "cell_type": "markdown",
   "id": "be758e7a-c2a1-409a-941b-f370210edba5",
   "metadata": {},
   "source": [
    "all() : Return True if all keys of the dictionary are True (or if the dictionary is empty). <br>\n",
    "any() : Return True if any key of the dictionary is true. If the dictionary is empty, return False.  <br>\n",
    "len() : Return the length (the number of items) in the dictionary.  <br>\n",
    "cmp() : Compares items of two dictionaries. (Not available in Python 3)  <br>\n",
    "sorted() : Return a new sorted list of keys in the dictionary.  <br>"
   ]
  },
  {
   "cell_type": "code",
   "execution_count": 14,
   "id": "0b97eac4-6972-43aa-935a-c286620dd2b4",
   "metadata": {},
   "outputs": [
    {
     "name": "stdout",
     "output_type": "stream",
     "text": [
      "False\n",
      "True\n",
      "6\n",
      "[0, 1, 3, 5, 7, 9]\n"
     ]
    }
   ],
   "source": [
    "a = {\n",
    "  0: 0, 1: 1, 3: 9, 5: 25, 7: 49, 9: 81\n",
    "}\n",
    "print(all(a))\n",
    "\n",
    "print(any(a))\n",
    "\n",
    "print(len(a))\n",
    "\n",
    "print(sorted(a))"
   ]
  },
  {
   "cell_type": "markdown",
   "id": "957d70db-88bc-478b-8fdc-85c06047af31",
   "metadata": {},
   "source": [
    "That's it about Dictionary. <br>\n",
    "Keep learning, Keep practicing and Happy Learning :)"
   ]
  }
 ],
 "metadata": {
  "kernelspec": {
   "display_name": "Python 3 (ipykernel)",
   "language": "python",
   "name": "python3"
  },
  "language_info": {
   "codemirror_mode": {
    "name": "ipython",
    "version": 3
   },
   "file_extension": ".py",
   "mimetype": "text/x-python",
   "name": "python",
   "nbconvert_exporter": "python",
   "pygments_lexer": "ipython3",
   "version": "3.9.13"
  }
 },
 "nbformat": 4,
 "nbformat_minor": 5
}
