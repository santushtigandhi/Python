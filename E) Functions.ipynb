{
 "cells": [
  {
   "cell_type": "markdown",
   "id": "4e1bfdc8-c120-4b35-beeb-de85bfb655aa",
   "metadata": {},
   "source": [
    "Today, we'll start a very important topic - Functions in Python"
   ]
  },
  {
   "cell_type": "markdown",
   "id": "e617b4a1-2d07-4a3c-96d6-e9f196c8b81c",
   "metadata": {},
   "source": [
    "<b>Functions</b>"
   ]
  },
  {
   "cell_type": "markdown",
   "id": "b641c54b-42ad-4d7e-a1c5-047c196f9ce4",
   "metadata": {},
   "source": [
    "In Python, a function is a group of related statements that performs a specific task.\n",
    "\n",
    "Functions help in breaking our program into smaller and modular chunks. As our program grows larger and larger, functions make it more organized and manageable.\n",
    "\n",
    "Furthermore, it avoids repetition and makes the code reusable."
   ]
  },
  {
   "cell_type": "markdown",
   "id": "26cb5852-f500-4ee7-8274-d3c33214c85f",
   "metadata": {},
   "source": [
    "<b>Let's see the syntax of functions in Python</b>"
   ]
  },
  {
   "cell_type": "markdown",
   "id": "19b979e7-958c-401e-99df-b5f7f6fd5c05",
   "metadata": {},
   "source": [
    "def function_name(parameters): <br>\n",
    "&emsp;     \"\"\"docstring\"\"\" <br>\n",
    "&emsp;&nbsp;     statement(s)"
   ]
  },
  {
   "cell_type": "markdown",
   "id": "d0b988a4-f09d-43dc-a307-93cd6ddbfecd",
   "metadata": {},
   "source": [
    "Keyword <b>def</b> that marks the start of the function header. <br>\n",
    "Function name <b>(function_name)</b> to uniquely identify the function. Function naming follows the same rules of writing identifiers in Python. <br>\n",
    "<b>Parameters </b>(arguments) through which we pass values to a function. They are optional. <br>\n",
    "A <b>colon (:)</b> to mark the end of the function header.<br>\n",
    "Optional documentation string <b>(docstring)</b> is used describe what the function does. The first string after the function header is called the docstring and is short for documentation string. It is briefly used to explain what a function does. Although optional, documentation is a good programming practice. <br>\n",
    "    One or more valid python statements that make up the <b>function body.</b> Statements must have the same indentation level (usually 4 spaces). <br>\n",
    "    An optional <b>return statement</b> to return a value from the function."
   ]
  },
  {
   "cell_type": "code",
   "execution_count": 1,
   "id": "57c266f1-e500-4118-a9ee-dd8e9cad6582",
   "metadata": {},
   "outputs": [],
   "source": [
    "def hello():\n",
    "    print(\"Hello World!\")"
   ]
  },
  {
   "cell_type": "markdown",
   "id": "f1efc99d-7c64-4aa3-bfc3-ae2f8ac49efa",
   "metadata": {},
   "source": [
    "<b>But why this function didn't print anything? </b>"
   ]
  },
  {
   "cell_type": "markdown",
   "id": "0b0dac41-8e51-4feb-9f11-b2ef96dcaa9c",
   "metadata": {},
   "source": [
    "Because, we didn't call the function yet! We need to call it to perform the required task. So as to call it we just mention the name of the function."
   ]
  },
  {
   "cell_type": "code",
   "execution_count": 2,
   "id": "6e567523-0e86-43bd-9583-13fe8a4f5d72",
   "metadata": {},
   "outputs": [
    {
     "name": "stdout",
     "output_type": "stream",
     "text": [
      "Hello World!\n"
     ]
    }
   ],
   "source": [
    "def hello():\n",
    "    print(\"Hello World!\")\n",
    "hello()"
   ]
  },
  {
   "cell_type": "markdown",
   "id": "1e07bd0f-42fa-40a2-8a84-66d5d5212896",
   "metadata": {},
   "source": [
    "<b>Return Statement </b>"
   ]
  },
  {
   "cell_type": "markdown",
   "id": "1f236b51-defa-4123-8f1c-3e839cff43e7",
   "metadata": {},
   "source": [
    "The return statement is used to exit a function and go back to the place from where it was called."
   ]
  },
  {
   "cell_type": "code",
   "execution_count": 3,
   "id": "6b2fc4b1-4c59-4718-afc8-e635f6c7fa76",
   "metadata": {},
   "outputs": [
    {
     "name": "stdout",
     "output_type": "stream",
     "text": [
      "<class 'str'>\n"
     ]
    },
    {
     "data": {
      "text/plain": [
       "'Hello World'"
      ]
     },
     "execution_count": 3,
     "metadata": {},
     "output_type": "execute_result"
    }
   ],
   "source": [
    "def hello():\n",
    "    i = \"Hello World\"\n",
    "    print(type(i))\n",
    "    return i\n",
    "hello()"
   ]
  },
  {
   "cell_type": "markdown",
   "id": "0a7e063d-fff1-42e7-960f-500b40a31e8b",
   "metadata": {},
   "source": [
    "<b> To summarize the working of the functions, below is an image explaining the working of a function."
   ]
  },
  {
   "cell_type": "markdown",
   "id": "84837c7e-d84f-450a-8328-35140d065f0e",
   "metadata": {},
   "source": [
    "<img src='https://www.dremendo.com/python-programming-tutorial/images/python-function-workflow.png'></img>"
   ]
  },
  {
   "cell_type": "markdown",
   "id": "afa6102f-5397-44ee-9bb6-43b1f69b9b3e",
   "metadata": {},
   "source": [
    "Scope of a variable is the portion of a program where the variable is recognized. Parameters and variables defined inside a function are not visible from outside the function. Hence, they have a local scope.\n",
    "\n",
    "The lifetime of a variable is the period throughout which the variable exists in the memory. The lifetime of variables inside a function is as long as the function executes.\n",
    "\n",
    "They are destroyed once we return from the function. Hence, a function does not remember the value of a variable from its previous calls."
   ]
  },
  {
   "cell_type": "code",
   "execution_count": 4,
   "id": "6578a296-f4be-4f7c-9b39-f9b71482a7c9",
   "metadata": {},
   "outputs": [
    {
     "name": "stdout",
     "output_type": "stream",
     "text": [
      "Value outside function: 10\n",
      "Value inside the function: 20\n"
     ]
    }
   ],
   "source": [
    "def hello():\n",
    "    x = 20\n",
    "    print(\"Value inside the function:\",x)\n",
    "\n",
    "x = 10\n",
    "print(\"Value outside function:\",x)\n",
    "hello()"
   ]
  },
  {
   "cell_type": "markdown",
   "id": "a7986821-655f-4c42-b5fc-97eea69394eb",
   "metadata": {},
   "source": [
    "Let's look at the parameters of the function. Parameters are written inside the function_name parenthesis."
   ]
  },
  {
   "cell_type": "code",
   "execution_count": 5,
   "id": "1962f06e-f71b-47bd-9b4a-27f966946c61",
   "metadata": {},
   "outputs": [
    {
     "name": "stdout",
     "output_type": "stream",
     "text": [
      "Hello Harry\n"
     ]
    }
   ],
   "source": [
    "def hello(name):\n",
    "    print(\"Hello\", name)\n",
    "hello(\"Harry\")"
   ]
  },
  {
   "cell_type": "markdown",
   "id": "56cf7ce8-fb71-4abb-b843-765485c8e5a5",
   "metadata": {},
   "source": [
    "<b> Types of Functions </b>"
   ]
  },
  {
   "cell_type": "markdown",
   "id": "2ed97066-55e6-4a89-abf9-abc071ccf890",
   "metadata": {},
   "source": [
    "Basically, we can divide functions into the following two types:\n",
    "\n",
    "<b>Built-in functions </b>- Functions that are built into Python. <br>\n",
    "<b>User-defined functions </b> - Functions which are defined by the users themselves."
   ]
  },
  {
   "cell_type": "markdown",
   "id": "f5c82fb7-3724-4330-a60c-6203d38518a0",
   "metadata": {},
   "source": [
    "That's it about the basics of function. In the next repository, we'll learn about the Function's parameters. <br>\n",
    "Keep practicing and Happy Learning! :)"
   ]
  }
 ],
 "metadata": {
  "kernelspec": {
   "display_name": "Python 3 (ipykernel)",
   "language": "python",
   "name": "python3"
  },
  "language_info": {
   "codemirror_mode": {
    "name": "ipython",
    "version": 3
   },
   "file_extension": ".py",
   "mimetype": "text/x-python",
   "name": "python",
   "nbconvert_exporter": "python",
   "pygments_lexer": "ipython3",
   "version": "3.9.13"
  }
 },
 "nbformat": 4,
 "nbformat_minor": 5
}
