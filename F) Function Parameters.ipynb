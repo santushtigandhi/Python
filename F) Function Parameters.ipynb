{
 "cells": [
  {
   "cell_type": "markdown",
   "id": "e7866e18-8493-4e00-92eb-5566926135a8",
   "metadata": {},
   "source": [
    "In Python, you can define a function that takes variable number of parameters. In this repository, you will learn to define such functions using default, keyword and arbitrary arguments."
   ]
  },
  {
   "cell_type": "markdown",
   "id": "172dbdf2-760f-4f36-b51e-15fed1b49e45",
   "metadata": {},
   "source": [
    "<b>Function Parameters</b>"
   ]
  },
  {
   "cell_type": "markdown",
   "id": "48fb678f-7097-416f-b741-c9b3d4a148e1",
   "metadata": {},
   "source": [
    "In the previous repository, we learn how to define functions and call it."
   ]
  },
  {
   "cell_type": "code",
   "execution_count": 1,
   "id": "4860cbcd-0014-46ad-b41b-e0e7496c10a8",
   "metadata": {},
   "outputs": [
    {
     "name": "stdout",
     "output_type": "stream",
     "text": [
      "Hello Harry!\n"
     ]
    }
   ],
   "source": [
    "def hello(name):\n",
    "    print(\"Hello\",name)\n",
    "hello(\"Harry!\")"
   ]
  },
  {
   "cell_type": "markdown",
   "id": "c1c13834-3caa-455b-a80c-efdee6a1d39c",
   "metadata": {},
   "source": [
    "Here as you can see we just have a single parameter/argument. We can define any number of arguments in the function."
   ]
  },
  {
   "cell_type": "code",
   "execution_count": 2,
   "id": "364995a9-5683-47d4-a7bd-f8790e672099",
   "metadata": {},
   "outputs": [
    {
     "name": "stdout",
     "output_type": "stream",
     "text": [
      "Hello Harry! Your age is 24 years\n"
     ]
    }
   ],
   "source": [
    "def hello(name,age):\n",
    "    print(\"Hello\",name,\"Your age is\",age,\"years\")\n",
    "hello(\"Harry!\",24)"
   ]
  },
  {
   "cell_type": "markdown",
   "id": "11e13216-56ab-4984-b80f-e6a1179100fb",
   "metadata": {},
   "source": [
    "If we try to run the above function with no parameters or only a single parameter, it will generate an error. Let's see this."
   ]
  },
  {
   "cell_type": "code",
   "execution_count": 3,
   "id": "07c3ac9b-827a-4fb7-8388-7b36f7696142",
   "metadata": {},
   "outputs": [
    {
     "ename": "TypeError",
     "evalue": "hello() missing 1 required positional argument: 'age'",
     "output_type": "error",
     "traceback": [
      "\u001b[0;31m---------------------------------------------------------------------------\u001b[0m",
      "\u001b[0;31mTypeError\u001b[0m                                 Traceback (most recent call last)",
      "Input \u001b[0;32mIn [3]\u001b[0m, in \u001b[0;36m<cell line: 3>\u001b[0;34m()\u001b[0m\n\u001b[1;32m      1\u001b[0m \u001b[38;5;28;01mdef\u001b[39;00m \u001b[38;5;21mhello\u001b[39m(name,age):\n\u001b[1;32m      2\u001b[0m     \u001b[38;5;28mprint\u001b[39m(\u001b[38;5;124m\"\u001b[39m\u001b[38;5;124mHello\u001b[39m\u001b[38;5;124m\"\u001b[39m,name,\u001b[38;5;124m\"\u001b[39m\u001b[38;5;124mYour age is\u001b[39m\u001b[38;5;124m\"\u001b[39m,age,\u001b[38;5;124m\"\u001b[39m\u001b[38;5;124myears\u001b[39m\u001b[38;5;124m\"\u001b[39m)\n\u001b[0;32m----> 3\u001b[0m \u001b[43mhello\u001b[49m\u001b[43m(\u001b[49m\u001b[38;5;124;43m\"\u001b[39;49m\u001b[38;5;124;43mHarry!\u001b[39;49m\u001b[38;5;124;43m\"\u001b[39;49m\u001b[43m)\u001b[49m\n",
      "\u001b[0;31mTypeError\u001b[0m: hello() missing 1 required positional argument: 'age'"
     ]
    }
   ],
   "source": [
    "def hello(name,age):\n",
    "    print(\"Hello\",name,\"Your age is\",age,\"years\")\n",
    "hello(\"Harry!\")"
   ]
  },
  {
   "cell_type": "code",
   "execution_count": 4,
   "id": "1edaf380-89c5-495f-8667-ea4f0dff4017",
   "metadata": {},
   "outputs": [
    {
     "ename": "TypeError",
     "evalue": "hello() missing 2 required positional arguments: 'name' and 'age'",
     "output_type": "error",
     "traceback": [
      "\u001b[0;31m---------------------------------------------------------------------------\u001b[0m",
      "\u001b[0;31mTypeError\u001b[0m                                 Traceback (most recent call last)",
      "Input \u001b[0;32mIn [4]\u001b[0m, in \u001b[0;36m<cell line: 3>\u001b[0;34m()\u001b[0m\n\u001b[1;32m      1\u001b[0m \u001b[38;5;28;01mdef\u001b[39;00m \u001b[38;5;21mhello\u001b[39m(name,age):\n\u001b[1;32m      2\u001b[0m     \u001b[38;5;28mprint\u001b[39m(\u001b[38;5;124m\"\u001b[39m\u001b[38;5;124mHello\u001b[39m\u001b[38;5;124m\"\u001b[39m,name,\u001b[38;5;124m\"\u001b[39m\u001b[38;5;124mYour age is\u001b[39m\u001b[38;5;124m\"\u001b[39m,age,\u001b[38;5;124m\"\u001b[39m\u001b[38;5;124myears\u001b[39m\u001b[38;5;124m\"\u001b[39m)\n\u001b[0;32m----> 3\u001b[0m \u001b[43mhello\u001b[49m\u001b[43m(\u001b[49m\u001b[43m)\u001b[49m\n",
      "\u001b[0;31mTypeError\u001b[0m: hello() missing 2 required positional arguments: 'name' and 'age'"
     ]
    }
   ],
   "source": [
    "def hello(name,age):\n",
    "    print(\"Hello\",name,\"Your age is\",age,\"years\")\n",
    "hello()"
   ]
  },
  {
   "cell_type": "markdown",
   "id": "e7bb4ec5-8fce-40dc-8fa5-3385fc659c97",
   "metadata": {},
   "source": [
    "Hence, if we are defining these parameters in the function we need to include it while calling the function as well."
   ]
  },
  {
   "cell_type": "markdown",
   "id": "43603d8e-6b62-44d5-ae75-8d5dce97425b",
   "metadata": {},
   "source": [
    "So, how to solve the above error? Let's try it by using <b>Default argument.</b>"
   ]
  },
  {
   "cell_type": "markdown",
   "id": "cea65277-961f-4972-aa5f-38c2668f41d1",
   "metadata": {},
   "source": [
    "Function arguments can have default values in Python.\n",
    "We can provide a default value to an argument by using the assignment operator (=). Here is an example."
   ]
  },
  {
   "cell_type": "code",
   "execution_count": 5,
   "id": "3d7fe3a8-382c-42e7-90c4-04762af26505",
   "metadata": {},
   "outputs": [
    {
     "name": "stdout",
     "output_type": "stream",
     "text": [
      "Hello Harry! Your age is 24 years\n"
     ]
    }
   ],
   "source": [
    "def hello(name,age=24):\n",
    "    print(\"Hello\",name,\"Your age is\",age,\"years\")\n",
    "hello(\"Harry!\")"
   ]
  },
  {
   "cell_type": "code",
   "execution_count": 6,
   "id": "3f210fbb-8682-4bbc-bff1-83b20f0379ec",
   "metadata": {},
   "outputs": [
    {
     "name": "stdout",
     "output_type": "stream",
     "text": [
      "Hello Harry Your age is 24 years\n"
     ]
    }
   ],
   "source": [
    "def hello(name='Harry',age=24):\n",
    "    print(\"Hello\",name,\"Your age is\",age,\"years\")\n",
    "hello()"
   ]
  },
  {
   "cell_type": "markdown",
   "id": "8f2226d1-4836-4287-a0f5-2ea0255d1237",
   "metadata": {},
   "source": [
    "<b>But what happens if we provide the default arguments and it's not needed?</b>"
   ]
  },
  {
   "cell_type": "code",
   "execution_count": 7,
   "id": "5955d41d-8678-4313-87e6-5474d9229425",
   "metadata": {},
   "outputs": [
    {
     "name": "stdout",
     "output_type": "stream",
     "text": [
      "Hello Harry! Your age is 24 years\n"
     ]
    }
   ],
   "source": [
    "def hello(name=\"Elle\",age=19):\n",
    "    print(\"Hello\",name,\"Your age is\",age,\"years\")\n",
    "hello(\"Harry!\",24)"
   ]
  },
  {
   "cell_type": "markdown",
   "id": "916a3793-9990-4d31-b477-de5b0d4df97f",
   "metadata": {},
   "source": [
    "Hence,Default argument will only be used if the function calling doesn't have the required arguments. If it has the required arguments, default arguments will not be used."
   ]
  },
  {
   "cell_type": "code",
   "execution_count": 8,
   "id": "30c41e68-f0fb-497c-97f5-81e12037d3d9",
   "metadata": {},
   "outputs": [
    {
     "ename": "SyntaxError",
     "evalue": "non-default argument follows default argument (1035947842.py, line 1)",
     "output_type": "error",
     "traceback": [
      "\u001b[0;36m  Input \u001b[0;32mIn [8]\u001b[0;36m\u001b[0m\n\u001b[0;31m    def hello(name=\"Harry\",age):\u001b[0m\n\u001b[0m                              ^\u001b[0m\n\u001b[0;31mSyntaxError\u001b[0m\u001b[0;31m:\u001b[0m non-default argument follows default argument\n"
     ]
    }
   ],
   "source": [
    "def hello(name=\"Harry\",age):\n",
    "    print(\"Hello\",name,\"Your age is\",age,\"years\")\n",
    "hello(24)"
   ]
  },
  {
   "cell_type": "markdown",
   "id": "319f0a81-7749-4556-8fa7-27147ddfe779",
   "metadata": {},
   "source": [
    "Why do you think this gave an error? <br>\n",
    "This is because non-default arguments cannot follow default arguments. "
   ]
  },
  {
   "cell_type": "markdown",
   "id": "5e6c0e51-9b5c-4057-8410-a5581da5cd04",
   "metadata": {},
   "source": [
    "<b>Keyword Arguments</b>"
   ]
  },
  {
   "cell_type": "markdown",
   "id": "61473f0d-5c6d-4623-bce2-0f3609b3e5ca",
   "metadata": {},
   "source": [
    "When we call a function with some values, these values get assigned to the arguments according to their position.\n",
    "\n",
    "For example, in the above function hello(), when we called it as hello(\"Harry\", 24), the value \"Harry\" gets assigned to the argument name and similarly 24 to age.\n",
    "\n",
    "Python allows functions to be called using keyword arguments. When we call functions in this way, the order (position) of the arguments can be changed."
   ]
  },
  {
   "cell_type": "code",
   "execution_count": 9,
   "id": "f42bd7e0-a85d-4fd3-ac6b-2fe3f943a510",
   "metadata": {},
   "outputs": [
    {
     "name": "stdout",
     "output_type": "stream",
     "text": [
      "Hello Harry Your age is 24 years\n"
     ]
    }
   ],
   "source": [
    "def hello(name,age):\n",
    "    print(\"Hello\",name,\"Your age is\",age,\"years\")\n",
    "hello(\"Harry\",24)"
   ]
  },
  {
   "cell_type": "code",
   "execution_count": 10,
   "id": "831d56ab-cc22-4a9c-aa69-21ead57a6467",
   "metadata": {},
   "outputs": [
    {
     "name": "stdout",
     "output_type": "stream",
     "text": [
      "Hello Harry Your age is 24 years\n"
     ]
    }
   ],
   "source": [
    "def hello(name,age):\n",
    "    print(\"Hello\",name,\"Your age is\",age,\"years\")\n",
    "hello(name=\"Harry\",age=24)"
   ]
  },
  {
   "cell_type": "code",
   "execution_count": 11,
   "id": "7ea67915-1779-427d-a3e3-23fb2f480cbc",
   "metadata": {},
   "outputs": [
    {
     "name": "stdout",
     "output_type": "stream",
     "text": [
      "Hello Harry Your age is 24 years\n"
     ]
    }
   ],
   "source": [
    "def hello(name,age):\n",
    "    print(\"Hello\",name,\"Your age is\",age,\"years\")\n",
    "hello(age=24,name=\"Harry\",)"
   ]
  },
  {
   "cell_type": "code",
   "execution_count": 12,
   "id": "fd83184f-56ed-4a39-8b16-ea99a82ecf0b",
   "metadata": {},
   "outputs": [
    {
     "name": "stdout",
     "output_type": "stream",
     "text": [
      "Hello Harry Your age is 24 years\n"
     ]
    }
   ],
   "source": [
    "def hello(name,age):\n",
    "    print(\"Hello\",name,\"Your age is\",age,\"years\")\n",
    "hello(\"Harry\",age=24) #1 positional argument(\"Harry\") and 1 keyword argument(age=24)\n",
    "#Positional argument is the argument whose position matters in a function call."
   ]
  },
  {
   "cell_type": "code",
   "execution_count": 13,
   "id": "b144ea5f-c094-4c4d-859e-cc9b6fee1f44",
   "metadata": {},
   "outputs": [
    {
     "ename": "SyntaxError",
     "evalue": "positional argument follows keyword argument (3963083200.py, line 3)",
     "output_type": "error",
     "traceback": [
      "\u001b[0;36m  Input \u001b[0;32mIn [13]\u001b[0;36m\u001b[0m\n\u001b[0;31m    hello(name=\"Harry\",24)\u001b[0m\n\u001b[0m                         ^\u001b[0m\n\u001b[0;31mSyntaxError\u001b[0m\u001b[0;31m:\u001b[0m positional argument follows keyword argument\n"
     ]
    }
   ],
   "source": [
    "def hello(name,age):\n",
    "    print(\"Hello\",name,\"Your age is\",age,\"years\")\n",
    "hello(name=\"Harry\",24)"
   ]
  },
  {
   "cell_type": "markdown",
   "id": "bc8df6db-9c84-47f9-b941-96e354bc315c",
   "metadata": {},
   "source": [
    "<b>Why do you think this gave an error and the above statements didn't?</b><br>\n",
    "This is because, we must keep in mind that keyword arguments must follow positional arguments. Having a positional argument after keyword arguments will result in errors."
   ]
  },
  {
   "cell_type": "markdown",
   "id": "28c326db-9623-4f96-9763-ae0f6aee51a7",
   "metadata": {},
   "source": [
    "<b>Arbitrary Arguments</b>"
   ]
  },
  {
   "cell_type": "markdown",
   "id": "a3d45f18-abd3-4985-84b3-af6281e000d5",
   "metadata": {},
   "source": [
    "Sometimes, we do not know in advance the number of arguments that will be passed into a function. Python allows us to handle this kind of situation through function calls with an arbitrary number of arguments.\n",
    "\n",
    "In the function definition, we use an asterisk (*) before the parameter name to denote this kind of argument. "
   ]
  },
  {
   "cell_type": "code",
   "execution_count": 14,
   "id": "9d649059-7fd3-48ef-90df-301ecaf73d66",
   "metadata": {},
   "outputs": [
    {
     "name": "stdout",
     "output_type": "stream",
     "text": [
      "Hello Harry\n",
      "Hello Elle\n",
      "Hello Suzzaine\n",
      "Hello George\n",
      "Hello Ava\n"
     ]
    }
   ],
   "source": [
    "def hello(*name):\n",
    "    for i in name:\n",
    "        print(\"Hello\",i)\n",
    "hello(\"Harry\",\"Elle\",\"Suzzaine\",\"George\",\"Ava\")"
   ]
  },
  {
   "cell_type": "markdown",
   "id": "dd9d49bb-a6b7-4e6d-8e68-c9ff0b2ae3e3",
   "metadata": {},
   "source": [
    "So, that's it about the function's parameters. <br>\n",
    "Keep practicing and happy learning! :)"
   ]
  }
 ],
 "metadata": {
  "kernelspec": {
   "display_name": "Python 3 (ipykernel)",
   "language": "python",
   "name": "python3"
  },
  "language_info": {
   "codemirror_mode": {
    "name": "ipython",
    "version": 3
   },
   "file_extension": ".py",
   "mimetype": "text/x-python",
   "name": "python",
   "nbconvert_exporter": "python",
   "pygments_lexer": "ipython3",
   "version": "3.9.13"
  }
 },
 "nbformat": 4,
 "nbformat_minor": 5
}
