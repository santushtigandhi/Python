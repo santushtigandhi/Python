{
 "cells": [
  {
   "cell_type": "markdown",
   "id": "pointed-bronze",
   "metadata": {},
   "source": [
    "<b><center>Taking Input from the user</b></center>"
   ]
  },
  {
   "cell_type": "markdown",
   "id": "baking-interval",
   "metadata": {},
   "source": [
    "In this repository we'll learn how to take imput from the user. This is very easy. There are two options to take the input, first is declaring the variables and second is to take the input from the user."
   ]
  },
  {
   "cell_type": "markdown",
   "id": "municipal-belarus",
   "metadata": {},
   "source": [
    "- Declaring the variables"
   ]
  },
  {
   "cell_type": "code",
   "execution_count": 1,
   "id": "buried-penguin",
   "metadata": {},
   "outputs": [
    {
     "name": "stdout",
     "output_type": "stream",
     "text": [
      "27\n"
     ]
    }
   ],
   "source": [
    "a = 20\n",
    "b = 7\n",
    "print(a+b)"
   ]
  },
  {
   "cell_type": "code",
   "execution_count": 2,
   "id": "sharp-chile",
   "metadata": {},
   "outputs": [
    {
     "name": "stdout",
     "output_type": "stream",
     "text": [
      "27\n"
     ]
    }
   ],
   "source": [
    "a = 20\n",
    "b = 7\n",
    "c = a + b\n",
    "print(c)"
   ]
  },
  {
   "cell_type": "markdown",
   "id": "printable-dollar",
   "metadata": {},
   "source": [
    "- Taking the input from the user"
   ]
  },
  {
   "cell_type": "code",
   "execution_count": 3,
   "id": "induced-humanitarian",
   "metadata": {},
   "outputs": [
    {
     "name": "stdin",
     "output_type": "stream",
     "text": [
      "Enter the first number:  20\n",
      "Enter the second number:  7\n"
     ]
    },
    {
     "name": "stdout",
     "output_type": "stream",
     "text": [
      "Result is:  207\n"
     ]
    }
   ],
   "source": [
    "a = input(\"Enter the first number: \")\n",
    "b = input(\"Enter the second number: \")\n",
    "c = a + b\n",
    "print(\"Result is: \",c)"
   ]
  },
  {
   "cell_type": "markdown",
   "id": "manual-migration",
   "metadata": {},
   "source": [
    "<b>Why is the answer 207 instead of 27?</b>"
   ]
  },
  {
   "cell_type": "markdown",
   "id": "primary-japan",
   "metadata": {},
   "source": [
    "The above code just contatenated the values. It didn't quite add the values. So what we should do? <br>\n",
    "Here we use a concept known as <b>Typecasting</b>"
   ]
  },
  {
   "cell_type": "markdown",
   "id": "reduced-christianity",
   "metadata": {},
   "source": [
    "Type Casting is the method to convert the variable data type into a certain data type in order to the operation required to be performed by users. <br>\n",
    "We usually type cast the input to integer, float or string by specifying the input() function inside the type. <br>"
   ]
  },
  {
   "cell_type": "markdown",
   "id": "roman-brook",
   "metadata": {},
   "source": [
    "It is used in computer programming to ensure variables are correctly processed by a function."
   ]
  },
  {
   "cell_type": "markdown",
   "id": "banned-hands",
   "metadata": {},
   "source": [
    "It is used in computer programming to ensure variables are correctly processed by a function. <br>\n",
    "An example of typecasting is converting an integer to a string. "
   ]
  },
  {
   "cell_type": "markdown",
   "id": "fresh-notice",
   "metadata": {},
   "source": [
    "<b> When do you need to use type-conversions? <b>"
   ]
  },
  {
   "cell_type": "markdown",
   "id": "scenic-being",
   "metadata": {},
   "source": [
    "- The value to be stored is in a form not supported by that data type\n",
    "- To reduce the memory in use, relevant to the value\n",
    "- The value to be stored is beyond the max limit"
   ]
  },
  {
   "cell_type": "markdown",
   "id": "sitting-seeking",
   "metadata": {},
   "source": [
    "Python has two types of type conversion:\n",
    "- Implicit Type casting\n",
    "- Explicit Type casting"
   ]
  },
  {
   "cell_type": "markdown",
   "id": "confirmed-preference",
   "metadata": {},
   "source": [
    "<b> Implicit Type Casting <b>"
   ]
  },
  {
   "cell_type": "markdown",
   "id": "sharp-corrections",
   "metadata": {},
   "source": [
    "Implicit type conversion is performed automatically by the interpreter, without user intervention. Python automatically converts one data type to another data type. This process doesn’t need any user involvement Python promotes the conversion of lower data type."
   ]
  },
  {
   "cell_type": "code",
   "execution_count": 4,
   "id": "lined-slovak",
   "metadata": {},
   "outputs": [
    {
     "name": "stdout",
     "output_type": "stream",
     "text": [
      "11.0\n"
     ]
    }
   ],
   "source": [
    "a = 5\n",
    "b = 6.0\n",
    "c = a+b\n",
    "print(c)"
   ]
  },
  {
   "cell_type": "markdown",
   "id": "conscious-broadcast",
   "metadata": {},
   "source": [
    "You see here int is converted to the higher data type float to avoid the loss of data. This type of conversion or type casting is called Up Casting. <br>\n",
    "Whereas, when higher data type is converted to lower data type, it is called Down Casting."
   ]
  },
  {
   "cell_type": "markdown",
   "id": "accredited-smell",
   "metadata": {},
   "source": [
    "<b>Explicit Type Casting</b>"
   ]
  },
  {
   "cell_type": "markdown",
   "id": "downtown-franklin",
   "metadata": {},
   "source": [
    "In this method, Python needs the user involvement to convert the variable data type into certain data type in order to the operation required. <br>\n",
    "\n",
    "Mainly, type casting can be done with these data type function: <br>\n",
    "\n",
    "- int() : int() function take float or string as an argument and return int type object.\n",
    "- float() : float() function take int or string as an argument and return float type object.\n",
    "- str() : str() function take float or int as an argument and return string type object."
   ]
  },
  {
   "cell_type": "code",
   "execution_count": 5,
   "id": "large-comedy",
   "metadata": {},
   "outputs": [
    {
     "name": "stdout",
     "output_type": "stream",
     "text": [
      "5\n"
     ]
    }
   ],
   "source": [
    "a = '5' #String Data Type\n",
    "print(int(a))"
   ]
  },
  {
   "cell_type": "code",
   "execution_count": 6,
   "id": "varying-experience",
   "metadata": {},
   "outputs": [
    {
     "name": "stdout",
     "output_type": "stream",
     "text": [
      "5\n"
     ]
    }
   ],
   "source": [
    "a = 5.7 #Float Data Type\n",
    "print(int(a))"
   ]
  },
  {
   "cell_type": "code",
   "execution_count": 7,
   "id": "korean-friendly",
   "metadata": {},
   "outputs": [
    {
     "name": "stdout",
     "output_type": "stream",
     "text": [
      "25.0\n"
     ]
    }
   ],
   "source": [
    "a = 25 #Int Data type\n",
    "print(float(a))"
   ]
  },
  {
   "cell_type": "code",
   "execution_count": 8,
   "id": "successful-inspiration",
   "metadata": {},
   "outputs": [
    {
     "name": "stdout",
     "output_type": "stream",
     "text": [
      "16\n",
      "<class 'str'>\n"
     ]
    }
   ],
   "source": [
    "a = 16\n",
    "b = str(a)\n",
    "print(b)\n",
    "print(type(b))"
   ]
  },
  {
   "cell_type": "code",
   "execution_count": 9,
   "id": "balanced-testimony",
   "metadata": {},
   "outputs": [
    {
     "name": "stdout",
     "output_type": "stream",
     "text": [
      "5.9\n",
      "<class 'float'>\n"
     ]
    }
   ],
   "source": [
    "c = \"5.9\" #String Data Type\n",
    "d= float(c)\n",
    " \n",
    "print(d)\n",
    "print(type(d))"
   ]
  },
  {
   "cell_type": "markdown",
   "id": "practical-stand",
   "metadata": {},
   "source": [
    "So as to solve the above problem of 207 we use typecasting like this: <br>"
   ]
  },
  {
   "cell_type": "code",
   "execution_count": 10,
   "id": "virgin-bread",
   "metadata": {},
   "outputs": [
    {
     "name": "stdin",
     "output_type": "stream",
     "text": [
      "Enter the first number:  20\n",
      "Enter the second number:  7\n"
     ]
    },
    {
     "name": "stdout",
     "output_type": "stream",
     "text": [
      "Result is:  27\n"
     ]
    }
   ],
   "source": [
    "a = int(input(\"Enter the first number: \"))\n",
    "b = int(input(\"Enter the second number: \"))\n",
    "c = a + b\n",
    "print(\"Result is: \",c)"
   ]
  },
  {
   "cell_type": "code",
   "execution_count": 11,
   "id": "selected-chain",
   "metadata": {},
   "outputs": [
    {
     "name": "stdin",
     "output_type": "stream",
     "text": [
      "Enter the first number:  5.8\n",
      "Enter the second number:  5.2\n"
     ]
    },
    {
     "name": "stdout",
     "output_type": "stream",
     "text": [
      "Result is:  11.0\n"
     ]
    }
   ],
   "source": [
    "a = float(input(\"Enter the first number: \"))\n",
    "b = float(input(\"Enter the second number: \"))\n",
    "c = a + b\n",
    "print(\"Result is: \",c)"
   ]
  }
 ],
 "metadata": {
  "kernelspec": {
   "display_name": "Python 3",
   "language": "python",
   "name": "python3"
  },
  "language_info": {
   "codemirror_mode": {
    "name": "ipython",
    "version": 3
   },
   "file_extension": ".py",
   "mimetype": "text/x-python",
   "name": "python",
   "nbconvert_exporter": "python",
   "pygments_lexer": "ipython3",
   "version": "3.9.6"
  }
 },
 "nbformat": 4,
 "nbformat_minor": 5
}
