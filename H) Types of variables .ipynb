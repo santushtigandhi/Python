{
 "cells": [
  {
   "cell_type": "markdown",
   "id": "782de602-3e6b-4530-b9d9-9458b8b67677",
   "metadata": {},
   "source": [
    "In this repository you'll learn about Python Global variables, Local variables, Nonlocal variables and where to use them."
   ]
  },
  {
   "cell_type": "markdown",
   "id": "67fd7da4-edbc-4aa3-802e-c9c01be539cf",
   "metadata": {},
   "source": [
    "<b>Global Variable</b>"
   ]
  },
  {
   "cell_type": "markdown",
   "id": "171be59a-97f6-484e-b932-0c9b8c850f21",
   "metadata": {},
   "source": [
    "In Python, a variable declared outside of the function or in global scope is known as a global variable. This means that a global variable can be accessed inside or outside of the function.\n",
    "\n",
    "Let's see an example of how a global variable is created in Python."
   ]
  },
  {
   "cell_type": "code",
   "execution_count": 1,
   "id": "8f6cea53-b3d4-4cb2-987a-355b20e88798",
   "metadata": {},
   "outputs": [
    {
     "name": "stdout",
     "output_type": "stream",
     "text": [
      "Hello\n",
      "x outside function: 20\n"
     ]
    }
   ],
   "source": [
    "x = 20\n",
    "def hello():\n",
    "    print(\"Hello\")\n",
    "hello()\n",
    "print(\"x outside function:\", x)"
   ]
  },
  {
   "cell_type": "markdown",
   "id": "f6843447-c082-41d1-b922-0f157698aa14",
   "metadata": {},
   "source": [
    "In the above code, we created x as a global variable and defined a hello() function. When we printed the value of x we see the value outside the function is printed. "
   ]
  },
  {
   "cell_type": "code",
   "execution_count": 2,
   "id": "5e71bd4c-0dfc-4ee1-a358-cf02ad5ba346",
   "metadata": {},
   "outputs": [
    {
     "ename": "UnboundLocalError",
     "evalue": "local variable 'x' referenced before assignment",
     "output_type": "error",
     "traceback": [
      "\u001b[0;31m---------------------------------------------------------------------------\u001b[0m",
      "\u001b[0;31mUnboundLocalError\u001b[0m                         Traceback (most recent call last)",
      "Input \u001b[0;32mIn [2]\u001b[0m, in \u001b[0;36m<cell line: 5>\u001b[0;34m()\u001b[0m\n\u001b[1;32m      3\u001b[0m     x\u001b[38;5;241m=\u001b[39mx\u001b[38;5;241m+\u001b[39m\u001b[38;5;241m10\u001b[39m\n\u001b[1;32m      4\u001b[0m     \u001b[38;5;28mprint\u001b[39m(\u001b[38;5;124m\"\u001b[39m\u001b[38;5;124mx inside function:\u001b[39m\u001b[38;5;124m\"\u001b[39m,x)\n\u001b[0;32m----> 5\u001b[0m \u001b[43mhello\u001b[49m\u001b[43m(\u001b[49m\u001b[43m)\u001b[49m\n\u001b[1;32m      6\u001b[0m \u001b[38;5;28mprint\u001b[39m(\u001b[38;5;124m\"\u001b[39m\u001b[38;5;124mx outside function:\u001b[39m\u001b[38;5;124m\"\u001b[39m, x)\n",
      "Input \u001b[0;32mIn [2]\u001b[0m, in \u001b[0;36mhello\u001b[0;34m()\u001b[0m\n\u001b[1;32m      2\u001b[0m \u001b[38;5;28;01mdef\u001b[39;00m \u001b[38;5;21mhello\u001b[39m():\n\u001b[0;32m----> 3\u001b[0m     x\u001b[38;5;241m=\u001b[39m\u001b[43mx\u001b[49m\u001b[38;5;241m+\u001b[39m\u001b[38;5;241m10\u001b[39m\n\u001b[1;32m      4\u001b[0m     \u001b[38;5;28mprint\u001b[39m(\u001b[38;5;124m\"\u001b[39m\u001b[38;5;124mx inside function:\u001b[39m\u001b[38;5;124m\"\u001b[39m,x)\n",
      "\u001b[0;31mUnboundLocalError\u001b[0m: local variable 'x' referenced before assignment"
     ]
    }
   ],
   "source": [
    "x = 20\n",
    "def hello():\n",
    "    x=x+10\n",
    "    print(\"x inside function:\",x)\n",
    "hello()\n",
    "print(\"x outside function:\", x)"
   ]
  },
  {
   "cell_type": "markdown",
   "id": "127a25d6-66ae-489c-a710-48bd1ea45697",
   "metadata": {},
   "source": [
    "The output shows an error because Python treats x as a local variable and x is also not defined inside hello().\n",
    "\n",
    "To make this work, we use the global keyword."
   ]
  },
  {
   "cell_type": "code",
   "execution_count": 3,
   "id": "33087a26-2232-47ea-8147-fdc27c712d05",
   "metadata": {},
   "outputs": [
    {
     "name": "stdout",
     "output_type": "stream",
     "text": [
      "x inside function: 30\n",
      "x outside function: 30\n"
     ]
    }
   ],
   "source": [
    "x=20\n",
    "def hello():\n",
    "    global x\n",
    "    x=x+10\n",
    "    print(\"x inside function:\",x)\n",
    "hello()\n",
    "print(\"x outside function:\", x)"
   ]
  },
  {
   "cell_type": "markdown",
   "id": "30e2f7ee-49eb-401f-8b25-71ee0c1a3b42",
   "metadata": {},
   "source": [
    "<b>Local Variable</b>"
   ]
  },
  {
   "cell_type": "markdown",
   "id": "f2e13662-6e69-4f2f-b10b-18ae8f5efe4e",
   "metadata": {},
   "source": [
    "A variable declared inside the function's body or in the local scope is known as a local variable."
   ]
  },
  {
   "cell_type": "code",
   "execution_count": 4,
   "id": "b32eab04-2aad-4c47-a0ab-ccf208cbc924",
   "metadata": {},
   "outputs": [
    {
     "name": "stdout",
     "output_type": "stream",
     "text": [
      "10\n"
     ]
    },
    {
     "ename": "NameError",
     "evalue": "name 'a' is not defined",
     "output_type": "error",
     "traceback": [
      "\u001b[0;31m---------------------------------------------------------------------------\u001b[0m",
      "\u001b[0;31mNameError\u001b[0m                                 Traceback (most recent call last)",
      "Input \u001b[0;32mIn [4]\u001b[0m, in \u001b[0;36m<cell line: 5>\u001b[0;34m()\u001b[0m\n\u001b[1;32m      3\u001b[0m     \u001b[38;5;28mprint\u001b[39m(a)\n\u001b[1;32m      4\u001b[0m hello()\n\u001b[0;32m----> 5\u001b[0m \u001b[38;5;28mprint\u001b[39m(\u001b[43ma\u001b[49m)\n",
      "\u001b[0;31mNameError\u001b[0m: name 'a' is not defined"
     ]
    }
   ],
   "source": [
    "def hello():\n",
    "    a=10\n",
    "    print(a)\n",
    "hello()\n",
    "print(a)"
   ]
  },
  {
   "cell_type": "markdown",
   "id": "225fbf8e-2a3b-49da-bea4-a69bd9eeaef2",
   "metadata": {},
   "source": [
    "This is due to the fact that 'a' is a local variable and it can't be accessed outside the function."
   ]
  },
  {
   "cell_type": "code",
   "execution_count": 5,
   "id": "dfa67078-454e-454e-9d4a-f0f9d5be6e77",
   "metadata": {},
   "outputs": [
    {
     "name": "stdout",
     "output_type": "stream",
     "text": [
      "10\n"
     ]
    }
   ],
   "source": [
    "def hello():\n",
    "    a=10\n",
    "    print(a)\n",
    "hello()"
   ]
  },
  {
   "cell_type": "markdown",
   "id": "efee8e19-d401-4d36-be89-8de5b08f22aa",
   "metadata": {},
   "source": [
    "Some more examples of global and local variables."
   ]
  },
  {
   "cell_type": "code",
   "execution_count": 6,
   "id": "c782dc19-6897-4c27-94ee-ecebfc37eaea",
   "metadata": {},
   "outputs": [
    {
     "name": "stdout",
     "output_type": "stream",
     "text": [
      "x inside function: 30\n",
      "y inside function: 20\n"
     ]
    }
   ],
   "source": [
    "x=20\n",
    "def hello():\n",
    "    global x\n",
    "    x=x+10\n",
    "    y=20\n",
    "    print(\"x inside function:\",x)\n",
    "    print(\"y inside function:\",y)\n",
    "hello()"
   ]
  },
  {
   "cell_type": "code",
   "execution_count": 7,
   "id": "69516213-116f-409b-9744-f9856adb3dbb",
   "metadata": {},
   "outputs": [
    {
     "name": "stdout",
     "output_type": "stream",
     "text": [
      "local x: 20\n",
      "global x: 25\n"
     ]
    }
   ],
   "source": [
    "x = 25\n",
    "def hello():\n",
    "    x = 20\n",
    "    print(\"local x:\", x)\n",
    "\n",
    "hello()\n",
    "print(\"global x:\", x)"
   ]
  },
  {
   "cell_type": "markdown",
   "id": "3db084fb-7202-417e-9a16-ebc6f6fcb053",
   "metadata": {},
   "source": [
    "<b>Non Local variable</b>"
   ]
  },
  {
   "cell_type": "markdown",
   "id": "a879aeb3-65f4-44e2-a64b-ed2d4b311b63",
   "metadata": {},
   "source": [
    "Nonlocal variables are used in nested functions whose local scope is not defined. This means that the variable can be neither in the local nor the global scope.\n",
    "\n",
    "Let's see an example of how a nonlocal variable is used in Python."
   ]
  },
  {
   "cell_type": "code",
   "execution_count": 8,
   "id": "d727d3bc-8eb2-4db0-9a7a-f1f4b8cd749a",
   "metadata": {},
   "outputs": [
    {
     "name": "stdout",
     "output_type": "stream",
     "text": [
      "inner: 25\n"
     ]
    }
   ],
   "source": [
    "def hello():\n",
    "    x = \"Hello\"\n",
    "\n",
    "    def hello1():\n",
    "        nonlocal x\n",
    "        x = 25\n",
    "        print(\"inner:\", x)\n",
    "\n",
    "    hello1()\n",
    "\n",
    "hello()"
   ]
  },
  {
   "cell_type": "markdown",
   "id": "845d5657-813d-451d-abfd-a8936a5a0b3b",
   "metadata": {},
   "source": [
    "Below is a image to make you understand what is meant by global,local and nonlocal scope."
   ]
  },
  {
   "cell_type": "markdown",
   "id": "6b3a229d-e7bd-4bae-a057-f54d8fb0446d",
   "metadata": {},
   "source": [
    "<img src=\"https://www.pythontutorial.net/wp-content/uploads/2020/11/Python-nonlocal-Scopes-nonlocal-variable-lookup.png\"></img>"
   ]
  },
  {
   "cell_type": "markdown",
   "id": "53bf4efe-0e1c-4936-8476-4a57eccfdde3",
   "metadata": {},
   "source": [
    "That's it about these variables. In the next repository, we'll learn about classes in Python. <br>\n",
    "Until then, keep practicing and happy learning! :)"
   ]
  }
 ],
 "metadata": {
  "kernelspec": {
   "display_name": "Python 3 (ipykernel)",
   "language": "python",
   "name": "python3"
  },
  "language_info": {
   "codemirror_mode": {
    "name": "ipython",
    "version": 3
   },
   "file_extension": ".py",
   "mimetype": "text/x-python",
   "name": "python",
   "nbconvert_exporter": "python",
   "pygments_lexer": "ipython3",
   "version": "3.9.13"
  }
 },
 "nbformat": 4,
 "nbformat_minor": 5
}
