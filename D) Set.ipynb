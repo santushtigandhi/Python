{
 "cells": [
  {
   "cell_type": "markdown",
   "id": "36801c0d-a6a6-459d-9b2b-a3c2611d799d",
   "metadata": {},
   "source": [
    "<b>Sets</b>"
   ]
  },
  {
   "cell_type": "markdown",
   "id": "a3dc7011-b8d5-4348-8b02-ab372d87bd75",
   "metadata": {},
   "source": [
    "A set is an unordered collection of items. Every set element is unique (no duplicates) and must be immutable (cannot be changed). However, a set itself is mutable. We can add or remove items from it.\n",
    "\n",
    "Sets can also be used to perform mathematical set operations like union, intersection, symmetric difference, etc."
   ]
  },
  {
   "cell_type": "code",
   "execution_count": 2,
   "id": "34c1f2b4-9c56-4412-a2bc-6e92b7b554ea",
   "metadata": {},
   "outputs": [
    {
     "name": "stdout",
     "output_type": "stream",
     "text": [
      "{1, 2, 3}\n",
      "{2.5, (1, 2, 3), 'Hello'}\n"
     ]
    }
   ],
   "source": [
    "a = {1, 2, 3}\n",
    "print(a)\n",
    "\n",
    "a= {2.5, \"Hello\", (1, 2, 3)}\n",
    "print(a)"
   ]
  },
  {
   "cell_type": "markdown",
   "id": "c7085ade-77b9-4565-8968-e3e4f189ddfc",
   "metadata": {},
   "source": [
    "As you can see in the above example, that sets allow items of different data types."
   ]
  },
  {
   "cell_type": "code",
   "execution_count": 3,
   "id": "e4d2b23d-70ff-4a2d-b219-0ea56a9d4bf2",
   "metadata": {},
   "outputs": [
    {
     "ename": "TypeError",
     "evalue": "unhashable type: 'list'",
     "output_type": "error",
     "traceback": [
      "\u001b[0;31m---------------------------------------------------------------------------\u001b[0m",
      "\u001b[0;31mTypeError\u001b[0m                                 Traceback (most recent call last)",
      "Input \u001b[0;32mIn [3]\u001b[0m, in \u001b[0;36m<cell line: 1>\u001b[0;34m()\u001b[0m\n\u001b[0;32m----> 1\u001b[0m a\u001b[38;5;241m=\u001b[39m {\u001b[38;5;241m2.5\u001b[39m, \u001b[38;5;124m\"\u001b[39m\u001b[38;5;124mHello\u001b[39m\u001b[38;5;124m\"\u001b[39m, [\u001b[38;5;241m1\u001b[39m, \u001b[38;5;241m2\u001b[39m, \u001b[38;5;241m3\u001b[39m]}\n\u001b[1;32m      2\u001b[0m \u001b[38;5;28mprint\u001b[39m(a)\n",
      "\u001b[0;31mTypeError\u001b[0m: unhashable type: 'list'"
     ]
    }
   ],
   "source": [
    "a= {2.5, \"Hello\", [1, 2, 3]}\n",
    "print(a)"
   ]
  },
  {
   "cell_type": "markdown",
   "id": "84b2591c-f3c2-47be-b0c7-584da7e17364",
   "metadata": {},
   "source": [
    "Why did the above code give error? <br>\n",
    "This is because the items in the set must be immutable and lists are mutable whereas tuples are immutable."
   ]
  },
  {
   "cell_type": "code",
   "execution_count": 4,
   "id": "3a947551-e7a9-4fdc-9c11-f22ce33e98f6",
   "metadata": {},
   "outputs": [
    {
     "name": "stdout",
     "output_type": "stream",
     "text": [
      "{1, 2, 3, 4}\n"
     ]
    }
   ],
   "source": [
    "b = {1, 2, 3, 4, 3, 2}\n",
    "print(b)"
   ]
  },
  {
   "cell_type": "markdown",
   "id": "3d80c69f-1224-411f-a11c-cac9dd648f22",
   "metadata": {},
   "source": [
    "As you can see sets can't have duplicate items."
   ]
  },
  {
   "cell_type": "code",
   "execution_count": 5,
   "id": "e4144497-069b-420e-8b91-42428ac962ab",
   "metadata": {},
   "outputs": [
    {
     "data": {
      "text/plain": [
       "set"
      ]
     },
     "execution_count": 5,
     "metadata": {},
     "output_type": "execute_result"
    }
   ],
   "source": [
    "a= {2.5, \"Hello\", (1, 2, 3)}\n",
    "type(a) #used to get the data type of 'a'"
   ]
  },
  {
   "cell_type": "markdown",
   "id": "3a989514-d756-427c-ab5d-fbcf7e44817d",
   "metadata": {},
   "source": [
    "<b>How to create an empty set?</b>"
   ]
  },
  {
   "cell_type": "code",
   "execution_count": 7,
   "id": "1091049c-3753-43a7-8b2d-ce2ef9dcffa5",
   "metadata": {},
   "outputs": [
    {
     "name": "stdout",
     "output_type": "stream",
     "text": [
      "<class 'dict'>\n",
      "<class 'set'>\n"
     ]
    }
   ],
   "source": [
    "a = {}\n",
    "print(type(a))\n",
    "\n",
    "a = set()\n",
    "print(type(a))"
   ]
  },
  {
   "cell_type": "markdown",
   "id": "9a1e840d-7ed8-4e19-ae45-e22963582183",
   "metadata": {},
   "source": [
    "As you can see when we used curly braces {} it identifies it as dictionary, not as set."
   ]
  },
  {
   "cell_type": "markdown",
   "id": "278676df-26d8-4673-9c75-f8ae6b67a7d4",
   "metadata": {},
   "source": [
    "Sets are mutable. However, since they are unordered, indexing has no meaning. We cannot access or change an element of a set using indexing or slicing."
   ]
  },
  {
   "cell_type": "code",
   "execution_count": 8,
   "id": "a1cf0d29-e016-4e57-a8be-1c7299b94959",
   "metadata": {},
   "outputs": [
    {
     "name": "stdout",
     "output_type": "stream",
     "text": [
      "{1, 3}\n",
      "{1, 2, 3}\n"
     ]
    }
   ],
   "source": [
    "b = {1, 3}\n",
    "print(b)\n",
    "\n",
    "b.add(2)\n",
    "print(b)"
   ]
  },
  {
   "cell_type": "code",
   "execution_count": 9,
   "id": "c6225364-4e68-47c0-9bfa-68ac145dea0d",
   "metadata": {},
   "outputs": [
    {
     "ename": "TypeError",
     "evalue": "set.add() takes exactly one argument (2 given)",
     "output_type": "error",
     "traceback": [
      "\u001b[0;31m---------------------------------------------------------------------------\u001b[0m",
      "\u001b[0;31mTypeError\u001b[0m                                 Traceback (most recent call last)",
      "Input \u001b[0;32mIn [9]\u001b[0m, in \u001b[0;36m<cell line: 1>\u001b[0;34m()\u001b[0m\n\u001b[0;32m----> 1\u001b[0m \u001b[43mb\u001b[49m\u001b[38;5;241;43m.\u001b[39;49m\u001b[43madd\u001b[49m\u001b[43m(\u001b[49m\u001b[38;5;241;43m4\u001b[39;49m\u001b[43m,\u001b[49m\u001b[38;5;241;43m5\u001b[39;49m\u001b[43m)\u001b[49m\n",
      "\u001b[0;31mTypeError\u001b[0m: set.add() takes exactly one argument (2 given)"
     ]
    }
   ],
   "source": [
    "b.add(4,5)"
   ]
  },
  {
   "cell_type": "markdown",
   "id": "99154fcf-aad9-41f5-b045-3224cc516564",
   "metadata": {},
   "source": [
    "It gives an error as add() only takes one argument/one value. Then, how to add multiple values? We use update() for that."
   ]
  },
  {
   "cell_type": "code",
   "execution_count": 11,
   "id": "d3acc0fe-670a-42da-b92e-21ff993ca5c6",
   "metadata": {},
   "outputs": [
    {
     "name": "stdout",
     "output_type": "stream",
     "text": [
      "{1, 2, 3, 4, 5, 6}\n"
     ]
    }
   ],
   "source": [
    "b.update((2, 3, 4,5,6)) \n",
    "print(b)"
   ]
  },
  {
   "cell_type": "markdown",
   "id": "e695be4c-3a5f-4960-9a08-ab852f632a09",
   "metadata": {},
   "source": [
    "A particular item can also be removed from a set using the methods discard() and remove().\n",
    "\n",
    "The only difference between the two is that the discard() function leaves a set unchanged if the element is not present in the set. On the other hand, the remove() function will raise an error in such a condition (if element is not present in the set)."
   ]
  },
  {
   "cell_type": "code",
   "execution_count": 14,
   "id": "01666537-7d10-4aa8-b4e6-0e4ab1664550",
   "metadata": {},
   "outputs": [
    {
     "name": "stdout",
     "output_type": "stream",
     "text": [
      "{1, 2, 3, 4, 5, 6}\n",
      "{1, 3, 4, 5, 6}\n",
      "{1, 4, 5, 6}\n",
      "{1, 4, 5, 6}\n"
     ]
    },
    {
     "ename": "KeyError",
     "evalue": "9",
     "output_type": "error",
     "traceback": [
      "\u001b[0;31m---------------------------------------------------------------------------\u001b[0m",
      "\u001b[0;31mKeyError\u001b[0m                                  Traceback (most recent call last)",
      "Input \u001b[0;32mIn [14]\u001b[0m, in \u001b[0;36m<cell line: 13>\u001b[0;34m()\u001b[0m\n\u001b[1;32m     10\u001b[0m c\u001b[38;5;241m.\u001b[39mdiscard(\u001b[38;5;241m9\u001b[39m)\n\u001b[1;32m     11\u001b[0m \u001b[38;5;28mprint\u001b[39m(c)\n\u001b[0;32m---> 13\u001b[0m \u001b[43mc\u001b[49m\u001b[38;5;241;43m.\u001b[39;49m\u001b[43mremove\u001b[49m\u001b[43m(\u001b[49m\u001b[38;5;241;43m9\u001b[39;49m\u001b[43m)\u001b[49m\n",
      "\u001b[0;31mKeyError\u001b[0m: 9"
     ]
    }
   ],
   "source": [
    "c = {1, 2,3, 4, 5, 6}\n",
    "print(c)\n",
    "\n",
    "c.discard(2)\n",
    "print(c)\n",
    "\n",
    "c.remove(3)\n",
    "print(c)\n",
    "\n",
    "c.discard(9)\n",
    "print(c)\n",
    "\n",
    "c.remove(9)"
   ]
  },
  {
   "cell_type": "markdown",
   "id": "482cbb72-f7f9-4793-97b9-8d79aa77e0dc",
   "metadata": {},
   "source": [
    "As you can see remove() gave an error when I tried removing 9(which was not present in the initial set) whereas discard didn't give an error."
   ]
  },
  {
   "cell_type": "markdown",
   "id": "01fde1b4-c9aa-4245-8b24-0a58986f71f3",
   "metadata": {},
   "source": [
    "Similarly, we can remove and return an item using the pop() method. Since set is an unordered data type, there is no way of determining which item will be popped from the set as we can't access the elements of a set due to its unorderedness property. Hence, item popped would be completely arbitrary.\n",
    "\n",
    "We can also remove all the items from a set using the clear() method."
   ]
  },
  {
   "cell_type": "code",
   "execution_count": 16,
   "id": "bc56d8a9-c885-44c2-9a0d-e56733d31700",
   "metadata": {},
   "outputs": [
    {
     "name": "stdout",
     "output_type": "stream",
     "text": [
      "1\n",
      "{2, 3, 4, 5}\n",
      "set()\n"
     ]
    }
   ],
   "source": [
    "d = {1,2,3,4,5}\n",
    "print(d.pop())\n",
    "print(d)\n",
    "\n",
    "d.clear()\n",
    "print(d)"
   ]
  },
  {
   "cell_type": "markdown",
   "id": "c89b98af-6537-4d67-9e6c-422068dcb679",
   "metadata": {},
   "source": [
    "<b> Python Set Operations </b>"
   ]
  },
  {
   "cell_type": "markdown",
   "id": "9575e940-35a1-4b4f-afce-4808824687d7",
   "metadata": {},
   "source": [
    "Sets can be used to carry out mathematical set operations like union, intersection, difference and symmetric difference. We can do this with operators or methods."
   ]
  },
  {
   "cell_type": "markdown",
   "id": "0560a089-5f18-4349-8dbc-d019ca51805c",
   "metadata": {},
   "source": [
    "<b>Set Union</b> : Union of A and B is a set of all elements from both sets. Union is performed using | operator. Same can be accomplished using the union() method. <br>\n",
    "<b>Set Intersection </b> : Intersection of A and B is a set of elements that are common in both the sets. Intersection is performed using & operator. Same can be accomplished using the intersection() method. <br>\n",
    "<b> Set Difference</b> :Difference of the set B from set A(A - B) is a set of elements that are only in A but not in B. Similarly, B - A is a set of elements in B but not in A. Difference is performed using - operator. Same can be accomplished using the difference() method. <br>\n",
    "<b>Symetric Difference</b> : Symmetric Difference of A and B is a set of elements in A and B but not in both (excluding the intersection). Symmetric difference is performed using ^ operator. Same can be accomplished using the method symmetric_difference(). <br>"
   ]
  },
  {
   "cell_type": "markdown",
   "id": "c5be0a66-9df7-48d3-9690-8a289e559f17",
   "metadata": {},
   "source": [
    "<img src=\"https://www.learnbyexample.org/wp-content/uploads/python/Python-Set-Operatioons.png\"></img>"
   ]
  },
  {
   "cell_type": "code",
   "execution_count": 18,
   "id": "31bf25b4-6a05-4b88-82c5-8bdc4a68ccea",
   "metadata": {},
   "outputs": [
    {
     "name": "stdout",
     "output_type": "stream",
     "text": [
      "{1, 2, 3, 4, 5, 6}\n",
      "{1, 2, 3, 4, 5, 6}\n",
      "{1, 2, 3, 4, 5, 6}\n"
     ]
    }
   ],
   "source": [
    "a = {1,2,3,6}\n",
    "b = {1,4,5,6}\n",
    "print(a | b)\n",
    "print(a.union(b))\n",
    "print(b.union(a))"
   ]
  },
  {
   "cell_type": "code",
   "execution_count": 19,
   "id": "32a2add0-77f1-4342-8c0a-59ebedabecd6",
   "metadata": {},
   "outputs": [
    {
     "name": "stdout",
     "output_type": "stream",
     "text": [
      "{1, 6}\n",
      "{1, 6}\n",
      "{1, 6}\n"
     ]
    }
   ],
   "source": [
    "a = {1,2,3,6}\n",
    "b = {1,4,5,6}\n",
    "print(a & b)\n",
    "print(a.intersection(b))\n",
    "print(b.intersection(a))"
   ]
  },
  {
   "cell_type": "code",
   "execution_count": 20,
   "id": "fb222cd2-de25-4977-83e3-8ca2c33fc8c0",
   "metadata": {},
   "outputs": [
    {
     "name": "stdout",
     "output_type": "stream",
     "text": [
      "{2, 3}\n",
      "{4, 5}\n",
      "{2, 3}\n",
      "{4, 5}\n"
     ]
    }
   ],
   "source": [
    "a = {1,2,3,6}\n",
    "b = {1,4,5,6}\n",
    "print(a - b)\n",
    "print(b - a)\n",
    "print(a.difference(b))\n",
    "print(b.difference(a))"
   ]
  },
  {
   "cell_type": "code",
   "execution_count": 22,
   "id": "3fb2d6a4-5fe9-431f-9eb4-9ceb61a1e9eb",
   "metadata": {},
   "outputs": [
    {
     "name": "stdout",
     "output_type": "stream",
     "text": [
      "{2, 3, 4, 5}\n",
      "{2, 3, 4, 5}\n",
      "{2, 3, 4, 5}\n"
     ]
    }
   ],
   "source": [
    "a = {1,2,3,6}\n",
    "b = {1,4,5,6}\n",
    "print(a ^ b)\n",
    "print(a.symmetric_difference(b))\n",
    "print(b.symmetric_difference(a))"
   ]
  },
  {
   "cell_type": "markdown",
   "id": "2522ec55-0842-4b55-80af-159b62b330aa",
   "metadata": {},
   "source": [
    "<b>There are many set methods, some of which we have already used above. Here is a list of all the methods that are available with the set objects: </b>"
   ]
  },
  {
   "cell_type": "markdown",
   "id": "011d2301-ef25-4eec-998a-880ad6d6342d",
   "metadata": {},
   "source": [
    "add() : Adds an element to the set <br>\n",
    "clear() : Removes all elements from the set <br>\n",
    "copy() : Returns a copy of the set <br>\n",
    "difference() : Returns the difference of two or more sets as a new set <br>\n",
    "difference_update() : Removes all elements of another set from this set <br>\n",
    "discard() : Removes an element from the set if it is a member. (Do nothing if the element is not in set) <br>\n",
    "intersection() : returns the intersection of two sets as a new set <br>\n",
    "intersection_update() : Updates the set with the intersection of itself and another <br>\n",
    "isdisjoint() : Returns True if two sets have a null intersection <br>\n",
    "issubset() : Returns True if another set contains this set <br>\n",
    "issuperset() : Returns True if this set contains another set <br>\n",
    "pop() : Removes and returns an arbitrary set element. Raises KeyError if the set is empty <br>\n",
    "remove() : Removes an element from the set. If the element is not a member, raises a KeyError <br>\n",
    "symmetric_difference() : Returns the symmetric difference of two sets as a new set <br>\n",
    "symmetric_difference_update() : Updates a set with the symmetric difference of itself and another <br>\n",
    "union() : Returns the union of sets in a new set <br>\n",
    "update() : Updates the set with the union of itself and others <br>"
   ]
  },
  {
   "cell_type": "markdown",
   "id": "175d69eb-3182-45cd-88b9-9fcc5ab2cdc5",
   "metadata": {},
   "source": [
    "<b>Set Membership Operator</b>"
   ]
  },
  {
   "cell_type": "markdown",
   "id": "752e2203-ac87-40bd-bb59-654b425efe37",
   "metadata": {},
   "source": [
    "We can test if an item exists in a set or not, using the in keyword."
   ]
  },
  {
   "cell_type": "code",
   "execution_count": 23,
   "id": "b8fd0e80-d20d-4d69-9479-9c80cf1c0ef0",
   "metadata": {},
   "outputs": [
    {
     "name": "stdout",
     "output_type": "stream",
     "text": [
      "True\n",
      "False\n",
      "False\n",
      "True\n"
     ]
    }
   ],
   "source": [
    "a = {1,2,3,4,5,6}\n",
    "print(1 in a)\n",
    "print(5 not in a)\n",
    "print(9 in a)\n",
    "print(9 not in a)"
   ]
  },
  {
   "cell_type": "markdown",
   "id": "9971aa5b-baf9-49c3-8b10-83e2d584b20e",
   "metadata": {},
   "source": [
    "There are some more built-in functions in sets which are commonly used to perform various tasks. These are mentioned below and try them on your own."
   ]
  },
  {
   "cell_type": "markdown",
   "id": "fe81e1df-8490-4f40-ab63-dbacc581ad4d",
   "metadata": {},
   "source": [
    "all() : Returns True if all elements of the set are true (or if the set is empty). <br>\n",
    "any() : Returns True if any element of the set is true. If the set is empty, returns False. <br>\n",
    "enumerate() : Returns an enumerate object. It contains the index and value for all the items of the set as a pair. <br>\n",
    "len() : Returns the length (the number of items) in the set. <br>\n",
    "max() : Returns the largest item in the set. <br>\n",
    "min() : Returns the smallest item in the set. <br>\n",
    "sorted() : Returns a new sorted list from elements in the set(does not sort the set itself). <br>\n",
    "sum() : Returns the sum of all elements in the set. <br>"
   ]
  },
  {
   "cell_type": "markdown",
   "id": "221ee849-aa87-4955-8ee5-90fb2799c979",
   "metadata": {},
   "source": [
    "<b>Iterating through a set </b>"
   ]
  },
  {
   "cell_type": "code",
   "execution_count": 27,
   "id": "029f5d3c-04ae-4f06-ba75-1a3593f102bd",
   "metadata": {},
   "outputs": [
    {
     "name": "stdout",
     "output_type": "stream",
     "text": [
      "<class 'set'>\n",
      "1\n",
      "2\n",
      "3\n",
      "4\n",
      "5\n"
     ]
    }
   ],
   "source": [
    "a = {1,2,3,4,5}\n",
    "print(type(a))\n",
    "for i in a:\n",
    "    print(i)"
   ]
  },
  {
   "cell_type": "markdown",
   "id": "077586d3-a93b-4399-88ee-7ed4acf34122",
   "metadata": {},
   "source": [
    "That's it about Sets. We completed our 4 important data types - List,Tuple,Dictionary and Set. <br>\n",
    "Keep practicing questions from the above topics as they are all considered as important data types. <br>\n",
    "Happy Learning!"
   ]
  }
 ],
 "metadata": {
  "kernelspec": {
   "display_name": "Python 3 (ipykernel)",
   "language": "python",
   "name": "python3"
  },
  "language_info": {
   "codemirror_mode": {
    "name": "ipython",
    "version": 3
   },
   "file_extension": ".py",
   "mimetype": "text/x-python",
   "name": "python",
   "nbconvert_exporter": "python",
   "pygments_lexer": "ipython3",
   "version": "3.9.13"
  }
 },
 "nbformat": 4,
 "nbformat_minor": 5
}
