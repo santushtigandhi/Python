{
 "cells": [
  {
   "cell_type": "markdown",
   "id": "educational-herald",
   "metadata": {},
   "source": [
    "<b><center>Loops in Python</b></center>"
   ]
  },
  {
   "cell_type": "markdown",
   "id": "gentle-watch",
   "metadata": {},
   "source": [
    "A Python for loop iterates over an object until that object is complete. For instance, you can iterate over the contents of a list or a string. "
   ]
  },
  {
   "cell_type": "markdown",
   "id": "negative-algorithm",
   "metadata": {},
   "source": [
    "Loops allow you to repeat similar operations in your code. One of the most common types of loops in Python is the for loop. This loop executes a block of code until the loop has iterated over an object."
   ]
  },
  {
   "cell_type": "markdown",
   "id": "chinese-nutrition",
   "metadata": {},
   "source": [
    "The looping simplifies the complex problems into the easy ones. It enables us to alter the flow of the program so that instead of writing the same code again and again, we can repeat the same code for a finite number of times. For example, if we need to print the first 100 natural numbers then, instead of using the print statement 100 times, we can print inside a loop which runs up to 100 iterations."
   ]
  },
  {
   "cell_type": "markdown",
   "id": "coastal-killing",
   "metadata": {},
   "source": [
    "Advantages of Loops :\n",
    "- It provides code re-usability.\n",
    "- Using loops, we do not need to write the same code again and again.\n",
    "- Using loops, we can traverse over the elements of data structures (array or linked lists)."
   ]
  },
  {
   "cell_type": "markdown",
   "id": "alive-harvey",
   "metadata": {},
   "source": [
    "Now let's start discussing the types of loop."
   ]
  },
  {
   "cell_type": "markdown",
   "id": "engaging-rapid",
   "metadata": {},
   "source": [
    "- For Loop"
   ]
  },
  {
   "cell_type": "markdown",
   "id": "essential-currency",
   "metadata": {},
   "source": [
    "A Python for loop runs a block of code until the loop has iterated over every item in an iterable. For loops help you reduce repetition in your code because they let you execute the same operation multiple times. <br>\n",
    "The for loop is used in the case where we need to execute some part of the code until the given condition is satisfied. The for loop is also called as a per-tested loop. It is better to use for loop if the number of iteration is known in advance."
   ]
  },
  {
   "cell_type": "markdown",
   "id": "subtle-cleanup",
   "metadata": {},
   "source": [
    "<b>Here is the basic syntax of for loop</b>"
   ]
  },
  {
   "cell_type": "markdown",
   "id": "formal-retail",
   "metadata": {},
   "source": [
    "for [item] in [sequence]: <br>\n",
    "&emsp;\t# Run code"
   ]
  },
  {
   "cell_type": "code",
   "execution_count": 1,
   "id": "joint-electricity",
   "metadata": {},
   "outputs": [
    {
     "name": "stdout",
     "output_type": "stream",
     "text": [
      "1\n",
      "2\n",
      "3\n",
      "4\n",
      "5\n",
      "6\n"
     ]
    }
   ],
   "source": [
    "a = [1,2,3,4,5,6]\n",
    "for i in a:\n",
    "    print(i)"
   ]
  },
  {
   "cell_type": "code",
   "execution_count": 2,
   "id": "brazilian-script",
   "metadata": {},
   "outputs": [
    {
     "name": "stdout",
     "output_type": "stream",
     "text": [
      "P\n",
      "y\n",
      "t\n",
      "h\n",
      "o\n",
      "n\n"
     ]
    }
   ],
   "source": [
    "b = \"Python\"\n",
    "for i in b:\n",
    "    print(i)"
   ]
  },
  {
   "cell_type": "markdown",
   "id": "challenging-george",
   "metadata": {},
   "source": [
    "The range() function creates a sequence of numbers in a given range. You can use range() to specify how many times a loop should iterate. <br>\n",
    "\n",
    "Let’s use a simple example of a for loop to illustrate how this operation works. Suppose we want to print out a list of every number between 1 and 5. We could do so using this code:"
   ]
  },
  {
   "cell_type": "code",
   "execution_count": 3,
   "id": "inappropriate-riverside",
   "metadata": {},
   "outputs": [
    {
     "name": "stdout",
     "output_type": "stream",
     "text": [
      "0\n",
      "1\n",
      "2\n",
      "3\n",
      "4\n"
     ]
    }
   ],
   "source": [
    "for i in range(5):\n",
    "    print(i)"
   ]
  },
  {
   "cell_type": "markdown",
   "id": "little-soccer",
   "metadata": {},
   "source": [
    "- Nested For loop"
   ]
  },
  {
   "cell_type": "markdown",
   "id": "danish-guess",
   "metadata": {},
   "source": [
    "In Python, a loop inside a loop is known as a nested loop. Let's take an example of Nested For loop."
   ]
  },
  {
   "cell_type": "code",
   "execution_count": 4,
   "id": "cross-mercury",
   "metadata": {},
   "outputs": [
    {
     "name": "stdout",
     "output_type": "stream",
     "text": [
      "1 2 3 4 5 6 7 8 9 10 \n",
      "2 4 6 8 10 12 14 16 18 20 \n",
      "3 6 9 12 15 18 21 24 27 30 \n",
      "4 8 12 16 20 24 28 32 36 40 \n",
      "5 10 15 20 25 30 35 40 45 50 \n",
      "6 12 18 24 30 36 42 48 54 60 \n",
      "7 14 21 28 35 42 49 56 63 70 \n",
      "8 16 24 32 40 48 56 64 72 80 \n",
      "9 18 27 36 45 54 63 72 81 90 \n",
      "10 20 30 40 50 60 70 80 90 100 \n"
     ]
    }
   ],
   "source": [
    "for i in range(1,11):  #Outer loop\n",
    "    for j in range(1,11):   #Inner loop\n",
    "        print(i*j,end=\" \")\n",
    "    print()"
   ]
  },
  {
   "cell_type": "markdown",
   "id": "systematic-developer",
   "metadata": {},
   "source": [
    "Let's understand the output here. <br>\n",
    "First for loop i=1 then it will enter the inner loop with j=1 and will print 1 * 1 = 1 then j=2 (since the inner loop didn't get completed) and will print 1 * 2 = 2 similarly 1 * 3 = 3 and so on to 1 * 10 = 10 them it will exit and will enter the outer loop with i=2 and similarly will complete the inner loop. It will continue till i=10."
   ]
  },
  {
   "cell_type": "markdown",
   "id": "rotary-length",
   "metadata": {},
   "source": [
    "- While Loop"
   ]
  },
  {
   "cell_type": "markdown",
   "id": "medical-corporation",
   "metadata": {},
   "source": [
    "The Python while loop allows a part of the code to be executed until the given condition returns false. It is also known as a pre-tested loop. <br>\n",
    "\n",
    "It can be viewed as a repeating if statement. When we don't know the number of iterations then the while loop is most effective to use."
   ]
  },
  {
   "cell_type": "markdown",
   "id": "quarterly-departure",
   "metadata": {},
   "source": [
    "<b>The syntax is given below.</b><br>\n",
    "\n",
    "while expression:<br> \n",
    "&emsp;    statements    "
   ]
  },
  {
   "cell_type": "code",
   "execution_count": 5,
   "id": "broken-mother",
   "metadata": {},
   "outputs": [
    {
     "name": "stdout",
     "output_type": "stream",
     "text": [
      "1\n",
      "2\n",
      "3\n",
      "4\n",
      "5\n"
     ]
    }
   ],
   "source": [
    "i = 1\n",
    "while(i<6):\n",
    "    print(i)\n",
    "    i=i+1"
   ]
  },
  {
   "cell_type": "markdown",
   "id": "chubby-permit",
   "metadata": {},
   "source": [
    "<b>Why is there a need of i=i+1?</b><br>\n",
    "This is because, if this condition will not be given i value will always remain 1, and it will keep getting printed infinite times as 1 is less than 6. It would result in an endless loop. Hence, it is very important to increment the value by 1 so that when i=6, the loop will terminate."
   ]
  },
  {
   "cell_type": "markdown",
   "id": "violent-category",
   "metadata": {},
   "source": [
    "- Nested While loop"
   ]
  },
  {
   "cell_type": "markdown",
   "id": "educated-cache",
   "metadata": {},
   "source": [
    "In Python, a loop inside a loop is known as a nested loop. Let's take an example of Nested While loop."
   ]
  },
  {
   "cell_type": "code",
   "execution_count": 6,
   "id": "whole-negative",
   "metadata": {},
   "outputs": [
    {
     "name": "stdout",
     "output_type": "stream",
     "text": [
      "1 Outer loop\n",
      "1 Inner loop\n",
      "2 Inner loop\n",
      "3 Inner loop\n",
      "2 Outer loop\n",
      "1 Inner loop\n",
      "2 Inner loop\n",
      "3 Inner loop\n",
      "3 Outer loop\n",
      "1 Inner loop\n",
      "2 Inner loop\n",
      "3 Inner loop\n"
     ]
    }
   ],
   "source": [
    "i=1\n",
    "while i<=3 :\n",
    "    print(i,\"Outer loop\")\n",
    "    j=1\n",
    "    while j<=3:\n",
    "        print(j,\"Inner loop\")\n",
    "        j+=1\n",
    "    i+=1"
   ]
  },
  {
   "cell_type": "markdown",
   "id": "increasing-treaty",
   "metadata": {},
   "source": [
    "Here, it will first enter outer loop i=1 and then enter inner loop j=1, it will print the statement and after that j got incremented by 1. j=2 then print, j=3 then print. Then it will exit the inner loop and enter the outer loop again with i=2 and similarly inner loop will end after executing all the values of j. This program terminate end when i=4."
   ]
  },
  {
   "cell_type": "markdown",
   "id": "critical-budget",
   "metadata": {},
   "source": [
    "In the next repository, we will discuss about the Loop Control statements."
   ]
  }
 ],
 "metadata": {
  "kernelspec": {
   "display_name": "Python 3",
   "language": "python",
   "name": "python3"
  },
  "language_info": {
   "codemirror_mode": {
    "name": "ipython",
    "version": 3
   },
   "file_extension": ".py",
   "mimetype": "text/x-python",
   "name": "python",
   "nbconvert_exporter": "python",
   "pygments_lexer": "ipython3",
   "version": "3.9.6"
  }
 },
 "nbformat": 4,
 "nbformat_minor": 5
}
