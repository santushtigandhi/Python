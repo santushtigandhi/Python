{
 "cells": [
  {
   "cell_type": "markdown",
   "id": "handled-literature",
   "metadata": {},
   "source": [
    "<b><center> Strings in Python </b></center>"
   ]
  },
  {
   "cell_type": "markdown",
   "id": "derived-midnight",
   "metadata": {},
   "source": [
    "Strings in python are text surrounded by either single quotation marks, or double quotation marks."
   ]
  },
  {
   "cell_type": "markdown",
   "id": "compatible-lyric",
   "metadata": {},
   "source": [
    "<b>Note : </b>'Python' is the same as \"Python\"."
   ]
  },
  {
   "cell_type": "markdown",
   "id": "headed-walnut",
   "metadata": {},
   "source": [
    "You can display a string with the print command."
   ]
  },
  {
   "cell_type": "code",
   "execution_count": 1,
   "id": "starting-longitude",
   "metadata": {},
   "outputs": [
    {
     "name": "stdout",
     "output_type": "stream",
     "text": [
      "Python\n",
      "<class 'str'>\n",
      "Python\n",
      "<class 'str'>\n"
     ]
    }
   ],
   "source": [
    "a=\"Python\"\n",
    "b='Python'\n",
    "print(a)\n",
    "print(type(a))\n",
    "print(b)\n",
    "print(type(b))"
   ]
  },
  {
   "cell_type": "code",
   "execution_count": 2,
   "id": "portable-desert",
   "metadata": {},
   "outputs": [
    {
     "name": "stdout",
     "output_type": "stream",
     "text": [
      "Hello World\n"
     ]
    }
   ],
   "source": [
    "print(\"Hello World\")"
   ]
  },
  {
   "cell_type": "markdown",
   "id": "rolled-vertical",
   "metadata": {},
   "source": [
    "<b>Multiline Strings</b><br>\n",
    "You can assign a multiline string to a variable by using three quotes:"
   ]
  },
  {
   "cell_type": "code",
   "execution_count": 3,
   "id": "original-mason",
   "metadata": {},
   "outputs": [
    {
     "name": "stdout",
     "output_type": "stream",
     "text": [
      "Hello!\n",
      "Python is my favourite programming language\n"
     ]
    }
   ],
   "source": [
    "c = '''Hello!\n",
    "Python is my favourite programming language''' \n",
    "print(c)"
   ]
  },
  {
   "cell_type": "code",
   "execution_count": 4,
   "id": "attempted-burst",
   "metadata": {},
   "outputs": [
    {
     "name": "stdout",
     "output_type": "stream",
     "text": [
      "Hello!\n",
      "Python is my favourite programming language\n"
     ]
    }
   ],
   "source": [
    "c = \"\"\"Hello!\n",
    "Python is my favourite programming language\"\"\"\n",
    "print(c)"
   ]
  },
  {
   "cell_type": "markdown",
   "id": "informal-phenomenon",
   "metadata": {},
   "source": [
    "<b>Note :</b> In the result, the line breaks are inserted at the same position as in the code."
   ]
  },
  {
   "cell_type": "markdown",
   "id": "specialized-seating",
   "metadata": {},
   "source": [
    "Like many other popular programming languages, strings in Python are arrays of bytes representing unicode characters. However, Python does not have a character data type, a single character is simply a string with a length of 1. <br>\n",
    "\n",
    "Square brackets can be used to access elements of the string. <br>"
   ]
  },
  {
   "cell_type": "code",
   "execution_count": 5,
   "id": "industrial-analyst",
   "metadata": {},
   "outputs": [
    {
     "name": "stdout",
     "output_type": "stream",
     "text": [
      "a\n"
     ]
    }
   ],
   "source": [
    "d = \"Learn Python\"\n",
    "print(d[2]) #Here indexing starts from 0. So accessing 2nd element will give 'a'"
   ]
  },
  {
   "cell_type": "markdown",
   "id": "exempt-windows",
   "metadata": {},
   "source": [
    "<b>Looping in Strings</b>"
   ]
  },
  {
   "cell_type": "markdown",
   "id": "defensive-salvation",
   "metadata": {},
   "source": [
    "Just as you have already studied about loops in Python. It's the same loops in strings as well."
   ]
  },
  {
   "cell_type": "code",
   "execution_count": 6,
   "id": "adverse-phase",
   "metadata": {},
   "outputs": [
    {
     "name": "stdout",
     "output_type": "stream",
     "text": [
      "a\n",
      "p\n",
      "p\n",
      "l\n",
      "e\n"
     ]
    }
   ],
   "source": [
    "for e in \"apple\":\n",
    "  print(e)"
   ]
  },
  {
   "cell_type": "markdown",
   "id": "utility-worship",
   "metadata": {},
   "source": [
    "<b>Length of String</b>"
   ]
  },
  {
   "cell_type": "markdown",
   "id": "possible-extra",
   "metadata": {},
   "source": [
    "To get the length of a string, use the len() function."
   ]
  },
  {
   "cell_type": "code",
   "execution_count": 7,
   "id": "steady-representative",
   "metadata": {},
   "outputs": [
    {
     "name": "stdout",
     "output_type": "stream",
     "text": [
      "12\n"
     ]
    }
   ],
   "source": [
    "f = \"Hello World!\"\n",
    "print(len(f))"
   ]
  },
  {
   "cell_type": "markdown",
   "id": "antique-fleet",
   "metadata": {},
   "source": [
    "<b> To check in Strings</b>"
   ]
  },
  {
   "cell_type": "markdown",
   "id": "immediate-facility",
   "metadata": {},
   "source": [
    "To check if a certain phrase or character is present in a string, we can use the keyword in."
   ]
  },
  {
   "cell_type": "code",
   "execution_count": 8,
   "id": "valid-congo",
   "metadata": {},
   "outputs": [
    {
     "name": "stdout",
     "output_type": "stream",
     "text": [
      "True\n"
     ]
    }
   ],
   "source": [
    "g = \"This is my house\"\n",
    "print(\"is\" in g)"
   ]
  },
  {
   "cell_type": "code",
   "execution_count": 9,
   "id": "embedded-observation",
   "metadata": {},
   "outputs": [
    {
     "name": "stdout",
     "output_type": "stream",
     "text": [
      "False\n"
     ]
    }
   ],
   "source": [
    "g = \"This is my house\"\n",
    "print(\"Is\" in g)"
   ]
  },
  {
   "cell_type": "markdown",
   "id": "caring-korea",
   "metadata": {},
   "source": [
    "<b>Note :</b> This is case sensitive method."
   ]
  },
  {
   "cell_type": "code",
   "execution_count": 10,
   "id": "uniform-transaction",
   "metadata": {},
   "outputs": [
    {
     "name": "stdout",
     "output_type": "stream",
     "text": [
      "We found it!\n"
     ]
    }
   ],
   "source": [
    "g = \"This is my house\"\n",
    "if \"is\" in g:\n",
    "    print(\"We found it!\")"
   ]
  },
  {
   "cell_type": "markdown",
   "id": "resident-district",
   "metadata": {},
   "source": [
    "Similarly, if we want to check if a certain phrase or character is not present in a string, we can use the keyword not in."
   ]
  },
  {
   "cell_type": "code",
   "execution_count": 11,
   "id": "labeled-footwear",
   "metadata": {},
   "outputs": [
    {
     "name": "stdout",
     "output_type": "stream",
     "text": [
      "True\n"
     ]
    }
   ],
   "source": [
    "g = \"This is my house\"\n",
    "print(\"home\" not in g)"
   ]
  },
  {
   "cell_type": "markdown",
   "id": "industrial-advisory",
   "metadata": {},
   "source": [
    "<b>Slicing in Python</b>"
   ]
  },
  {
   "cell_type": "markdown",
   "id": "elegant-emission",
   "metadata": {},
   "source": [
    "You can also return a range of characters by using the slice syntax. <br>\n",
    "Specify the start index and the end index, separated by a colon, to return a part of the string. <br>\n",
    "<b>Note: </b>Indexing starts from index 0."
   ]
  },
  {
   "cell_type": "code",
   "execution_count": 12,
   "id": "sublime-gates",
   "metadata": {},
   "outputs": [
    {
     "name": "stdout",
     "output_type": "stream",
     "text": [
      "arn P\n"
     ]
    }
   ],
   "source": [
    "h = \"Learn Python\"\n",
    "print(h[2:7]) "
   ]
  },
  {
   "cell_type": "markdown",
   "id": "confirmed-freedom",
   "metadata": {},
   "source": [
    "<b>Note: </b> End Index is exclusive i.e it is not included in the rangle whereas the starting index is inclusive."
   ]
  },
  {
   "cell_type": "code",
   "execution_count": 13,
   "id": "modified-anatomy",
   "metadata": {},
   "outputs": [
    {
     "name": "stdout",
     "output_type": "stream",
     "text": [
      "Learn Python\n"
     ]
    }
   ],
   "source": [
    "h = \"Learn Python\"\n",
    "print(h[:]) #If we don't specify the start and end index, it transverse the whole string."
   ]
  },
  {
   "cell_type": "code",
   "execution_count": 14,
   "id": "induced-sector",
   "metadata": {},
   "outputs": [
    {
     "name": "stdout",
     "output_type": "stream",
     "text": [
      "nohtyP nraeL\n"
     ]
    }
   ],
   "source": [
    "h = \"Learn Python\"\n",
    "print(h[: : -1]) #Prints reverse of the string"
   ]
  },
  {
   "cell_type": "code",
   "execution_count": 15,
   "id": "enhanced-fellow",
   "metadata": {},
   "outputs": [
    {
     "name": "stdout",
     "output_type": "stream",
     "text": [
      "rn Python\n"
     ]
    }
   ],
   "source": [
    "h = \"Learn Python\"\n",
    "print(h[3:]) #If we don't specify end index, it transverse to the end of the string."
   ]
  },
  {
   "cell_type": "code",
   "execution_count": 16,
   "id": "minute-integer",
   "metadata": {},
   "outputs": [
    {
     "name": "stdout",
     "output_type": "stream",
     "text": [
      "Learn Py\n"
     ]
    }
   ],
   "source": [
    "h = \"Learn Python\"\n",
    "print(h[:8]) #If we don't specify the starting index, it starts from the first character of the string itself."
   ]
  },
  {
   "cell_type": "markdown",
   "id": "patient-prince",
   "metadata": {},
   "source": [
    "<b>Negative Indexing</b>"
   ]
  },
  {
   "cell_type": "code",
   "execution_count": 17,
   "id": "mental-warehouse",
   "metadata": {},
   "outputs": [
    {
     "name": "stdout",
     "output_type": "stream",
     "text": [
      "ytho\n"
     ]
    }
   ],
   "source": [
    "h = \"Learn Python\"\n",
    "print(h[-5:-1])"
   ]
  },
  {
   "cell_type": "markdown",
   "id": "functional-stroke",
   "metadata": {},
   "source": [
    "<img src=\"https://www.learnbyexample.org/wp-content/uploads/python/Python-String-Slicing-Negative-Indices.png\"></img>"
   ]
  },
  {
   "cell_type": "markdown",
   "id": "dated-breeding",
   "metadata": {},
   "source": [
    "In the above example - \"n\" is on Index -1 <br>\n",
    "&emsp;&emsp;&emsp;&emsp;&emsp;&emsp;&emsp;&emsp;&emsp;&emsp;&nbsp; \"o\" is on Index -2 <br>\n",
    "&emsp;&emsp;&emsp;&emsp;&emsp;&emsp;&emsp;&emsp;&emsp;&emsp;&nbsp; \"h\" is on Index -3 <br>\n",
    "&emsp;&emsp;&emsp;&emsp;&emsp;&emsp;&emsp;&emsp;&emsp;&emsp;&nbsp; \"t\" is on Index -4 <br>\n",
    "&emsp;&emsp;&emsp;&emsp;&emsp;&emsp;&emsp;&emsp;&emsp;&emsp;&nbsp; \"y\" is on Index -5 <br>\n",
    "&emsp;&emsp;&emsp;&emsp;&emsp;&emsp;&emsp;&emsp;&emsp;&emsp;&nbsp; \"P\" is on Index -6 <br>\n",
    "&emsp;&emsp;&emsp;&emsp;&emsp;&emsp;&emsp;&emsp;&emsp;&emsp;&nbsp; \" \" is on Index -7 <br>\n",
    "&emsp;&emsp;&emsp;&emsp;&emsp;&emsp;&emsp;&emsp;&emsp;&emsp;&nbsp; \"n\" is on Index -8 <br>\n",
    "&emsp;&emsp;&emsp;&emsp;&emsp;&emsp;&emsp;&emsp;&emsp;&emsp;&nbsp; \"r\" is on Index -9 <br>\n",
    "&emsp;&emsp;&emsp;&emsp;&emsp;&emsp;&emsp;&emsp;&emsp;&emsp;&nbsp; \"a\" is on Index -10 <br>\n",
    "&emsp;&emsp;&emsp;&emsp;&emsp;&emsp;&emsp;&emsp;&emsp;&emsp;&nbsp; \"e\" is on Index -11 <br>\n",
    "&emsp;&emsp;&emsp;&emsp;&emsp;&emsp;&emsp;&emsp;&emsp;&emsp;&nbsp; \"L\" is on Index -12 <br>"
   ]
  },
  {
   "cell_type": "code",
   "execution_count": 18,
   "id": "constant-baltimore",
   "metadata": {},
   "outputs": [
    {
     "name": "stdout",
     "output_type": "stream",
     "text": [
      " Pyth\n"
     ]
    }
   ],
   "source": [
    "h = \"Learn Python\"\n",
    "print(h[-7:-2]) #Note that space is also included here."
   ]
  },
  {
   "cell_type": "markdown",
   "id": "professional-bernard",
   "metadata": {},
   "source": [
    "<b>Python has some set of built-in methods that you can use on strings.</b>"
   ]
  },
  {
   "cell_type": "markdown",
   "id": "southeast-illustration",
   "metadata": {},
   "source": [
    "- The upper() method returns the string in upper case"
   ]
  },
  {
   "cell_type": "code",
   "execution_count": 19,
   "id": "desperate-degree",
   "metadata": {},
   "outputs": [
    {
     "name": "stdout",
     "output_type": "stream",
     "text": [
      "PROGRAMMING\n"
     ]
    }
   ],
   "source": [
    "i = \"Programming\"\n",
    "print(i.upper())"
   ]
  },
  {
   "cell_type": "markdown",
   "id": "dense-banking",
   "metadata": {},
   "source": [
    "- The lower() method returns the string in lower case"
   ]
  },
  {
   "cell_type": "code",
   "execution_count": 20,
   "id": "raised-strip",
   "metadata": {},
   "outputs": [
    {
     "name": "stdout",
     "output_type": "stream",
     "text": [
      "programming\n"
     ]
    }
   ],
   "source": [
    "i = \"Programming\"\n",
    "print(i.lower())"
   ]
  },
  {
   "cell_type": "code",
   "execution_count": 21,
   "id": "stuck-active",
   "metadata": {},
   "outputs": [
    {
     "name": "stdout",
     "output_type": "stream",
     "text": [
      "programming\n"
     ]
    }
   ],
   "source": [
    "i = \"PROGRAMMING\"\n",
    "print(i.lower())"
   ]
  },
  {
   "cell_type": "markdown",
   "id": "excess-philip",
   "metadata": {},
   "source": [
    "- The strip() method removes any whitespace from the beginning or the end"
   ]
  },
  {
   "cell_type": "code",
   "execution_count": 22,
   "id": "charitable-cartridge",
   "metadata": {},
   "outputs": [
    {
     "name": "stdout",
     "output_type": "stream",
     "text": [
      "     Programming    \n"
     ]
    }
   ],
   "source": [
    "i = \"     Programming    \"\n",
    "print(i)"
   ]
  },
  {
   "cell_type": "code",
   "execution_count": 23,
   "id": "hispanic-therapist",
   "metadata": {},
   "outputs": [
    {
     "name": "stdout",
     "output_type": "stream",
     "text": [
      "Programming\n"
     ]
    }
   ],
   "source": [
    "i = \"     Programming    \"\n",
    "print(i.strip())"
   ]
  },
  {
   "cell_type": "markdown",
   "id": "unique-chemical",
   "metadata": {},
   "source": [
    "- The replace() method replaces a string with another string"
   ]
  },
  {
   "cell_type": "code",
   "execution_count": 24,
   "id": "immune-steering",
   "metadata": {},
   "outputs": [
    {
     "name": "stdout",
     "output_type": "stream",
     "text": [
      "Krogramming\n"
     ]
    }
   ],
   "source": [
    "i = \"Programming\"\n",
    "print(i.replace(\"P\",\"K\"))"
   ]
  },
  {
   "cell_type": "markdown",
   "id": "divine-projection",
   "metadata": {},
   "source": [
    "- The split() method splits the string into substrings if it finds instances of the separator. The split() method returns a list where the text between the specified separator becomes the list items."
   ]
  },
  {
   "cell_type": "code",
   "execution_count": 25,
   "id": "twelve-jewel",
   "metadata": {},
   "outputs": [
    {
     "name": "stdout",
     "output_type": "stream",
     "text": [
      "['Learn', 'Programming!']\n"
     ]
    }
   ],
   "source": [
    "j = \"Learn Programming!\"\n",
    "print(j.split())"
   ]
  },
  {
   "cell_type": "markdown",
   "id": "anticipated-morgan",
   "metadata": {},
   "source": [
    "<b>String Concatenation</b>"
   ]
  },
  {
   "cell_type": "markdown",
   "id": "saved-chicken",
   "metadata": {},
   "source": [
    "In order to concatenate, or combine two strings you can use the + operator."
   ]
  },
  {
   "cell_type": "code",
   "execution_count": 26,
   "id": "sunrise-formula",
   "metadata": {},
   "outputs": [
    {
     "name": "stdout",
     "output_type": "stream",
     "text": [
      "MyPen\n"
     ]
    }
   ],
   "source": [
    "a = \"My\"\n",
    "b = \"Pen\"\n",
    "print(a+b)"
   ]
  },
  {
   "cell_type": "code",
   "execution_count": 27,
   "id": "heard-configuration",
   "metadata": {},
   "outputs": [
    {
     "name": "stdout",
     "output_type": "stream",
     "text": [
      "My Pen\n"
     ]
    }
   ],
   "source": [
    "a = \"My\"\n",
    "b = \"Pen\"\n",
    "print(a+\" \"+b)"
   ]
  },
  {
   "cell_type": "markdown",
   "id": "fatal-yacht",
   "metadata": {},
   "source": [
    "<b>Format Strings</b>"
   ]
  },
  {
   "cell_type": "markdown",
   "id": "environmental-panic",
   "metadata": {},
   "source": [
    "As we know that, we cannot combine strings and numbers. "
   ]
  },
  {
   "cell_type": "code",
   "execution_count": 28,
   "id": "injured-transsexual",
   "metadata": {},
   "outputs": [
    {
     "ename": "TypeError",
     "evalue": "can only concatenate str (not \"int\") to str",
     "output_type": "error",
     "traceback": [
      "\u001b[1;31m---------------------------------------------------------------------------\u001b[0m",
      "\u001b[1;31mTypeError\u001b[0m                                 Traceback (most recent call last)",
      "\u001b[1;32m<ipython-input-28-de7e0746a7c1>\u001b[0m in \u001b[0;36m<module>\u001b[1;34m\u001b[0m\n\u001b[0;32m      1\u001b[0m \u001b[0ma\u001b[0m \u001b[1;33m=\u001b[0m \u001b[1;36m19\u001b[0m\u001b[1;33m\u001b[0m\u001b[1;33m\u001b[0m\u001b[0m\n\u001b[1;32m----> 2\u001b[1;33m \u001b[0mb\u001b[0m \u001b[1;33m=\u001b[0m \u001b[1;34m\"Hello! My age is \"\u001b[0m \u001b[1;33m+\u001b[0m \u001b[0ma\u001b[0m\u001b[1;33m\u001b[0m\u001b[1;33m\u001b[0m\u001b[0m\n\u001b[0m\u001b[0;32m      3\u001b[0m \u001b[0mprint\u001b[0m\u001b[1;33m(\u001b[0m\u001b[0mb\u001b[0m\u001b[1;33m)\u001b[0m\u001b[1;33m\u001b[0m\u001b[1;33m\u001b[0m\u001b[0m\n",
      "\u001b[1;31mTypeError\u001b[0m: can only concatenate str (not \"int\") to str"
     ]
    }
   ],
   "source": [
    "a = 19\n",
    "b = \"Hello! My age is \" + a\n",
    "print(b)"
   ]
  },
  {
   "cell_type": "markdown",
   "id": "opposite-cruise",
   "metadata": {},
   "source": [
    "However, we can combine strings and numbers by using the format() method. <br>\n",
    "\n",
    "The format() method takes the passed arguments, formats them, and places them in the string where the placeholders {} are."
   ]
  },
  {
   "cell_type": "code",
   "execution_count": 29,
   "id": "instructional-ocean",
   "metadata": {},
   "outputs": [
    {
     "name": "stdout",
     "output_type": "stream",
     "text": [
      "Hello! My age is 19\n"
     ]
    }
   ],
   "source": [
    "a = 19\n",
    "b = \"Hello! My age is {}\"\n",
    "print(b.format(a))"
   ]
  },
  {
   "cell_type": "markdown",
   "id": "frequent-object",
   "metadata": {},
   "source": [
    "The format() method takes multiple number of arguments, and are placed into the respective placeholders"
   ]
  },
  {
   "cell_type": "code",
   "execution_count": 30,
   "id": "peaceful-exploration",
   "metadata": {},
   "outputs": [
    {
     "name": "stdout",
     "output_type": "stream",
     "text": [
      "Hello! My age is 19. My favorite programming language is Python and I'm currently pursuing Bsc(H) Computer Science\n"
     ]
    }
   ],
   "source": [
    "a = 19\n",
    "b = \"Python\"\n",
    "c = \"Bsc(H) Computer Science\"\n",
    "d = \"Hello! My age is {}. My favorite programming language is {} and I'm currently pursuing {}\"\n",
    "print(d.format(a,b,c))"
   ]
  },
  {
   "cell_type": "markdown",
   "id": "offensive-jason",
   "metadata": {},
   "source": [
    "<b>Note: </b>You can also use index numbers {0} to be sure the arguments are placed in the correct placeholders:"
   ]
  },
  {
   "cell_type": "code",
   "execution_count": 31,
   "id": "controlling-finish",
   "metadata": {},
   "outputs": [
    {
     "name": "stdout",
     "output_type": "stream",
     "text": [
      "Hello! My favorite programming language is Python. My age is 19 and I'm currently pursuing Bsc(H) Computer Science\n"
     ]
    }
   ],
   "source": [
    "a = 19\n",
    "b = \"Python\"\n",
    "c = \"Bsc(H) Computer Science\"\n",
    "d = \"Hello! My favorite programming language is {1}. My age is {0} and I'm currently pursuing {2}\"\n",
    "print(d.format(a,b,c))"
   ]
  },
  {
   "cell_type": "markdown",
   "id": "listed-double",
   "metadata": {},
   "source": [
    "<b>Escape Characters</b>"
   ]
  },
  {
   "cell_type": "markdown",
   "id": "strong-alabama",
   "metadata": {},
   "source": [
    "To insert characters that are illegal in a string, use an escape character. An escape character is a backslash \\ followed by the character you want to insert. <br>\n",
    "\n",
    "An example of an illegal character is a double quote inside a string that is surrounded by double quotes"
   ]
  },
  {
   "cell_type": "code",
   "execution_count": 32,
   "id": "arranged-accused",
   "metadata": {},
   "outputs": [
    {
     "ename": "SyntaxError",
     "evalue": "invalid syntax (<ipython-input-32-e77baf31e84e>, line 1)",
     "output_type": "error",
     "traceback": [
      "\u001b[1;36m  File \u001b[1;32m\"<ipython-input-32-e77baf31e84e>\"\u001b[1;36m, line \u001b[1;32m1\u001b[0m\n\u001b[1;33m    a = \"My name is \"Santushti Gandhi\".\"\u001b[0m\n\u001b[1;37m                     ^\u001b[0m\n\u001b[1;31mSyntaxError\u001b[0m\u001b[1;31m:\u001b[0m invalid syntax\n"
     ]
    }
   ],
   "source": [
    "a = \"My name is \"Santushti Gandhi\".\"\n",
    "print(a)"
   ]
  },
  {
   "cell_type": "markdown",
   "id": "measured-sodium",
   "metadata": {},
   "source": [
    "To fix this problem, use the escape character &nbsp;\\"
   ]
  },
  {
   "cell_type": "code",
   "execution_count": 33,
   "id": "sealed-cambodia",
   "metadata": {},
   "outputs": [
    {
     "name": "stdout",
     "output_type": "stream",
     "text": [
      "My name is \"Santushti Gandhi\".\n"
     ]
    }
   ],
   "source": [
    "a = \"My name is \\\"Santushti Gandhi\\\".\"\n",
    "print(a)"
   ]
  },
  {
   "cell_type": "markdown",
   "id": "signed-worthy",
   "metadata": {},
   "source": [
    "Below is the list of some of the escape characters:"
   ]
  },
  {
   "cell_type": "markdown",
   "id": "accessory-merchant",
   "metadata": {},
   "source": [
    "<img src=\"https://i.ytimg.com/vi/r2CtqCPJyKs/maxresdefault.jpg\"></img>"
   ]
  },
  {
   "cell_type": "markdown",
   "id": "accurate-denver",
   "metadata": {},
   "source": [
    "Below are some of the built-in methods that you can use on strings. You can practise each of the  methods below. <br> <br>\n",
    "capitalize() : Converts the first character to upper case. <br>\n",
    "casefold() : Converts string into lower case. <br>\n",
    "center() : Returns a centered string. <br>\n",
    "count() : Returns the number of times a specified value occurs in a string. <br>\n",
    "encode() : Returns an encoded version of the string. <br>\n",
    "endswith() : Returns true if the string ends with the specified value. <br>\n",
    "expandtabs() : Sets the tab size of the string. <br>\n",
    "find() : Searches the string for a specified value and returns the position of where it was found. <br>\n",
    "format() : Formats specified values in a string. <br>\n",
    "format_map() : Formats specified values in a string. <br>\n",
    "index() : Searches the string for a specified value and returns the position of where it was found. <br>\n",
    "isalnum() : Returns True if all characters in the string are alphanumeric. <br>\n",
    "isalpha() : Returns True if all characters in the string are in the alphabet. <br>\n",
    "isdecimal() : Returns True if all characters in the string are decimals. <br>\n",
    "isdigit() : Returns True if all characters in the string are digits. <br>\n",
    "isidentifier() : Returns True if the string is an identifier. <br>\n",
    "islower() : Returns True if all characters in the string are lower case. <br>\n",
    "isnumeric() : Returns True if all characters in the string are numeric. <br>\n",
    "isprintable() : Returns True if all characters in the string are printable. <br>\n",
    "isspace() : Returns True if all characters in the string are whitespaces. <br>\n",
    "istitle() : Returns True if the string follows the rules of a title. <br>\n",
    "isupper() : Returns True if all characters in the string are upper case. <br>\n",
    "join() : Joins the elements of an iterable to the end of the string. <br>\n",
    "ljust() : Returns a left justified version of the string. <br>\n",
    "lower() : Converts a string into lower case. <br>\n",
    "lstrip() : Returns a left trim version of the string. <br>\n",
    "maketrans() : Returns a translation table to be used in translations. <br>\n",
    "partition() : Returns a tuple where the string is parted into three parts. <br>\n",
    "replace() : Returns a string where a specified value is replaced with a specified value. <br>\n",
    "rfind() : Searches the string for a specified value and returns the last position of where it was found. <br>\n",
    "rindex() : Searches the string for a specified value and returns the last position of where it was found. <br>\n",
    "rjust() : Returns a right justified version of the string. <br>\n",
    "rpartition() : Returns a tuple where the string is parted into three parts. <br>\n",
    "rsplit() : Splits the string at the specified separator, and returns a list. <br>\n",
    "rstrip() : Returns a right trim version of the string. <br>\n",
    "split() : Splits the string at the specified separator, and returns a list. <br>\n",
    "splitlines() : Splits the string at line breaks and returns a list. <br>\n",
    "startswith() : Returns true if the string starts with the specified value. <br>\n",
    "strip() : Returns a trimmed version of the string. <br>\n",
    "swapcase() : Swaps cases, lower case becomes upper case and vice versa. <br>\n",
    "title() : Converts the first character of each word to upper case. <br>\n",
    "translate() : Returns a translated string. <br>\n",
    "upper() : Converts a string into upper case. <br>\n",
    "zfill() : Fills the string with a specified number of 0 values at the beginning. <br>"
   ]
  }
 ],
 "metadata": {
  "kernelspec": {
   "display_name": "Python 3",
   "language": "python",
   "name": "python3"
  },
  "language_info": {
   "codemirror_mode": {
    "name": "ipython",
    "version": 3
   },
   "file_extension": ".py",
   "mimetype": "text/x-python",
   "name": "python",
   "nbconvert_exporter": "python",
   "pygments_lexer": "ipython3",
   "version": "3.9.6"
  }
 },
 "nbformat": 4,
 "nbformat_minor": 5
}
