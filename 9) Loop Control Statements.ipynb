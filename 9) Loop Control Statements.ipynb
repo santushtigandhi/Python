{
 "cells": [
  {
   "cell_type": "markdown",
   "id": "923a0aca-5761-44b0-8f20-f7efd5422202",
   "metadata": {},
   "source": [
    "<center>Loop control Statements</center>"
   ]
  },
  {
   "cell_type": "markdown",
   "id": "dd4128ad-e70b-4ae3-9c5d-7457033a75fa",
   "metadata": {},
   "source": [
    "As we have already learnt about the loops in Python, consisting of:\n",
    "- While loop\n",
    "- For loop\n",
    "- Nested loop"
   ]
  },
  {
   "cell_type": "markdown",
   "id": "a0baa93c-d01b-469d-af49-f999301c7a09",
   "metadata": {},
   "source": [
    "We have studied these loops in our repository <b>6) Loops in Python.</b> If you have any further doubts, you can refer to that repository."
   ]
  },
  {
   "cell_type": "markdown",
   "id": "ea36388e-c25d-44c8-9546-fa14772da2a7",
   "metadata": {},
   "source": [
    "Loop control statements are used to change the flow of execution. These can be used if you wish to skip an iteration or stop the execution. <br>\n",
    "\n",
    "The three types of loop control statements are: <br>\n",
    "\n",
    "- break statement\n",
    "- continue statement\n",
    "- pass statement\n"
   ]
  },
  {
   "cell_type": "markdown",
   "id": "b3dbbe54-9342-4c28-99a7-1652166e5fba",
   "metadata": {},
   "source": [
    "<b>Break Statement</b>"
   ]
  },
  {
   "cell_type": "markdown",
   "id": "d0c0305f-fb24-4667-83fc-b235c3674729",
   "metadata": {},
   "source": [
    "The break statement based on the given condition, will stop the execution and brings the control out of the loop."
   ]
  },
  {
   "cell_type": "markdown",
   "id": "2d79a5bd-88fc-484e-a2f6-0f9cb0a4e103",
   "metadata": {},
   "source": [
    "<center><img src=\"https://cdn.programiz.com/sites/tutorial2program/files/c-break-statement.jpg\"></img></center>"
   ]
  },
  {
   "cell_type": "code",
   "execution_count": 1,
   "id": "97b9d7d5-4d2c-4edd-8154-4e9dee1436b5",
   "metadata": {},
   "outputs": [
    {
     "name": "stdout",
     "output_type": "stream",
     "text": [
      "0\n",
      "1\n",
      "2\n",
      "3\n",
      "4\n",
      "5\n",
      "6\n",
      "7\n",
      "8\n",
      "9\n",
      "10\n",
      "11\n",
      "12\n",
      "13\n"
     ]
    }
   ],
   "source": [
    "for i in range(0,16):\n",
    "    if i==14:\n",
    "        break\n",
    "    else:\n",
    "        print(i)"
   ]
  },
  {
   "cell_type": "markdown",
   "id": "1e0c4e01-27c0-4fc3-a8ff-91f071dccd52",
   "metadata": {},
   "source": [
    "Observe that when i=14, the execution of the loop stops and move out of the for loop. With values less than 14, it prints the value of i."
   ]
  },
  {
   "cell_type": "markdown",
   "id": "586dd448-16dc-4265-aa63-561c8ae4165a",
   "metadata": {},
   "source": [
    "<b>Continue Statement</b>"
   ]
  },
  {
   "cell_type": "markdown",
   "id": "7c0a5d55-6e1c-4590-a75d-ab91a6fa2b66",
   "metadata": {},
   "source": [
    "Continue statement is used to skip the current iteration when the condition is met and allows the loop to continue with the next iteration. It does not bring the control out of the loop unline the break statement."
   ]
  },
  {
   "cell_type": "markdown",
   "id": "8a9c2b91-0a7f-4318-8040-426c2bf1423b",
   "metadata": {},
   "source": [
    "<center><img src=\"https://cdn.programiz.com/sites/tutorial2program/files/continue-statement-flowchart.jpg\"></img></center>"
   ]
  },
  {
   "cell_type": "markdown",
   "id": "76bd706c-53b7-4b52-b258-ef2052656afa",
   "metadata": {},
   "source": [
    "Let's take the above example to understand the execution of continue."
   ]
  },
  {
   "cell_type": "code",
   "execution_count": 2,
   "id": "22c77a3f-0377-452f-9bdd-da97da898e7e",
   "metadata": {},
   "outputs": [
    {
     "name": "stdout",
     "output_type": "stream",
     "text": [
      "0\n",
      "1\n",
      "2\n",
      "3\n",
      "4\n",
      "5\n",
      "6\n",
      "7\n",
      "8\n",
      "9\n",
      "10\n",
      "11\n",
      "12\n",
      "13\n",
      "15\n"
     ]
    }
   ],
   "source": [
    "for i in range(0,16):\n",
    "    if i==14:\n",
    "        continue\n",
    "    else:\n",
    "        print(i)"
   ]
  },
  {
   "cell_type": "markdown",
   "id": "bcb08a1e-5e1e-4aab-af88-0bc0dcb0f795",
   "metadata": {},
   "source": [
    "Here if you can see the difference between break and continue, as the name suggests break will break the execution of the program whereas continue will skip the current execution and continue with the remaining values. When break encountered i=14 it brings the control out of the loop and skips the remaining value i=15,whereas when continue encountered i=14 it skips this iteration and continued for i=15."
   ]
  },
  {
   "cell_type": "markdown",
   "id": "fdd8c8f9-1036-41dc-926f-aa384cb1c950",
   "metadata": {},
   "source": [
    "<b>Pass Statement</b>"
   ]
  },
  {
   "cell_type": "markdown",
   "id": "32c5c6ea-c74c-4a4a-a240-04977f6d40c9",
   "metadata": {},
   "source": [
    "Pass statement is used when we want to do nothing when the condition is met. It doesn’t skip or stop the execution but it just passes to the next iteration. Sometimes we use comment which is ignored by the interpreter. Pass is not ignored and can be used with loops, functions, classes, etc.\n",
    "\n",
    "It is useful when we do not want to write functionality at present but want to implement it in the future."
   ]
  },
  {
   "cell_type": "markdown",
   "id": "b0c5c899-4578-4a49-aa9c-f323257b7497",
   "metadata": {},
   "source": [
    "<center><img src=\"https://www.onlinetutorialspoint.com/wp-content/uploads/2021/12/pass-flow-diagram.png\"></img></center>"
   ]
  },
  {
   "cell_type": "code",
   "execution_count": 3,
   "id": "7df41c17-14d1-4169-a599-a8695471804e",
   "metadata": {},
   "outputs": [
    {
     "name": "stdout",
     "output_type": "stream",
     "text": [
      "0\n",
      "1\n",
      "2\n",
      "3\n",
      "4\n",
      "5\n",
      "6\n",
      "7\n",
      "8\n",
      "9\n",
      "10\n",
      "11\n",
      "12\n",
      "13\n",
      "14\n",
      "15\n"
     ]
    }
   ],
   "source": [
    "for i in range(0,16):\n",
    "    if i==14:\n",
    "        pass\n",
    "    print(i)"
   ]
  },
  {
   "cell_type": "markdown",
   "id": "c9bb58df-84d0-4852-8b5a-5d897efc284e",
   "metadata": {},
   "source": [
    "Here you see that nothing happened at all. When the pass statement is encountered it doesn't stops or skips the iteration. Then you must be wondering - <b>What is the significance of using pass statement?</b>"
   ]
  },
  {
   "cell_type": "markdown",
   "id": "799518c7-8ec7-43d5-ac0e-6692fbea5048",
   "metadata": {},
   "source": [
    "The pass statement is used as a placeholder for future code. When the pass statement is executed, nothing happens, but you avoid getting an error when empty code is not allowed. Empty code is not allowed in loops, function definitions, class definitions, or in if statements. It serves as a placeholder in Python. It can be used when a statement is required syntactically but the program requires no action."
   ]
  }
 ],
 "metadata": {
  "kernelspec": {
   "display_name": "Python 3 (ipykernel)",
   "language": "python",
   "name": "python3"
  },
  "language_info": {
   "codemirror_mode": {
    "name": "ipython",
    "version": 3
   },
   "file_extension": ".py",
   "mimetype": "text/x-python",
   "name": "python",
   "nbconvert_exporter": "python",
   "pygments_lexer": "ipython3",
   "version": "3.9.13"
  }
 },
 "nbformat": 4,
 "nbformat_minor": 5
}
