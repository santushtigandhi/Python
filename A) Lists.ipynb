{
 "cells": [
  {
   "cell_type": "markdown",
   "id": "bf29136f-0e70-4746-8911-ce842680d1c8",
   "metadata": {},
   "source": [
    "We have already talked about List in our 2) Data Types repository. In this repository, we will look more into this Data Type."
   ]
  },
  {
   "cell_type": "markdown",
   "id": "eacec2ac-fa84-473a-8b62-3c3bfb51626b",
   "metadata": {},
   "source": [
    "<b>Lists</b>"
   ]
  },
  {
   "cell_type": "markdown",
   "id": "bec8a140-acd5-47fd-af32-7bfb3e20d3e7",
   "metadata": {},
   "source": [
    "Lists are used to store multiple items in a single variable. <br>\n",
    "\n",
    "Lists are one of 4 built-in data types in Python used to store collections of data, the other 3 are Tuple, Set, and Dictionary. <br>\n",
    "\n",
    "Lists are created using square brackets."
   ]
  },
  {
   "cell_type": "code",
   "execution_count": 1,
   "id": "8b1b1258-e213-4700-963d-c1fed5c42fa3",
   "metadata": {},
   "outputs": [
    {
     "name": "stdout",
     "output_type": "stream",
     "text": [
      "The list is:  [30, 20, 10]\n"
     ]
    }
   ],
   "source": [
    "a = [30,20,10]\n",
    "print(\"The list is: \",a)"
   ]
  },
  {
   "cell_type": "code",
   "execution_count": 2,
   "id": "fa2b8767-7f15-4329-ac95-62bbc9e5746b",
   "metadata": {},
   "outputs": [
    {
     "name": "stdout",
     "output_type": "stream",
     "text": [
      "The list is:  ['Apple', 10, True]\n"
     ]
    }
   ],
   "source": [
    "b = ['Apple',10,True]\n",
    "print(\"The list is: \",b)"
   ]
  },
  {
   "cell_type": "markdown",
   "id": "253167d3-d849-404d-a64d-8c35bd16e32f",
   "metadata": {},
   "source": [
    "Here, as you can see in the above example, Lists in Python allows data items of different data types which is not true in the case of C++,Java or any other language."
   ]
  },
  {
   "cell_type": "markdown",
   "id": "dfd8a3f0-8357-4bb9-a427-d6608e20150b",
   "metadata": {},
   "source": [
    "List items are ordered, changeable, and allow duplicate values. <br>\n",
    "\n",
    "List items are indexed, the first item has index [0], the second item has index [1] etc.\n",
    "When we say that lists are ordered, it means that the items have a defined order, and that order will not change. <br>\n",
    "\n",
    "If you add new items to a list, the new items will be placed at the end of the list. <br>\n",
    "\n"
   ]
  },
  {
   "cell_type": "code",
   "execution_count": 3,
   "id": "d40a57e1-9fbc-462b-b8cb-11e31bc62ad5",
   "metadata": {},
   "outputs": [
    {
     "name": "stdout",
     "output_type": "stream",
     "text": [
      "The First element is:  12.5\n",
      "The Second element is:  11.5\n",
      "The Third element is:  10.5\n"
     ]
    }
   ],
   "source": [
    "c = [12.5,11.5,10.5]\n",
    "print(\"The First element is: \",c[0])\n",
    "print(\"The Second element is: \",c[1])\n",
    "print(\"The Third element is: \",c[2])"
   ]
  },
  {
   "cell_type": "markdown",
   "id": "337e6e37-7d46-47f7-afe6-07d45439cc45",
   "metadata": {},
   "source": [
    "The list is changeable, meaning that we can change, add, and remove items in a list after it has been created. <br>\n",
    "\n",
    "Since lists are indexed, lists can have items with the same value <br>"
   ]
  },
  {
   "cell_type": "code",
   "execution_count": 4,
   "id": "3e67ce36-f57a-4b16-83c6-de1438e230ca",
   "metadata": {},
   "outputs": [
    {
     "name": "stdout",
     "output_type": "stream",
     "text": [
      "[30, 20, 10, 30]\n"
     ]
    }
   ],
   "source": [
    "d = [30,20,10,30]\n",
    "print(d)"
   ]
  },
  {
   "cell_type": "markdown",
   "id": "03192572-3c06-449f-8042-a709f4a6c4a7",
   "metadata": {},
   "source": [
    "To determine how many items a list has, we use the len() function."
   ]
  },
  {
   "cell_type": "code",
   "execution_count": 5,
   "id": "1ed1182f-c16a-418a-aabb-1d3b33f77a44",
   "metadata": {},
   "outputs": [
    {
     "name": "stdout",
     "output_type": "stream",
     "text": [
      "6\n"
     ]
    }
   ],
   "source": [
    "e = [30,20,10,40,70,20]\n",
    "print(len(e))"
   ]
  },
  {
   "cell_type": "code",
   "execution_count": 6,
   "id": "41e2a371-3431-4855-9f46-3ec2e2f5a699",
   "metadata": {},
   "outputs": [
    {
     "name": "stdout",
     "output_type": "stream",
     "text": [
      "<class 'list'>\n"
     ]
    }
   ],
   "source": [
    "f = [10,20]\n",
    "print(type(f))"
   ]
  },
  {
   "cell_type": "markdown",
   "id": "cec38c4d-a5c8-44c9-8b20-cb63b469f6ff",
   "metadata": {},
   "source": [
    "It is also possible to use the list() constructor when creating a new list."
   ]
  },
  {
   "cell_type": "code",
   "execution_count": 7,
   "id": "a1c93408-6d94-4482-aa3d-c6f9b4044773",
   "metadata": {},
   "outputs": [
    {
     "name": "stdout",
     "output_type": "stream",
     "text": [
      "[1, 2, 3]\n"
     ]
    }
   ],
   "source": [
    "g = list((1,2,3))\n",
    "print(g)"
   ]
  },
  {
   "cell_type": "code",
   "execution_count": 8,
   "id": "1f300401-5d6a-4220-8a18-b0303eab3b2b",
   "metadata": {},
   "outputs": [
    {
     "ename": "TypeError",
     "evalue": "list expected at most 1 argument, got 3",
     "output_type": "error",
     "traceback": [
      "\u001b[0;31m---------------------------------------------------------------------------\u001b[0m",
      "\u001b[0;31mTypeError\u001b[0m                                 Traceback (most recent call last)",
      "Input \u001b[0;32mIn [8]\u001b[0m, in \u001b[0;36m<cell line: 1>\u001b[0;34m()\u001b[0m\n\u001b[0;32m----> 1\u001b[0m g \u001b[38;5;241m=\u001b[39m \u001b[38;5;28;43mlist\u001b[39;49m\u001b[43m(\u001b[49m\u001b[38;5;241;43m1\u001b[39;49m\u001b[43m,\u001b[49m\u001b[38;5;241;43m2\u001b[39;49m\u001b[43m,\u001b[49m\u001b[38;5;241;43m3\u001b[39;49m\u001b[43m)\u001b[49m\n\u001b[1;32m      2\u001b[0m \u001b[38;5;28mprint\u001b[39m(g)\n",
      "\u001b[0;31mTypeError\u001b[0m: list expected at most 1 argument, got 3"
     ]
    }
   ],
   "source": [
    "g = list(1,2,3)\n",
    "print(g)"
   ]
  },
  {
   "cell_type": "markdown",
   "id": "79368029-abf9-4db3-b5f6-0f9e18473b37",
   "metadata": {},
   "source": [
    "<b>Note that it gave an error when we used single brackets instead of double round brackets.</b>"
   ]
  },
  {
   "cell_type": "markdown",
   "id": "9e7937e7-65b5-4500-a35c-33af7f9f4b54",
   "metadata": {},
   "source": [
    "A list can also have another list as an item. This is called a nested list."
   ]
  },
  {
   "cell_type": "code",
   "execution_count": 9,
   "id": "5ad7df02-62a9-464c-8d8e-bf7a05f9eee8",
   "metadata": {},
   "outputs": [
    {
     "name": "stdout",
     "output_type": "stream",
     "text": [
      "['Hello', [2, 3, 4, 5], 20]\n",
      "<class 'list'>\n"
     ]
    }
   ],
   "source": [
    "h = [\"Hello\",[2,3,4,5],20]\n",
    "print(h)\n",
    "print(type(h))"
   ]
  },
  {
   "cell_type": "markdown",
   "id": "9c0b65e1-20e6-4854-8f84-ad1d46342a53",
   "metadata": {},
   "source": [
    "Let's try to access the list items in a nested list."
   ]
  },
  {
   "cell_type": "code",
   "execution_count": 10,
   "id": "39cf54fb-9edc-46d4-8856-dd540e516be9",
   "metadata": {},
   "outputs": [
    {
     "name": "stdout",
     "output_type": "stream",
     "text": [
      "Hello\n"
     ]
    }
   ],
   "source": [
    "print(h[0])"
   ]
  },
  {
   "cell_type": "markdown",
   "id": "53220b2c-0d18-48ca-8146-eece3b46d006",
   "metadata": {},
   "source": [
    "Now if we want to retrieve the third element of the nested list [2,3,4,5], we need to access it in the following manner"
   ]
  },
  {
   "cell_type": "code",
   "execution_count": 11,
   "id": "3030dbeb-3da7-4e79-8eb1-718f69c0f947",
   "metadata": {},
   "outputs": [
    {
     "name": "stdout",
     "output_type": "stream",
     "text": [
      "4\n"
     ]
    }
   ],
   "source": [
    "print(h[1][2])"
   ]
  },
  {
   "cell_type": "code",
   "execution_count": 12,
   "id": "d60a3be8-1051-4392-8884-a899e4f7de77",
   "metadata": {},
   "outputs": [
    {
     "ename": "IndexError",
     "evalue": "list index out of range",
     "output_type": "error",
     "traceback": [
      "\u001b[0;31m---------------------------------------------------------------------------\u001b[0m",
      "\u001b[0;31mIndexError\u001b[0m                                Traceback (most recent call last)",
      "Input \u001b[0;32mIn [12]\u001b[0m, in \u001b[0;36m<cell line: 1>\u001b[0;34m()\u001b[0m\n\u001b[0;32m----> 1\u001b[0m \u001b[38;5;28mprint\u001b[39m(\u001b[43mh\u001b[49m\u001b[43m[\u001b[49m\u001b[38;5;241;43m4\u001b[39;49m\u001b[43m]\u001b[49m)\n",
      "\u001b[0;31mIndexError\u001b[0m: list index out of range"
     ]
    }
   ],
   "source": [
    "print(h[4])"
   ]
  },
  {
   "cell_type": "markdown",
   "id": "4aa74822-7da7-4855-854e-0ca0afed3d80",
   "metadata": {},
   "source": [
    "This is because the list only have 3 elements and we are trying to access the 4th element which is not even in the list."
   ]
  },
  {
   "cell_type": "markdown",
   "id": "0950f397-faa4-489a-ba71-82d612840c3b",
   "metadata": {},
   "source": [
    "<b> Negative Indexing </b>"
   ]
  },
  {
   "cell_type": "markdown",
   "id": "25bed8ec-17ea-4a89-a8d0-42f8ac0f5220",
   "metadata": {},
   "source": [
    "Python allows negative indexing for its sequences. The index of -1 refers to the last item, -2 to the second last item and so on."
   ]
  },
  {
   "cell_type": "code",
   "execution_count": 13,
   "id": "82fcf371-4154-4db9-85f3-b5aa5b74fdee",
   "metadata": {},
   "outputs": [
    {
     "name": "stdout",
     "output_type": "stream",
     "text": [
      "3\n",
      "2\n",
      "1\n"
     ]
    }
   ],
   "source": [
    "i = [1,2,3]\n",
    "print(i[-1])\n",
    "print(i[-2])\n",
    "print(i[-3])"
   ]
  },
  {
   "cell_type": "markdown",
   "id": "7a126aaf-0000-4d9e-9487-dffb4957f3eb",
   "metadata": {},
   "source": [
    "<b> List Slicing </b>"
   ]
  },
  {
   "cell_type": "markdown",
   "id": "c432e15b-c204-4112-9f4c-b269e3284923",
   "metadata": {},
   "source": [
    "We can access a range of items in a list by using the slicing operator :"
   ]
  },
  {
   "cell_type": "code",
   "execution_count": 14,
   "id": "0a2a3c9d-5e15-4600-ba94-ac91ff31c759",
   "metadata": {},
   "outputs": [
    {
     "name": "stdout",
     "output_type": "stream",
     "text": [
      "[2, 3]\n",
      "[1, 2, 3, 4, 5]\n",
      "[2, 3, 4, 5, 6, 7, 8, 9, 10]\n",
      "[1, 2, 3, 4, 5, 6, 7, 8, 9, 10]\n"
     ]
    }
   ],
   "source": [
    "j = [1,2,3,4,5,6,7,8,9,10]\n",
    "print(j[1:3]) \n",
    "print(j[:5])\n",
    "print(j[1:])\n",
    "print(j[:])"
   ]
  },
  {
   "cell_type": "markdown",
   "id": "013e2940-0b93-4ac2-9aa4-332043325ecb",
   "metadata": {},
   "source": [
    "Look at very carefully that in List Slicing the starting index is inclusive and ending index is exclusive i.e we include the starting index but we don't include the ending index rather we include ending index - 1 element. <br>\n",
    "[1:3] here means starting from index 0 and ending with 3-1 = 2 <br>\n",
    "[:5] here means starting from index 0 and ending with 5-1 = 4 <br>\n",
    "[1:] here means starting from index 1 and ending with the last element <br>\n",
    "[:] here means including all the elements as nothing is mentioned."
   ]
  },
  {
   "cell_type": "markdown",
   "id": "a3f41abf-978b-4f51-a74b-b2d6abdf73aa",
   "metadata": {},
   "source": [
    "As we have already mentioned that Lists are mutable, meaning their elements can be changed unlike string or tuple. <br>\n",
    "\n",
    "We can use the assignment operator = to change an item or a range of items."
   ]
  },
  {
   "cell_type": "code",
   "execution_count": 15,
   "id": "3cc498bd-fbcb-463f-9a5a-a434d2eb2a65",
   "metadata": {},
   "outputs": [
    {
     "name": "stdout",
     "output_type": "stream",
     "text": [
      "[1, 3, 4, 5]\n"
     ]
    }
   ],
   "source": [
    "k = [2,3,4,5]\n",
    "k[0]=1\n",
    "print(k)"
   ]
  },
  {
   "cell_type": "markdown",
   "id": "c653ff82-04f5-46c5-8333-1be6eb6fe1a8",
   "metadata": {},
   "source": [
    "Here, I have changed the element at index 0 by using assignment operator."
   ]
  },
  {
   "cell_type": "markdown",
   "id": "f3ec47fe-9190-45f9-ba4d-5995dbf2bf1b",
   "metadata": {},
   "source": [
    "We can also change the elements by slicing."
   ]
  },
  {
   "cell_type": "code",
   "execution_count": 16,
   "id": "f42e4611-7da7-4407-ba28-82e45e04bc97",
   "metadata": {},
   "outputs": [
    {
     "name": "stdout",
     "output_type": "stream",
     "text": [
      "[6, 7, 8, 9]\n"
     ]
    }
   ],
   "source": [
    "i = [2,3,4,5]\n",
    "i[:] = [6,7,8,9]\n",
    "print(i)"
   ]
  },
  {
   "cell_type": "markdown",
   "id": "f09feacc-a003-4858-a95c-ee7f1c61bfec",
   "metadata": {},
   "source": [
    "In the above example, I have changed all the elements of i list."
   ]
  },
  {
   "cell_type": "markdown",
   "id": "c12c5229-716e-425e-89e3-a129f0c446f8",
   "metadata": {},
   "source": [
    "We can add one item to a list using the append() method or add several items using the extend() method.\n",
    "\n"
   ]
  },
  {
   "cell_type": "code",
   "execution_count": 17,
   "id": "9b4b765d-16d8-499f-87ae-ae1f4fdbba3d",
   "metadata": {},
   "outputs": [
    {
     "name": "stdout",
     "output_type": "stream",
     "text": [
      "Using Append:  [1, 2, 3, 4]\n",
      "Using Extend:  [1, 2, 3, 4, 5, 6, 7, 8]\n"
     ]
    }
   ],
   "source": [
    "l = [1,2,3]\n",
    "l.append(4)\n",
    "print(\"Using Append: \",l)\n",
    "l.extend([5,6,7,8])\n",
    "print(\"Using Extend: \",l)"
   ]
  },
  {
   "cell_type": "markdown",
   "id": "5d26520e-944b-445d-b252-245287a590a5",
   "metadata": {},
   "source": [
    "We can also use + operator to combine two lists. This is also called concatenation. <br>\n",
    "\n",
    "The * operator repeats a list for the given number of times. <br>\n",
    "\n"
   ]
  },
  {
   "cell_type": "code",
   "execution_count": 18,
   "id": "739ceaf6-8bad-4cd9-a230-d8500df5058e",
   "metadata": {},
   "outputs": [
    {
     "name": "stdout",
     "output_type": "stream",
     "text": [
      "[1, 2, 3, 4, 5, 6]\n"
     ]
    }
   ],
   "source": [
    "m = [1,2,3]\n",
    "print(m + [4,5,6])"
   ]
  },
  {
   "cell_type": "code",
   "execution_count": 19,
   "id": "8664df1f-507b-4d97-a1f4-c200755313dd",
   "metadata": {},
   "outputs": [
    {
     "name": "stdout",
     "output_type": "stream",
     "text": [
      "[1, 2, 3, 1, 2, 3, 1, 2, 3]\n"
     ]
    }
   ],
   "source": [
    "m = [1,2,3]\n",
    "print(m * 3)"
   ]
  },
  {
   "cell_type": "markdown",
   "id": "49671bcc-def0-4f49-bdad-d0fa2a061da9",
   "metadata": {},
   "source": [
    "Furthermore, we can insert one item at a desired location by using the method insert() "
   ]
  },
  {
   "cell_type": "code",
   "execution_count": 20,
   "id": "982f5893-739e-4960-86f2-de2595e689c4",
   "metadata": {},
   "outputs": [
    {
     "name": "stdout",
     "output_type": "stream",
     "text": [
      "[1, 2, 3, 4]\n"
     ]
    }
   ],
   "source": [
    "n = [1,2,4]\n",
    "n.insert(2,3)\n",
    "print(n)"
   ]
  },
  {
   "cell_type": "markdown",
   "id": "9478416d-b4b8-43a7-a5eb-0e662f3e3d38",
   "metadata": {},
   "source": [
    "Insert(a,b) = Inserting 'b' element on 'a' index"
   ]
  },
  {
   "cell_type": "markdown",
   "id": "3a4e4bda-8e3a-4f91-afce-d2296622ecc5",
   "metadata": {},
   "source": [
    "Now, let's try to delete the items from the list. We can delete the items in the following ways: <br>\n",
    "delete() : Can delete a single item/multiple items by stating the index of a element to be deleted. <br>\n",
    "remove() : Removes the given item <br>\n",
    "pop() : Removes only an item at the given index. <br>\n",
    "\n",
    "<b>Note :The pop() method removes and returns the last item if the index is not provided. This helps us implement lists as stacks (first in, last out data structure).</b>\n",
    "\n",
    "clear() : It is used when we have to empty the whole list.\n"
   ]
  },
  {
   "cell_type": "markdown",
   "id": "5121923d-34a1-427a-9a8e-5777628283c3",
   "metadata": {},
   "source": [
    "Let's try implementing them. "
   ]
  },
  {
   "cell_type": "code",
   "execution_count": 21,
   "id": "044e90f3-4b25-4fac-b9dc-3a0ea8d869f7",
   "metadata": {},
   "outputs": [
    {
     "name": "stdout",
     "output_type": "stream",
     "text": [
      "['Apple', 'Cherry', 'Watermelon', 'Kiwi', 'Mango', 'Strawberry', 'Papaya']\n",
      "['Apple', 'Cherry', 'Watermelon', 'Kiwi', 'Papaya']\n",
      "['Apple', 'Cherry', 'Watermelon', 'Kiwi']\n",
      "['Apple', 'Cherry', 'Watermelon']\n"
     ]
    }
   ],
   "source": [
    "o = [\"Apple\",\"Banana\",\"Cherry\",\"Watermelon\",\"Kiwi\",\"Mango\",\"Strawberry\",\"Papaya\"]\n",
    "del o[1]\n",
    "print(o)\n",
    "del o[4:6]\n",
    "print(o)\n",
    "o.remove(\"Papaya\")\n",
    "print(o)\n",
    "o.pop(3)\n",
    "print(o)"
   ]
  },
  {
   "cell_type": "code",
   "execution_count": 22,
   "id": "d58e518e-4324-452f-bf6b-94ae5b3d142c",
   "metadata": {},
   "outputs": [
    {
     "name": "stdout",
     "output_type": "stream",
     "text": [
      "[]\n"
     ]
    }
   ],
   "source": [
    "o.clear()\n",
    "print(o)"
   ]
  },
  {
   "cell_type": "markdown",
   "id": "f67efa78-bed0-4b84-ab78-a38b6650fa56",
   "metadata": {},
   "source": [
    "<b>Below are some of the function you can experiment on while using list in Python.</b>"
   ]
  },
  {
   "cell_type": "markdown",
   "id": "9f40f8cf-bc1e-4d23-86f6-691fe9558d24",
   "metadata": {},
   "source": [
    "append() : adds an element to the end of the list <br>\n",
    "extend() : adds all elements of a list to another list <br>\n",
    "insert() : inserts an item at the defined index <br>\n",
    "remove() : removes an item from the list <br>\n",
    "pop() : returns and removes an element at the given index <br>\n",
    "clear() : removes all items from the list <br>\n",
    "index() : returns the index of the first matched item <br>\n",
    "count() : returns the count of the number of items passed as an argument <br>\n",
    "sort() : sort items in a list in ascending order <br>\n",
    "reverse() : reverse the order of items in the list <br>\n",
    "copy() : returns a shallow copy of the list <br>"
   ]
  },
  {
   "cell_type": "markdown",
   "id": "876db93f-e36e-4095-a2f7-70fff8de22ce",
   "metadata": {},
   "source": [
    "A <b>list comprehension</b> consists of an expression followed by for statement inside square brackets."
   ]
  },
  {
   "cell_type": "code",
   "execution_count": 23,
   "id": "ca34bfa3-c97c-4591-9ffc-081a7356f606",
   "metadata": {},
   "outputs": [
    {
     "name": "stdout",
     "output_type": "stream",
     "text": [
      "[1, 2, 4, 8, 16]\n"
     ]
    }
   ],
   "source": [
    "s = [2 ** x for x in range(5)]\n",
    "print(s)"
   ]
  },
  {
   "cell_type": "code",
   "execution_count": 24,
   "id": "fa3a283c-eb9d-4341-9483-8b5acc671174",
   "metadata": {},
   "outputs": [
    {
     "name": "stdout",
     "output_type": "stream",
     "text": [
      "[8, 16]\n"
     ]
    }
   ],
   "source": [
    "s = [2 ** x for x in range(5) if x>2]\n",
    "print(s)"
   ]
  },
  {
   "cell_type": "markdown",
   "id": "57e05a15-9599-4d94-8817-766ce981a000",
   "metadata": {},
   "source": [
    "<b>List Membership Operator</b>"
   ]
  },
  {
   "cell_type": "code",
   "execution_count": 25,
   "id": "a5adb684-434e-4c83-b872-1aa52357a98f",
   "metadata": {},
   "outputs": [
    {
     "name": "stdout",
     "output_type": "stream",
     "text": [
      "True\n",
      "False\n"
     ]
    }
   ],
   "source": [
    "t = ['b','o','a','t']\n",
    "print('b' in t)\n",
    "print('z' in t)"
   ]
  },
  {
   "cell_type": "markdown",
   "id": "5048687a-a6ac-4af1-aaab-6e82c2a3b922",
   "metadata": {},
   "source": [
    "<b>Iterating through List</b>"
   ]
  },
  {
   "cell_type": "code",
   "execution_count": 26,
   "id": "a55f5d6e-9d3a-48f1-a2f1-451e81806c2e",
   "metadata": {},
   "outputs": [
    {
     "name": "stdout",
     "output_type": "stream",
     "text": [
      "Number is:  1\n",
      "Number is:  2\n",
      "Number is:  3\n",
      "Number is:  4\n",
      "Number is:  5\n"
     ]
    }
   ],
   "source": [
    "for i in [1,2,3,4,5]:\n",
    "    print(\"Number is: \",i)"
   ]
  },
  {
   "cell_type": "markdown",
   "id": "db7061ce-27e9-4155-8822-c6d1a6b0e194",
   "metadata": {},
   "source": [
    "That's it about Lists. There are so many functions in list, you'll only learn them by practicing. <br> So, Keep Practicing and Happy Learning!"
   ]
  }
 ],
 "metadata": {
  "kernelspec": {
   "display_name": "Python 3 (ipykernel)",
   "language": "python",
   "name": "python3"
  },
  "language_info": {
   "codemirror_mode": {
    "name": "ipython",
    "version": 3
   },
   "file_extension": ".py",
   "mimetype": "text/x-python",
   "name": "python",
   "nbconvert_exporter": "python",
   "pygments_lexer": "ipython3",
   "version": "3.9.13"
  }
 },
 "nbformat": 4,
 "nbformat_minor": 5
}
