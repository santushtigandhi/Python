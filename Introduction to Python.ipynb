{
 "cells": [
  {
   "cell_type": "markdown",
   "id": "awful-details",
   "metadata": {},
   "source": [
    "<center><b>Python</b></center>"
   ]
  },
  {
   "cell_type": "markdown",
   "id": "determined-cooling",
   "metadata": {},
   "source": [
    "Python is an interpreted high-level general-purpose programming language. Its design philosophy emphasizes code readability with its use of significant indentation. Its language constructs as well as its object-oriented approach aim to help programmers write clear, logical code for small and large-scale projects."
   ]
  },
  {
   "cell_type": "markdown",
   "id": "preliminary-convenience",
   "metadata": {},
   "source": [
    "Guido van Rossum began working on Python in the late 1980s, as a successor to the ABC programming language, and first released it in 1991 as Python 0.9.0.Python 2.0 was released in 2000 and introduced new features, such as list comprehensions and a garbage collection system using reference counting. Python 3.0 was released in 2008 and was a major revision of the language that is not completely backward-compatible. Python 2 was discontinued with version 2.7.18 in 2020."
   ]
  },
  {
   "cell_type": "markdown",
   "id": "seven-anxiety",
   "metadata": {},
   "source": [
    "<b>Why to learn Python?</b>"
   ]
  },
  {
   "cell_type": "markdown",
   "id": "facial-acoustic",
   "metadata": {},
   "source": [
    "- Python is a popular programming language.\n",
    "- Python can be used on a server to create web applications.\n",
    "- Python is highly flexible and extensible.\n",
    "- Python has a library to cater to your every need.\n",
    "- Python is the fastest growing programming language.\n",
    "- Python is in high demand for jobs.\n",
    "- Python is easy to read, write, and learn.\n",
    "- Python is widely used in Data Science.\n",
    "- Python is largely used in small, large, online or offline projects. It is used to build GUI and desktop applications. It uses ‘Tkinter‘ library to provide fast & easy way to create applications.\n",
    "- Python handles a lot of hassles of data.\n"
   ]
  },
  {
   "cell_type": "markdown",
   "id": "ethical-consciousness",
   "metadata": {},
   "source": [
    "Now let's get ready to fall in love with Python."
   ]
  },
  {
   "cell_type": "markdown",
   "id": "standard-athletics",
   "metadata": {},
   "source": [
    "I'll cover the basics of Python in this which is printing and declaring the variables."
   ]
  },
  {
   "cell_type": "markdown",
   "id": "anonymous-strike",
   "metadata": {},
   "source": [
    "<b>Printing</b>"
   ]
  },
  {
   "cell_type": "markdown",
   "id": "sustained-marker",
   "metadata": {},
   "source": [
    "Well printing is pretty easy in Python. We just need to write print command and enclose the text within commas and you're done! <br>\n",
    "Isn't this easy? Let's try!"
   ]
  },
  {
   "cell_type": "code",
   "execution_count": 1,
   "id": "compressed-channel",
   "metadata": {},
   "outputs": [
    {
     "name": "stdout",
     "output_type": "stream",
     "text": [
      "Let's learn Python\n"
     ]
    }
   ],
   "source": [
    "print(\"Let's learn Python\")"
   ]
  },
  {
   "cell_type": "code",
   "execution_count": 2,
   "id": "industrial-generation",
   "metadata": {},
   "outputs": [
    {
     "name": "stdout",
     "output_type": "stream",
     "text": [
      "Python is my favorite programming language!\n"
     ]
    }
   ],
   "source": [
    "print(\"Python is my favorite programming language!\")"
   ]
  },
  {
   "cell_type": "markdown",
   "id": "careful-birthday",
   "metadata": {},
   "source": [
    "<b>Variables</b>"
   ]
  },
  {
   "cell_type": "markdown",
   "id": "facial-spice",
   "metadata": {},
   "source": [
    "Variables are containers for storing data values.<br>\n",
    "Python has no command for declaring a variable.Python is “dynamic-typed language” i.e we do not need to declare variables before using them or declare their type.A variable is created the moment you first assign a value to it."
   ]
  },
  {
   "cell_type": "markdown",
   "id": "suspended-conference",
   "metadata": {},
   "source": [
    "Before declaring a variable, we must follow the given rules."
   ]
  },
  {
   "cell_type": "markdown",
   "id": "explicit-designation",
   "metadata": {},
   "source": [
    "- The first character of the variable can be an alphabet or (_) underscore.\n",
    "- Special characters (@, #, %, ^, &, *) should not be used in variable name.\n",
    "- Variable names are case sensitive. For example - age and AGE are two different variables.\n",
    "- Reserve words cannot be declared as variables."
   ]
  },
  {
   "cell_type": "markdown",
   "id": "based-teach",
   "metadata": {},
   "source": [
    "Now, let's try to code it!"
   ]
  },
  {
   "cell_type": "code",
   "execution_count": 3,
   "id": "local-judges",
   "metadata": {},
   "outputs": [],
   "source": [
    "a=5"
   ]
  },
  {
   "cell_type": "code",
   "execution_count": 4,
   "id": "collaborative-vietnam",
   "metadata": {},
   "outputs": [
    {
     "name": "stdout",
     "output_type": "stream",
     "text": [
      "5\n"
     ]
    }
   ],
   "source": [
    "print(a)"
   ]
  },
  {
   "cell_type": "markdown",
   "id": "assisted-freeware",
   "metadata": {},
   "source": [
    "Now here if you see we have not used inverted commas in print statement. Why? <br>\n",
    "Because inverted commas are used when you need to print the fixed text enclosed in them. Here we need to print thr value of a. <br>\n",
    "Let's see what would have happened if we used inverted columns. Will it print the value of 5?"
   ]
  },
  {
   "cell_type": "code",
   "execution_count": 5,
   "id": "behind-burton",
   "metadata": {},
   "outputs": [
    {
     "name": "stdout",
     "output_type": "stream",
     "text": [
      "a\n"
     ]
    }
   ],
   "source": [
    "print('a')"
   ]
  },
  {
   "cell_type": "markdown",
   "id": "consolidated-asbestos",
   "metadata": {},
   "source": [
    "If you see here the text got printed and not the value of a hence, we didn't use inverted commas.\n"
   ]
  },
  {
   "cell_type": "markdown",
   "id": "norwegian-climate",
   "metadata": {},
   "source": [
    "Now one thing you should notice here is whether I'm using single inverted commas or double inverted commas, print statement is printing the text enclosed in it. Why? <br>\n",
    "Well, we will see this in the upcoming repository of Data Types."
   ]
  }
 ],
 "metadata": {
  "kernelspec": {
   "display_name": "Python 3",
   "language": "python",
   "name": "python3"
  },
  "language_info": {
   "codemirror_mode": {
    "name": "ipython",
    "version": 3
   },
   "file_extension": ".py",
   "mimetype": "text/x-python",
   "name": "python",
   "nbconvert_exporter": "python",
   "pygments_lexer": "ipython3",
   "version": "3.9.6"
  }
 },
 "nbformat": 4,
 "nbformat_minor": 5
}
