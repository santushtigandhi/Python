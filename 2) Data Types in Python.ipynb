{
 "cells": [
  {
   "cell_type": "markdown",
   "id": "exempt-lodging",
   "metadata": {},
   "source": [
    "<center><b>Python Data Types</b></center>"
   ]
  },
  {
   "cell_type": "markdown",
   "id": "experienced-breakfast",
   "metadata": {},
   "source": [
    "In this repository, we will discuss about the data types in Python"
   ]
  },
  {
   "cell_type": "markdown",
   "id": "honest-little",
   "metadata": {},
   "source": [
    "Following are the built-in data types :\n",
    "- Numeric\n",
    "- Sequence Type\n",
    "- Boolean\n",
    "- Set\n",
    "- Dictionary"
   ]
  },
  {
   "cell_type": "markdown",
   "id": "specified-uncle",
   "metadata": {},
   "source": [
    "<img src=\"http://pynative.com/wp-content/uploads/2021/02/python-data-types.jpg\">"
   ]
  },
  {
   "cell_type": "markdown",
   "id": "legendary-saturn",
   "metadata": {},
   "source": [
    "<b> Numeric Type </b>"
   ]
  },
  {
   "cell_type": "markdown",
   "id": "identified-furniture",
   "metadata": {},
   "source": [
    "In Python, numeric data type is the data which has numeric value. <br>\n",
    "Numeric value can be integer, floating number or even complex numbers."
   ]
  },
  {
   "cell_type": "markdown",
   "id": "cultural-portuguese",
   "metadata": {},
   "source": [
    "- Integers – This value is represented by int class. It contains positive or negative whole numbers (without fraction or decimal). In Python there is no limit to how long an integer value can be.\n",
    "- Float – This value is represented by float class. It is a real number with floating point representation. It is specified by a decimal point. Optionally, the character e or E followed by a positive or negative integer may be appended to specify scientific notation.\n",
    "- Complex Numbers – Complex number is represented by complex class. It is specified as (real part) + (imaginary part)j. For example – 2+3j"
   ]
  },
  {
   "cell_type": "code",
   "execution_count": 1,
   "id": "minimal-transition",
   "metadata": {},
   "outputs": [],
   "source": [
    "a = 5                #Integer\n",
    "b = 5.7              #Float\n",
    "c = 5 + 8j           #Complex"
   ]
  },
  {
   "cell_type": "markdown",
   "id": "happy-bruce",
   "metadata": {},
   "source": [
    "Here you can see that \"a\" is an integer, \"b\" is a float and \"c\" is a complex number. <br>\n",
    "If you want to know the type of any data you just need to use the keyword type."
   ]
  },
  {
   "cell_type": "code",
   "execution_count": 2,
   "id": "rational-giant",
   "metadata": {},
   "outputs": [
    {
     "data": {
      "text/plain": [
       "int"
      ]
     },
     "execution_count": 2,
     "metadata": {},
     "output_type": "execute_result"
    }
   ],
   "source": [
    "type(a)"
   ]
  },
  {
   "cell_type": "code",
   "execution_count": 3,
   "id": "connected-specification",
   "metadata": {},
   "outputs": [
    {
     "data": {
      "text/plain": [
       "float"
      ]
     },
     "execution_count": 3,
     "metadata": {},
     "output_type": "execute_result"
    }
   ],
   "source": [
    "type(b)"
   ]
  },
  {
   "cell_type": "code",
   "execution_count": 4,
   "id": "divine-comedy",
   "metadata": {},
   "outputs": [
    {
     "data": {
      "text/plain": [
       "complex"
      ]
     },
     "execution_count": 4,
     "metadata": {},
     "output_type": "execute_result"
    }
   ],
   "source": [
    "type(c)"
   ]
  },
  {
   "cell_type": "markdown",
   "id": "informative-market",
   "metadata": {},
   "source": [
    "<b> Boolean Data Type </b>"
   ]
  },
  {
   "cell_type": "markdown",
   "id": "indian-blast",
   "metadata": {},
   "source": [
    "Data type with one of the two built-in values, True or False. <br>\n",
    "The Boolean data type stores TRUE or FALSE data values as a single byte. You can compare two Boolean values to test for equality or inequality."
   ]
  },
  {
   "cell_type": "code",
   "execution_count": 5,
   "id": "stuffed-pierce",
   "metadata": {},
   "outputs": [
    {
     "ename": "NameError",
     "evalue": "name 'true' is not defined",
     "output_type": "error",
     "traceback": [
      "\u001b[1;31m---------------------------------------------------------------------------\u001b[0m",
      "\u001b[1;31mNameError\u001b[0m                                 Traceback (most recent call last)",
      "\u001b[1;32m<ipython-input-5-863e6d5b1307>\u001b[0m in \u001b[0;36m<module>\u001b[1;34m\u001b[0m\n\u001b[1;32m----> 1\u001b[1;33m \u001b[0md\u001b[0m \u001b[1;33m=\u001b[0m \u001b[0mtrue\u001b[0m   \u001b[1;31m#Note that it will give me an error\u001b[0m\u001b[1;33m\u001b[0m\u001b[1;33m\u001b[0m\u001b[0m\n\u001b[0m",
      "\u001b[1;31mNameError\u001b[0m: name 'true' is not defined"
     ]
    }
   ],
   "source": [
    "d = true   #Note that it will give me an error"
   ]
  },
  {
   "cell_type": "markdown",
   "id": "thrown-alignment",
   "metadata": {},
   "source": [
    "<b>Note</b> – True and False with capital ‘T’ and ‘F’ are valid booleans otherwise python will throw an error. <br>"
   ]
  },
  {
   "cell_type": "code",
   "execution_count": 6,
   "id": "appropriate-driving",
   "metadata": {},
   "outputs": [],
   "source": [
    "d = True"
   ]
  },
  {
   "cell_type": "code",
   "execution_count": 7,
   "id": "irish-category",
   "metadata": {},
   "outputs": [],
   "source": [
    "e = False"
   ]
  },
  {
   "cell_type": "code",
   "execution_count": 8,
   "id": "correct-twenty",
   "metadata": {},
   "outputs": [
    {
     "data": {
      "text/plain": [
       "bool"
      ]
     },
     "execution_count": 8,
     "metadata": {},
     "output_type": "execute_result"
    }
   ],
   "source": [
    "type(d)"
   ]
  },
  {
   "cell_type": "code",
   "execution_count": 9,
   "id": "familiar-samoa",
   "metadata": {},
   "outputs": [
    {
     "data": {
      "text/plain": [
       "bool"
      ]
     },
     "execution_count": 9,
     "metadata": {},
     "output_type": "execute_result"
    }
   ],
   "source": [
    "type(e)"
   ]
  },
  {
   "cell_type": "markdown",
   "id": "cheap-popularity",
   "metadata": {},
   "source": [
    "<b> Set Data Type</b>"
   ]
  },
  {
   "cell_type": "markdown",
   "id": "frequent-theology",
   "metadata": {},
   "source": [
    "In Python, Set is an unordered collection of data type that is iterable, mutable and has no duplicate elements. The order of elements in a set is undefined though it may consist of various elements. It is represented by braces or curly brackets. Sets can be created by using the built-in set()."
   ]
  },
  {
   "cell_type": "code",
   "execution_count": 10,
   "id": "supposed-hindu",
   "metadata": {},
   "outputs": [
    {
     "data": {
      "text/plain": [
       "set"
      ]
     },
     "execution_count": 10,
     "metadata": {},
     "output_type": "execute_result"
    }
   ],
   "source": [
    "f = {1,1,2,3,4}\n",
    "type(f)"
   ]
  },
  {
   "cell_type": "code",
   "execution_count": 11,
   "id": "light-wales",
   "metadata": {},
   "outputs": [
    {
     "name": "stdout",
     "output_type": "stream",
     "text": [
      "{1, 2, 3, 4}\n"
     ]
    }
   ],
   "source": [
    "print(f)"
   ]
  },
  {
   "cell_type": "code",
   "execution_count": 12,
   "id": "alpha-locking",
   "metadata": {},
   "outputs": [
    {
     "data": {
      "text/plain": [
       "set"
      ]
     },
     "execution_count": 12,
     "metadata": {},
     "output_type": "execute_result"
    }
   ],
   "source": [
    "g = set()\n",
    "type(g)"
   ]
  },
  {
   "cell_type": "markdown",
   "id": "previous-brooks",
   "metadata": {},
   "source": [
    "<b> Note that here I repeated the elements but since the data type was set it printed all the unique elements. </b>"
   ]
  },
  {
   "cell_type": "markdown",
   "id": "sunrise-nickname",
   "metadata": {},
   "source": [
    "<b> Dictionary </b>"
   ]
  },
  {
   "cell_type": "markdown",
   "id": "wicked-allowance",
   "metadata": {},
   "source": [
    "Dictionary in Python is an unordered collection of data values, used to store data values like a map, which unlike other Data Types that hold only single value as an element, Dictionary holds key:value pair. Key-value is provided in the dictionary to make it more optimized. Each key-value pair in a Dictionary is separated by a colon :, whereas each key is separated by a ‘comma’. <br>\n",
    "\n",
    "In Python, a Dictionary can be created by placing a sequence of elements within curly {} braces, separated by ‘comma’. Values in a dictionary can be of any datatype and can be duplicated, whereas keys can’t be repeated and must be immutable. Dictionary can also be created by the built-in function dict(). An empty dictionary can be created by just placing it to curly braces{}."
   ]
  },
  {
   "cell_type": "code",
   "execution_count": 13,
   "id": "preceding-extreme",
   "metadata": {},
   "outputs": [
    {
     "data": {
      "text/plain": [
       "dict"
      ]
     },
     "execution_count": 13,
     "metadata": {},
     "output_type": "execute_result"
    }
   ],
   "source": [
    "h = {'Apple':1,'Banana':2}\n",
    "type(h)"
   ]
  },
  {
   "cell_type": "code",
   "execution_count": 14,
   "id": "ceramic-level",
   "metadata": {},
   "outputs": [
    {
     "data": {
      "text/plain": [
       "dict"
      ]
     },
     "execution_count": 14,
     "metadata": {},
     "output_type": "execute_result"
    }
   ],
   "source": [
    "i = dict()\n",
    "type(i)"
   ]
  },
  {
   "cell_type": "code",
   "execution_count": 15,
   "id": "everyday-involvement",
   "metadata": {},
   "outputs": [
    {
     "data": {
      "text/plain": [
       "dict"
      ]
     },
     "execution_count": 15,
     "metadata": {},
     "output_type": "execute_result"
    }
   ],
   "source": [
    "j = {}\n",
    "type(j)"
   ]
  },
  {
   "cell_type": "markdown",
   "id": "adjacent-newton",
   "metadata": {},
   "source": [
    "<b> Sequence Data Type </b>"
   ]
  },
  {
   "cell_type": "markdown",
   "id": "aerial-steam",
   "metadata": {},
   "source": [
    "In Python, sequence is the ordered collection of similar or different data types. Sequences allows you to store multiple values in an organized and efficient way. There are several sequence types in Python –\n",
    "- String\n",
    "- List\n",
    "- Tuple"
   ]
  },
  {
   "cell_type": "markdown",
   "id": "finnish-maximum",
   "metadata": {},
   "source": [
    "<b> String <b>"
   ]
  },
  {
   "cell_type": "markdown",
   "id": "published-warrior",
   "metadata": {},
   "source": [
    "A string is a collection of one or more characters put in a single quote, double-quote or triple quote. In python there is no character data type, a character is a string of length one. It is represented by str class."
   ]
  },
  {
   "cell_type": "code",
   "execution_count": 16,
   "id": "floating-romania",
   "metadata": {},
   "outputs": [
    {
     "data": {
      "text/plain": [
       "str"
      ]
     },
     "execution_count": 16,
     "metadata": {},
     "output_type": "execute_result"
    }
   ],
   "source": [
    "k = 'hey'\n",
    "type(k)"
   ]
  },
  {
   "cell_type": "code",
   "execution_count": 17,
   "id": "valued-storm",
   "metadata": {},
   "outputs": [
    {
     "data": {
      "text/plain": [
       "str"
      ]
     },
     "execution_count": 17,
     "metadata": {},
     "output_type": "execute_result"
    }
   ],
   "source": [
    "l = \"hey\"\n",
    "type(l)"
   ]
  },
  {
   "cell_type": "code",
   "execution_count": 18,
   "id": "impossible-science",
   "metadata": {},
   "outputs": [
    {
     "data": {
      "text/plain": [
       "str"
      ]
     },
     "execution_count": 18,
     "metadata": {},
     "output_type": "execute_result"
    }
   ],
   "source": [
    "m = '''hey'''\n",
    "type(m)"
   ]
  },
  {
   "cell_type": "markdown",
   "id": "robust-trick",
   "metadata": {},
   "source": [
    "Whether you represent it as single quotes, double quotes or tripple quotes, Python will recognize it as String Data Type only."
   ]
  },
  {
   "cell_type": "markdown",
   "id": "precious-study",
   "metadata": {},
   "source": [
    "<b> List <b>"
   ]
  },
  {
   "cell_type": "markdown",
   "id": "spanish-nashville",
   "metadata": {},
   "source": [
    "Lists are an ordered collection of data. It is very flexible as the items in a list do not need to be of the same type. <br>\n",
    "It is generally created by placing the items in square brackets."
   ]
  },
  {
   "cell_type": "code",
   "execution_count": 19,
   "id": "north-diameter",
   "metadata": {},
   "outputs": [
    {
     "data": {
      "text/plain": [
       "list"
      ]
     },
     "execution_count": 19,
     "metadata": {},
     "output_type": "execute_result"
    }
   ],
   "source": [
    "n = [1,2,3,4]\n",
    "type(n)"
   ]
  },
  {
   "cell_type": "code",
   "execution_count": 20,
   "id": "speaking-juice",
   "metadata": {},
   "outputs": [
    {
     "data": {
      "text/plain": [
       "list"
      ]
     },
     "execution_count": 20,
     "metadata": {},
     "output_type": "execute_result"
    }
   ],
   "source": [
    "o = list()\n",
    "type(o)"
   ]
  },
  {
   "cell_type": "code",
   "execution_count": 21,
   "id": "delayed-angel",
   "metadata": {},
   "outputs": [
    {
     "data": {
      "text/plain": [
       "list"
      ]
     },
     "execution_count": 21,
     "metadata": {},
     "output_type": "execute_result"
    }
   ],
   "source": [
    "p = []\n",
    "type(p)"
   ]
  },
  {
   "cell_type": "markdown",
   "id": "statistical-programming",
   "metadata": {},
   "source": [
    "<b> Tuple <b>"
   ]
  },
  {
   "cell_type": "markdown",
   "id": "satisfactory-riding",
   "metadata": {},
   "source": [
    "Just like list, tuple is also an ordered collection of Python objects. The only difference between tuple and list is that tuples are immutable i.e. tuples cannot be modified after it is created. It is represented by tuple class. <br>\n",
    "\n",
    "In Python, tuples are created by placing a sequence of values separated by ‘comma’ with or without the use of parentheses for grouping of the data sequence. Tuples can contain any number of elements and of any datatype (like strings, integers, list, etc.)"
   ]
  },
  {
   "cell_type": "code",
   "execution_count": 22,
   "id": "victorian-retirement",
   "metadata": {},
   "outputs": [
    {
     "data": {
      "text/plain": [
       "tuple"
      ]
     },
     "execution_count": 22,
     "metadata": {},
     "output_type": "execute_result"
    }
   ],
   "source": [
    "q = (1,2,3,4)\n",
    "type(q)"
   ]
  },
  {
   "cell_type": "code",
   "execution_count": 23,
   "id": "adaptive-plenty",
   "metadata": {},
   "outputs": [
    {
     "data": {
      "text/plain": [
       "tuple"
      ]
     },
     "execution_count": 23,
     "metadata": {},
     "output_type": "execute_result"
    }
   ],
   "source": [
    "r = tuple()\n",
    "type(r)"
   ]
  },
  {
   "cell_type": "code",
   "execution_count": 24,
   "id": "lyric-emergency",
   "metadata": {},
   "outputs": [
    {
     "data": {
      "text/plain": [
       "tuple"
      ]
     },
     "execution_count": 24,
     "metadata": {},
     "output_type": "execute_result"
    }
   ],
   "source": [
    "s = ()\n",
    "type(s)"
   ]
  }
 ],
 "metadata": {
  "kernelspec": {
   "display_name": "Python 3",
   "language": "python",
   "name": "python3"
  },
  "language_info": {
   "codemirror_mode": {
    "name": "ipython",
    "version": 3
   },
   "file_extension": ".py",
   "mimetype": "text/x-python",
   "name": "python",
   "nbconvert_exporter": "python",
   "pygments_lexer": "ipython3",
   "version": "3.9.6"
  }
 },
 "nbformat": 4,
 "nbformat_minor": 5
}
