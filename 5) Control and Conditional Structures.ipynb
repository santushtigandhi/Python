{
 "cells": [
  {
   "cell_type": "markdown",
   "id": "antique-frame",
   "metadata": {},
   "source": [
    "<b><center>Control and Conditional Structures</b></center>"
   ]
  },
  {
   "cell_type": "markdown",
   "id": "organized-summary",
   "metadata": {},
   "source": [
    "A conditional control structure is used to execute statements based on some condition. When the condition associated with a statement is true then we want to execute the related/associated statement otherwise, we want to ignore/skip those statements. If we want the execution of the statement or skipping of the statement to happen only once based on the outcome of the condition, it's preferred to use the conditional control structures. In Python programming, indentation is very important and essential. <br>\n",
    " \n",
    "Therefore, we need to indent the statement(s) properly. We must also note that Python programming language is case-sensitive and most of the keywords are in lowercase ( like the keywords if and else must be written in lower case only)."
   ]
  },
  {
   "cell_type": "markdown",
   "id": "internal-assumption",
   "metadata": {},
   "source": [
    "In Python programming language we have the following 4 conditional control structures.\n",
    "- Simple if-statement.\n",
    "- If-else statement.\n",
    "- If-elif-else statement.\n",
    "- Nested if statement."
   ]
  },
  {
   "cell_type": "markdown",
   "id": "attractive-edinburgh",
   "metadata": {},
   "source": [
    "<b>if Statement</b>"
   ]
  },
  {
   "cell_type": "markdown",
   "id": "accessible-confidentiality",
   "metadata": {},
   "source": [
    "if (condition1):<br>\n",
    "    &ensp;&ensp; statement1<br>\n",
    "    &ensp;&ensp; statement2<br>\n",
    "statement3<br>\n",
    " \n",
    "Whenever we have a condition to be tested and we need to execute a statement based on a condition then we can use a simple if statement. In the above syntax if the condition1 evaluates to true then statement1 and statement2 will be executed, otherwise, sequential execution continues from statement3 onwards. "
   ]
  },
  {
   "cell_type": "markdown",
   "id": "negative-retreat",
   "metadata": {},
   "source": [
    "For example :"
   ]
  },
  {
   "cell_type": "code",
   "execution_count": 7,
   "id": "vocational-violence",
   "metadata": {},
   "outputs": [
    {
     "name": "stdout",
     "output_type": "stream",
     "text": [
      "Hello\n",
      "7\n"
     ]
    }
   ],
   "source": [
    "a = 5\n",
    "if (a == 5) :\n",
    "    print(\"Hello\")\n",
    "print(a+2)"
   ]
  },
  {
   "cell_type": "code",
   "execution_count": 8,
   "id": "lesbian-pottery",
   "metadata": {},
   "outputs": [
    {
     "name": "stdout",
     "output_type": "stream",
     "text": [
      "7\n"
     ]
    }
   ],
   "source": [
    "a = 5\n",
    "if (a != 5) :\n",
    "    print(\"Hello\")\n",
    "print(a+2)"
   ]
  },
  {
   "cell_type": "markdown",
   "id": "romantic-locator",
   "metadata": {},
   "source": [
    "You see in the above example how indentation matters. The last line is always executed since it doesn't lie in the if statement. It lies outside if, hence sequential execution continues."
   ]
  },
  {
   "cell_type": "markdown",
   "id": "thermal-ensemble",
   "metadata": {},
   "source": [
    "<b>if - else Statement</b>"
   ]
  },
  {
   "cell_type": "markdown",
   "id": "diverse-trader",
   "metadata": {},
   "source": [
    "if (condition1):<br>\n",
    "    &ensp;&ensp; statement1<br>\n",
    "    &ensp;&ensp; statement2<br>\n",
    "else: <br>\n",
    "    &ensp;&ensp; statement3<br>\n",
    "    &ensp;&ensp; statement4<br>\n",
    "\n",
    "Whenever we have a situation where we want to test a condition and if the condition is true we want to execute some statement and when the condition is not true we want to execute another set of statements, we must use the if-else statement. As per the above syntax of the if-else statement, when condition-1 evaluates to true the statement-1 and statement-2 will be executed and, when the condition-1 evaluates to false the statement-3 and, statement-4 will be executed. Therefore either of the statement-1 and statement-2 or statement-3 or statement-4 will be executed but not both."
   ]
  },
  {
   "cell_type": "markdown",
   "id": "attended-authentication",
   "metadata": {},
   "source": [
    "For example:"
   ]
  },
  {
   "cell_type": "code",
   "execution_count": 10,
   "id": "silent-knife",
   "metadata": {},
   "outputs": [
    {
     "name": "stdout",
     "output_type": "stream",
     "text": [
      "Else statement got executed\n"
     ]
    }
   ],
   "source": [
    "a = 5\n",
    "if (a==4):\n",
    "    print(\"If statement got executed\")\n",
    "else:\n",
    "    print(\"Else statement got executed\")"
   ]
  },
  {
   "cell_type": "markdown",
   "id": "nuclear-consumption",
   "metadata": {},
   "source": [
    "<b>if...elif...else Statement</b>"
   ]
  },
  {
   "cell_type": "markdown",
   "id": "marked-steam",
   "metadata": {},
   "source": [
    "if(condition1):<br>\n",
    "    &ensp;&ensp; statement-block-1<br>\n",
    "elif(condition2):<br>\n",
    "    &ensp;&ensp; statement-block-2<br>\n",
    "elif(condition3):<br>\n",
    "    &ensp;&ensp; statement-block-3<br>\n",
    ".....................<br>\n",
    ".....................<br>\n",
    "elif(condition-n):<br>\n",
    "    &ensp;&ensp; statement-block-n<br>\n",
    "else:<br>\n",
    "    &ensp;&ensp; statement-block-p<br>\n",
    "statement-q<br>\n",
    "\n",
    "\n",
    "\n",
    "\n",
    "When we have more than one condition to be tested then we must use the if-elif-else statement. The construct of an if-elif-else statement begins with an if-statement and we can write any number of times elif-statements followed by a final else-statement. <br>\n",
    " \n",
    "The execution model of the if-elif-else statement is as follows. It will start by testing the condition1 in case the condition1 evaluates to true then the statement associated with the first condition (statement-block-1) will alone be executed and after that, the control will branch to statement-q which is outside the if-elif-else construct. In case the condition-1 evaluates to false, then the second condition (condition-2) is tested and, in case the condition2 evaluates to true then the statement-block-2 alone will be executed, after which the control will branch outside the if-elif-else statement (that is to statement-q). In case the control reaches condition-n it means that the previous n-1 condition evaluated to false and if the condition-n evaluates to true then the statement-block-n will be executed otherwise statement-block-p will be executed. An if-elif-else construct can be used to avoid multiple if statements as well."
   ]
  },
  {
   "cell_type": "markdown",
   "id": "found-morgan",
   "metadata": {},
   "source": [
    "For example:"
   ]
  },
  {
   "cell_type": "code",
   "execution_count": 11,
   "id": "painful-chain",
   "metadata": {},
   "outputs": [
    {
     "name": "stdout",
     "output_type": "stream",
     "text": [
      "Else statement got executed\n"
     ]
    }
   ],
   "source": [
    "a = 5\n",
    "if (a==4):\n",
    "    print(\"If statement got executed\")\n",
    "elif (a==3):\n",
    "    print(\"Elif statement 1 got executed\")\n",
    "elif (a==2):\n",
    "    print(\"Elif statement 2 got executed\")\n",
    "else:\n",
    "    print(\"Else statement got executed\")"
   ]
  },
  {
   "cell_type": "markdown",
   "id": "official-listening",
   "metadata": {},
   "source": [
    "<b>Nested if <b>"
   ]
  },
  {
   "cell_type": "markdown",
   "id": "collected-accident",
   "metadata": {},
   "source": [
    "Whenever we write an if-statement inside another if-statement or if-statement inside an else-statement is known as a nested-if. <br>\n",
    "if(condition1):<br>\n",
    "     &ensp;&ensp;if(condition2):<br>\n",
    "         &ensp;&ensp; &ensp;&ensp; statement1<br>\n",
    "         &ensp;&ensp; &ensp;&ensp; statement2<br>\n",
    "Only if condition-1 and condition-2 both evaluate to true, then statements 1 and 2 will be executed, otherwise not."
   ]
  },
  {
   "cell_type": "markdown",
   "id": "crazy-evening",
   "metadata": {},
   "source": [
    "For example:"
   ]
  },
  {
   "cell_type": "code",
   "execution_count": 12,
   "id": "israeli-removal",
   "metadata": {},
   "outputs": [],
   "source": [
    "a = 2\n",
    "if(a==2):\n",
    "    if(a==3):\n",
    "        print(\"Hello\")"
   ]
  },
  {
   "cell_type": "markdown",
   "id": "unknown-seafood",
   "metadata": {},
   "source": [
    "Here, nothing got executed because the second if statement was not true"
   ]
  },
  {
   "cell_type": "code",
   "execution_count": 13,
   "id": "raised-newcastle",
   "metadata": {},
   "outputs": [
    {
     "name": "stdout",
     "output_type": "stream",
     "text": [
      "Hello\n"
     ]
    }
   ],
   "source": [
    "a = 2\n",
    "if(a==2):\n",
    "    if(a==2):\n",
    "        print(\"Hello\")"
   ]
  },
  {
   "cell_type": "markdown",
   "id": "julian-quilt",
   "metadata": {},
   "source": [
    "if(condition1)<br>\n",
    "    &ensp;&ensp;statement1<br>\n",
    "    &ensp;&ensp;statement2<br>\n",
    "else:<br>\n",
    "    &ensp;&ensp;if(condition2):<br>\n",
    "        &ensp;&ensp;&ensp;&ensp;statement3<br>\n",
    "        &ensp;&ensp;&ensp;&ensp;statement4<br>"
   ]
  },
  {
   "cell_type": "markdown",
   "id": "coupled-synthetic",
   "metadata": {},
   "source": [
    "For example:"
   ]
  },
  {
   "cell_type": "code",
   "execution_count": 18,
   "id": "mental-delight",
   "metadata": {},
   "outputs": [
    {
     "name": "stdout",
     "output_type": "stream",
     "text": [
      "Python\n"
     ]
    }
   ],
   "source": [
    "a = 25\n",
    "if(a==2):\n",
    "    if(a==3):\n",
    "        print(\"Hello\")\n",
    "else:\n",
    "    if(a==25):\n",
    "        print(\"Python\")"
   ]
  }
 ],
 "metadata": {
  "kernelspec": {
   "display_name": "Python 3",
   "language": "python",
   "name": "python3"
  },
  "language_info": {
   "codemirror_mode": {
    "name": "ipython",
    "version": 3
   },
   "file_extension": ".py",
   "mimetype": "text/x-python",
   "name": "python",
   "nbconvert_exporter": "python",
   "pygments_lexer": "ipython3",
   "version": "3.9.6"
  }
 },
 "nbformat": 4,
 "nbformat_minor": 5
}
