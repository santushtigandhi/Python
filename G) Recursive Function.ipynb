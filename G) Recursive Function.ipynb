{
 "cells": [
  {
   "cell_type": "markdown",
   "id": "d7a08fcf-7a7e-41f7-b02d-51c1220f6c85",
   "metadata": {},
   "source": [
    "<b>Recursion</b>"
   ]
  },
  {
   "cell_type": "markdown",
   "id": "7865bb29-5656-4fdf-bf5e-decf294c492b",
   "metadata": {},
   "source": [
    "In computer science, recursion is a programming technique using function or algorithm that calls itself one or more times until a specified condition is met (known as base condition) where the program usually terminates."
   ]
  },
  {
   "cell_type": "markdown",
   "id": "1365a06a-ce59-44c3-88d9-43d930ea52ec",
   "metadata": {},
   "source": [
    "There are two terms often used with recursion - <b>direct recursion</b> and <b>indirect recursion</b>.<br> \n",
    "A function X is called direct recursive if it calls the same function X. A function X is called indirect recursive if it calls another function say Y and Y calls X directly or indirectly."
   ]
  },
  {
   "cell_type": "markdown",
   "id": "0258018c-6b05-4f13-8ce5-97f3276c9045",
   "metadata": {},
   "source": [
    "<img src=\"data:image/png;base64,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\" width='800'></img>"
   ]
  },
  {
   "cell_type": "markdown",
   "id": "18fb06ab-c5a7-4dab-8080-697b171847fa",
   "metadata": {},
   "source": [
    "Another terms associated with recursion is <b>tailed recursion </b>and <b>non-tailed recursion</b>. <br>\n",
    "A recursive function is tail recursive when a recursive call is the last thing executed by the function whereas a non-tailed recursive function is a function when as recursive call is not the lasr thing executed by the function. "
   ]
  },
  {
   "cell_type": "markdown",
   "id": "2af47004-d5db-4a81-9f33-ded9cd2cca4a",
   "metadata": {},
   "source": [
    "<b>Advantages of recursion</b> <br>\n",
    "Recursion is an amazing technique with the help of which we can reduce the length of our code and make it easier to read and write. A task that can be defined with its similar subtask, recursion is one of the best solutions for it. For example - The Factorial of a number."
   ]
  },
  {
   "cell_type": "markdown",
   "id": "8dd4b8ed-9bed-4556-8794-fa7bb876ea87",
   "metadata": {},
   "source": [
    "<b>Recursive Functions</b>"
   ]
  },
  {
   "cell_type": "markdown",
   "id": "237d0712-0b5e-454b-b00f-7406b77b0f70",
   "metadata": {},
   "source": [
    "In Python, we know that a function can call other functions. It is even possible for the function to call itself. These types of construct are termed as recursive functions.\n",
    "\n"
   ]
  },
  {
   "cell_type": "markdown",
   "id": "c4469e8d-b694-4f2b-8b46-7792b3a62e20",
   "metadata": {},
   "source": [
    "<img src=\"https://cdn.programiz.com/cdn/farfuture/6i17bRQT6hWIqw9JE5rMMyW527g7It_68T7kSzpIplo/mtime:1591262415/sites/tutorial2program/files/python-recursion-function.png\"></img>"
   ]
  },
  {
   "cell_type": "markdown",
   "id": "82fee880-86f5-4318-8390-a15465a2398b",
   "metadata": {},
   "source": [
    "A very common example of recursion is Factorial of a number."
   ]
  },
  {
   "cell_type": "code",
   "execution_count": 1,
   "id": "d6c410a8-cf78-494a-bb3a-a25d2c6eaa6b",
   "metadata": {},
   "outputs": [
    {
     "name": "stdout",
     "output_type": "stream",
     "text": [
      "The factorial is 120\n"
     ]
    }
   ],
   "source": [
    "def factorial(x):\n",
    "    if x == 1:\n",
    "        return 1\n",
    "    else:\n",
    "        return (x * factorial(x-1))\n",
    "\n",
    "print(\"The factorial is\", factorial(5))"
   ]
  },
  {
   "cell_type": "markdown",
   "id": "0e1be86a-4b45-4107-a0c4-bf3f383505d7",
   "metadata": {},
   "source": [
    "In the above example, factorial() is a recursive function as it calls itself."
   ]
  },
  {
   "cell_type": "markdown",
   "id": "67ccfa75-f3f6-4c44-aae0-aad6c3604da0",
   "metadata": {},
   "source": [
    "<b>Let's try to understand the working of the above code</b>"
   ]
  },
  {
   "cell_type": "markdown",
   "id": "77f7a732-a36c-4d6c-a580-436c7842a3dd",
   "metadata": {},
   "source": [
    "Each function multiplies the number with the factorial of the number below it until it is equal to one. "
   ]
  },
  {
   "cell_type": "markdown",
   "id": "a7b86e2b-58ae-4530-9418-2d5eade5fcea",
   "metadata": {},
   "source": [
    "factorial(5) <br>\n",
    "5 * factorial(4) <br>\n",
    "5 * 4 * factorial(3) <br>\n",
    "5 * 4 * 3 * factorial(2) <br>\n",
    "5 * 4 * 3 * 2 * factorial(1) factorial(1) being the base case here. <br>\n",
    "5 * 4 * 3 * 2 * 1 = 120"
   ]
  },
  {
   "cell_type": "markdown",
   "id": "07032f13-9cf4-441b-9e0e-10ef2e77be3a",
   "metadata": {},
   "source": [
    "Every recursive function must have a base condition that stops the recursion or else the function calls itself infinitely. The Python interpreter limits the depths of recursion to help avoid infinite recursions, resulting in stack overflows.\n",
    "\n",
    "By default, the maximum depth of recursion is 1000. If the limit is crossed, it results in RecursionError. Let's look at one such condition."
   ]
  },
  {
   "cell_type": "code",
   "execution_count": 2,
   "id": "41259ae3-edd7-49ed-b5de-e1f83cc6e3ac",
   "metadata": {},
   "outputs": [
    {
     "ename": "RecursionError",
     "evalue": "maximum recursion depth exceeded",
     "output_type": "error",
     "traceback": [
      "\u001b[0;31m---------------------------------------------------------------------------\u001b[0m",
      "\u001b[0;31mRecursionError\u001b[0m                            Traceback (most recent call last)",
      "Input \u001b[0;32mIn [2]\u001b[0m, in \u001b[0;36m<cell line: 3>\u001b[0;34m()\u001b[0m\n\u001b[1;32m      1\u001b[0m \u001b[38;5;28;01mdef\u001b[39;00m \u001b[38;5;21mhello\u001b[39m():\n\u001b[1;32m      2\u001b[0m     hello()\n\u001b[0;32m----> 3\u001b[0m \u001b[43mhello\u001b[49m\u001b[43m(\u001b[49m\u001b[43m)\u001b[49m\n",
      "Input \u001b[0;32mIn [2]\u001b[0m, in \u001b[0;36mhello\u001b[0;34m()\u001b[0m\n\u001b[1;32m      1\u001b[0m \u001b[38;5;28;01mdef\u001b[39;00m \u001b[38;5;21mhello\u001b[39m():\n\u001b[0;32m----> 2\u001b[0m     \u001b[43mhello\u001b[49m\u001b[43m(\u001b[49m\u001b[43m)\u001b[49m\n",
      "Input \u001b[0;32mIn [2]\u001b[0m, in \u001b[0;36mhello\u001b[0;34m()\u001b[0m\n\u001b[1;32m      1\u001b[0m \u001b[38;5;28;01mdef\u001b[39;00m \u001b[38;5;21mhello\u001b[39m():\n\u001b[0;32m----> 2\u001b[0m     \u001b[43mhello\u001b[49m\u001b[43m(\u001b[49m\u001b[43m)\u001b[49m\n",
      "    \u001b[0;31m[... skipping similar frames: hello at line 2 (2970 times)]\u001b[0m\n",
      "Input \u001b[0;32mIn [2]\u001b[0m, in \u001b[0;36mhello\u001b[0;34m()\u001b[0m\n\u001b[1;32m      1\u001b[0m \u001b[38;5;28;01mdef\u001b[39;00m \u001b[38;5;21mhello\u001b[39m():\n\u001b[0;32m----> 2\u001b[0m     \u001b[43mhello\u001b[49m\u001b[43m(\u001b[49m\u001b[43m)\u001b[49m\n",
      "\u001b[0;31mRecursionError\u001b[0m: maximum recursion depth exceeded"
     ]
    }
   ],
   "source": [
    "def hello():\n",
    "    hello()\n",
    "hello()"
   ]
  },
  {
   "cell_type": "markdown",
   "id": "f85d806f-2f78-4e7e-8a28-9d1ed448c5de",
   "metadata": {},
   "source": [
    "Advantages of Recursion <br>\n",
    "\n",
    "- Recursive functions make the code look clean and elegant.\n",
    "- A complex task can be broken down into simpler sub-problems using recursion.\n",
    "\n",
    "Disadvantages of Recursion <br>\n",
    "\n",
    "- Sometimes the logic behind recursion is hard to follow through.\n",
    "- Recursive calls are expensive (inefficient) as they take up a lot of memory and time.\n",
    "- Recursive functions are hard to debug."
   ]
  },
  {
   "cell_type": "markdown",
   "id": "c1cd3d9e-cc2f-46b8-b8f9-c63075779a79",
   "metadata": {},
   "source": [
    "That's it about the recursive functions. <br>\n",
    "Keep practicing and happy learning! :) "
   ]
  }
 ],
 "metadata": {
  "kernelspec": {
   "display_name": "Python 3 (ipykernel)",
   "language": "python",
   "name": "python3"
  },
  "language_info": {
   "codemirror_mode": {
    "name": "ipython",
    "version": 3
   },
   "file_extension": ".py",
   "mimetype": "text/x-python",
   "name": "python",
   "nbconvert_exporter": "python",
   "pygments_lexer": "ipython3",
   "version": "3.9.13"
  }
 },
 "nbformat": 4,
 "nbformat_minor": 5
}
