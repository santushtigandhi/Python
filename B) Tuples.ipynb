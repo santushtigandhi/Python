{
 "cells": [
  {
   "cell_type": "markdown",
   "id": "b7287d42-8ac9-453a-bdab-95a35adb61e6",
   "metadata": {},
   "source": [
    "<b> Tuples</b>"
   ]
  },
  {
   "cell_type": "markdown",
   "id": "984b73cb-e20c-4518-8ed8-e37249b8b87c",
   "metadata": {},
   "source": [
    "We have already discussed List data type in the previous repository. Let's now understand Tuples in Python."
   ]
  },
  {
   "cell_type": "markdown",
   "id": "619bb54a-a1e6-4503-8524-044a0c3eaf7e",
   "metadata": {},
   "source": [
    "Tuples are used to store multiple items in a single variable. Tuple is one of 4 built-in data types in Python used to store collections of data, the other 3 are List, Set, and Dictionary. <br>\n",
    "\n",
    "A tuple is a collection which is ordered and unchangeable. <br>\n",
    "\n",
    "Tuples are written with round brackets. <br>"
   ]
  },
  {
   "cell_type": "code",
   "execution_count": 1,
   "id": "c7781e20-ec21-4063-b88e-039c071534b4",
   "metadata": {},
   "outputs": [
    {
     "name": "stdout",
     "output_type": "stream",
     "text": [
      "The tuple is:  (30, 20, 10)\n"
     ]
    }
   ],
   "source": [
    "a = (30,20,10)\n",
    "print(\"The tuple is: \",a)"
   ]
  },
  {
   "cell_type": "code",
   "execution_count": 2,
   "id": "3fd478c1-1ac0-4d57-b846-53b5d2a182bb",
   "metadata": {},
   "outputs": [
    {
     "name": "stdout",
     "output_type": "stream",
     "text": [
      "The tuple is:  ('Apple', 10, True)\n"
     ]
    }
   ],
   "source": [
    "b = ('Apple',10,True)\n",
    "print(\"The tuple is: \",b)"
   ]
  },
  {
   "cell_type": "markdown",
   "id": "aa34902c-f6dd-4617-a97c-640b44559080",
   "metadata": {},
   "source": [
    "Here, as you can see in the above example, Tuples in Python allows data items of different data types which is not true in the case of C++,Java or any other language."
   ]
  },
  {
   "cell_type": "markdown",
   "id": "cbf88046-e0da-450f-bb08-4ef9df10d17b",
   "metadata": {},
   "source": [
    "Tuple items are ordered, unchangeable, and allow duplicate values. <br>\n",
    "\n",
    "Tuple items are indexed, the first item has index [0], the second item has index [1] etc.\n",
    "When we say that tuples are ordered, it means that the items have a defined order, and that order will not change. <br>\n",
    "\n",
    "If you add new items to a tuple, the new items will be placed at the end of the tuple. <br>\n",
    "\n"
   ]
  },
  {
   "cell_type": "code",
   "execution_count": 3,
   "id": "9bd44dd6-5d75-4037-874f-93aedb506869",
   "metadata": {},
   "outputs": [
    {
     "name": "stdout",
     "output_type": "stream",
     "text": [
      "<class 'tuple'>\n",
      "The First element is:  12.5\n",
      "The Second element is:  11.5\n",
      "The Third element is:  10.5\n"
     ]
    }
   ],
   "source": [
    "c = (12.5,11.5,10.5)\n",
    "print(type(c))\n",
    "print(\"The First element is: \",c[0])\n",
    "print(\"The Second element is: \",c[1])\n",
    "print(\"The Third element is: \",c[2])"
   ]
  },
  {
   "cell_type": "code",
   "execution_count": 4,
   "id": "45e56286-65cb-4d0c-8cab-d7808490cf31",
   "metadata": {},
   "outputs": [
    {
     "name": "stdout",
     "output_type": "stream",
     "text": [
      "(30, 20, 10, 30)\n"
     ]
    }
   ],
   "source": [
    "d = (30,20,10,30) #allows duplicate items as tuples are indexed\n",
    "print(d)"
   ]
  },
  {
   "cell_type": "markdown",
   "id": "8419f178-aac8-458e-a30b-b2d1e57abc5a",
   "metadata": {},
   "source": [
    "<b>Let's try to create a tuple with single item</b>"
   ]
  },
  {
   "cell_type": "code",
   "execution_count": 5,
   "id": "3f990936-fcc7-402f-891a-e77f036fbdb4",
   "metadata": {},
   "outputs": [
    {
     "data": {
      "text/plain": [
       "int"
      ]
     },
     "execution_count": 5,
     "metadata": {},
     "output_type": "execute_result"
    }
   ],
   "source": [
    "d = (20)\n",
    "type(d)"
   ]
  },
  {
   "cell_type": "code",
   "execution_count": 6,
   "id": "7f8a2ed7-148d-40a9-abd5-4670ddc0f924",
   "metadata": {},
   "outputs": [
    {
     "data": {
      "text/plain": [
       "str"
      ]
     },
     "execution_count": 6,
     "metadata": {},
     "output_type": "execute_result"
    }
   ],
   "source": [
    "d = (\"Apple\")\n",
    "type(d)"
   ]
  },
  {
   "cell_type": "markdown",
   "id": "71e434e9-a0da-4a7d-af02-2fdd44cfb6ba",
   "metadata": {},
   "source": [
    "Here if you can see in the above examples, this is not how a single tuple is defined. As assigning a single tuple will be treated as int,string,bool or any other data type. So as to create a tuple with single item you need to add a comma after the single value."
   ]
  },
  {
   "cell_type": "code",
   "execution_count": 7,
   "id": "b3fa9b76-dc1d-4a84-9806-28b48ff29a62",
   "metadata": {},
   "outputs": [
    {
     "data": {
      "text/plain": [
       "tuple"
      ]
     },
     "execution_count": 7,
     "metadata": {},
     "output_type": "execute_result"
    }
   ],
   "source": [
    "d = (20,)\n",
    "type(d)"
   ]
  },
  {
   "cell_type": "code",
   "execution_count": 8,
   "id": "938034c9-83fc-418e-a923-8a77feb4fdb2",
   "metadata": {},
   "outputs": [
    {
     "data": {
      "text/plain": [
       "tuple"
      ]
     },
     "execution_count": 8,
     "metadata": {},
     "output_type": "execute_result"
    }
   ],
   "source": [
    "d = (\"Apple\",)\n",
    "type(d)"
   ]
  },
  {
   "cell_type": "markdown",
   "id": "770b83d6-6248-4507-81d4-d05db53b392a",
   "metadata": {},
   "source": [
    "To determine how many items a tuple has, we use the len() function."
   ]
  },
  {
   "cell_type": "code",
   "execution_count": 9,
   "id": "4e16fa4d-f9eb-496a-89b4-67eb0ea33af4",
   "metadata": {},
   "outputs": [
    {
     "name": "stdout",
     "output_type": "stream",
     "text": [
      "6\n"
     ]
    }
   ],
   "source": [
    "e = (30,20,10,40,70,20)\n",
    "print(len(e))"
   ]
  },
  {
   "cell_type": "markdown",
   "id": "8f59ce63-7f21-4b9a-b139-d5c4ec68b15f",
   "metadata": {},
   "source": [
    "It is also possible to use the tuple() constructor when creating a new tuple."
   ]
  },
  {
   "cell_type": "code",
   "execution_count": 10,
   "id": "61201ad5-7bc2-4d5e-ba85-4f9fb36937c4",
   "metadata": {},
   "outputs": [
    {
     "name": "stdout",
     "output_type": "stream",
     "text": [
      "(1, 2, 3)\n"
     ]
    }
   ],
   "source": [
    "g = tuple((1,2,3))\n",
    "print(g)"
   ]
  },
  {
   "cell_type": "code",
   "execution_count": 11,
   "id": "54dd4b71-33ac-470f-a40c-2ea4a02f59ef",
   "metadata": {},
   "outputs": [
    {
     "ename": "TypeError",
     "evalue": "tuple expected at most 1 argument, got 3",
     "output_type": "error",
     "traceback": [
      "\u001b[0;31m---------------------------------------------------------------------------\u001b[0m",
      "\u001b[0;31mTypeError\u001b[0m                                 Traceback (most recent call last)",
      "Input \u001b[0;32mIn [11]\u001b[0m, in \u001b[0;36m<cell line: 1>\u001b[0;34m()\u001b[0m\n\u001b[0;32m----> 1\u001b[0m g \u001b[38;5;241m=\u001b[39m \u001b[38;5;28;43mtuple\u001b[39;49m\u001b[43m(\u001b[49m\u001b[38;5;241;43m1\u001b[39;49m\u001b[43m,\u001b[49m\u001b[38;5;241;43m2\u001b[39;49m\u001b[43m,\u001b[49m\u001b[38;5;241;43m3\u001b[39;49m\u001b[43m)\u001b[49m\n\u001b[1;32m      2\u001b[0m \u001b[38;5;28mprint\u001b[39m(g)\n",
      "\u001b[0;31mTypeError\u001b[0m: tuple expected at most 1 argument, got 3"
     ]
    }
   ],
   "source": [
    "g = tuple(1,2,3)\n",
    "print(g)"
   ]
  },
  {
   "cell_type": "markdown",
   "id": "415c2dd6-f122-4b70-afa4-21db3f4a8bee",
   "metadata": {},
   "source": [
    "<b>Note that it gave an error when we used single brackets instead of double round brackets.</b>"
   ]
  },
  {
   "cell_type": "markdown",
   "id": "d2f98ce7-956c-47f1-b809-b9a4ee9e1e65",
   "metadata": {},
   "source": [
    "A tuple can also have another tuple as an item. This is called a nested tuple."
   ]
  },
  {
   "cell_type": "code",
   "execution_count": 12,
   "id": "a9b9477a-1ff9-4ccc-9179-e80c56ed5a57",
   "metadata": {},
   "outputs": [
    {
     "name": "stdout",
     "output_type": "stream",
     "text": [
      "('Hello', (2, 3, 4, 5), 20)\n",
      "<class 'tuple'>\n"
     ]
    }
   ],
   "source": [
    "h = (\"Hello\",(2,3,4,5),20)\n",
    "print(h)\n",
    "print(type(h))"
   ]
  },
  {
   "cell_type": "markdown",
   "id": "22791a35-ba9c-4b60-88fd-761446449eb0",
   "metadata": {},
   "source": [
    "Let's try to access the list items in a nested list."
   ]
  },
  {
   "cell_type": "code",
   "execution_count": 13,
   "id": "52387b84-fb44-4ade-856a-514d68a186e0",
   "metadata": {},
   "outputs": [
    {
     "name": "stdout",
     "output_type": "stream",
     "text": [
      "Hello\n"
     ]
    }
   ],
   "source": [
    "print(h[0])"
   ]
  },
  {
   "cell_type": "markdown",
   "id": "584ca29c-9892-4831-a833-3699d822f007",
   "metadata": {},
   "source": [
    "Now if we want to retrieve the third element of the nested tuple [2,3,4,5], we need to access it in the following manner"
   ]
  },
  {
   "cell_type": "code",
   "execution_count": 14,
   "id": "8d25ab4b-ece6-4bb9-8a74-56ab8abfe957",
   "metadata": {},
   "outputs": [
    {
     "name": "stdout",
     "output_type": "stream",
     "text": [
      "4\n"
     ]
    }
   ],
   "source": [
    "print(h[1][2])"
   ]
  },
  {
   "cell_type": "code",
   "execution_count": 15,
   "id": "956d3d51-fc56-4d31-ac7b-fd565fa52a00",
   "metadata": {},
   "outputs": [
    {
     "ename": "IndexError",
     "evalue": "tuple index out of range",
     "output_type": "error",
     "traceback": [
      "\u001b[0;31m---------------------------------------------------------------------------\u001b[0m",
      "\u001b[0;31mIndexError\u001b[0m                                Traceback (most recent call last)",
      "Input \u001b[0;32mIn [15]\u001b[0m, in \u001b[0;36m<cell line: 1>\u001b[0;34m()\u001b[0m\n\u001b[0;32m----> 1\u001b[0m \u001b[38;5;28mprint\u001b[39m(\u001b[43mh\u001b[49m\u001b[43m[\u001b[49m\u001b[38;5;241;43m4\u001b[39;49m\u001b[43m]\u001b[49m)\n",
      "\u001b[0;31mIndexError\u001b[0m: tuple index out of range"
     ]
    }
   ],
   "source": [
    "print(h[4])"
   ]
  },
  {
   "cell_type": "markdown",
   "id": "61c70baf-da62-4e77-b77d-056345047433",
   "metadata": {},
   "source": [
    "This is because the tupple only has 3 elements and we are trying to access the 4th element which is not even in the tuple."
   ]
  },
  {
   "cell_type": "markdown",
   "id": "473b9c6a-1226-4ef8-919e-6c5b74efd800",
   "metadata": {},
   "source": [
    "<b> Negative Indexing </b>"
   ]
  },
  {
   "cell_type": "markdown",
   "id": "3ca52c42-a605-4ab2-ae9f-6304c6c0a5d9",
   "metadata": {},
   "source": [
    "Python allows negative indexing for its sequences. The index of -1 refers to the last item, -2 to the second last item and so on."
   ]
  },
  {
   "cell_type": "code",
   "execution_count": 16,
   "id": "2202ba0e-0d95-4e8d-8b80-a872fa3a1f4a",
   "metadata": {},
   "outputs": [
    {
     "name": "stdout",
     "output_type": "stream",
     "text": [
      "3\n",
      "2\n",
      "1\n"
     ]
    }
   ],
   "source": [
    "i = (1,2,3)\n",
    "print(i[-1])\n",
    "print(i[-2])\n",
    "print(i[-3])"
   ]
  },
  {
   "cell_type": "markdown",
   "id": "0ac7b43e-1629-4655-9cc6-2c24f2c96daa",
   "metadata": {},
   "source": [
    "<b>List Slicing</b>"
   ]
  },
  {
   "cell_type": "markdown",
   "id": "f8459ef5-39cc-4584-b4d2-5f2e4d628b9c",
   "metadata": {},
   "source": [
    "We can access a range of items in a tuple by using the slicing operator :"
   ]
  },
  {
   "cell_type": "code",
   "execution_count": 17,
   "id": "6a47a3a5-25e7-4dd5-b278-bad55771f41b",
   "metadata": {},
   "outputs": [
    {
     "name": "stdout",
     "output_type": "stream",
     "text": [
      "(2, 3)\n",
      "(1, 2, 3, 4, 5)\n",
      "(2, 3, 4, 5, 6, 7, 8, 9, 10)\n",
      "(1, 2, 3, 4, 5, 6, 7, 8, 9, 10)\n"
     ]
    }
   ],
   "source": [
    "j = (1,2,3,4,5,6,7,8,9,10)\n",
    "print(j[1:3]) \n",
    "print(j[:5])\n",
    "print(j[1:])\n",
    "print(j[:])"
   ]
  },
  {
   "cell_type": "markdown",
   "id": "dd8ea295-4dda-4019-9777-4cd632094bf3",
   "metadata": {},
   "source": [
    "Look at very carefully that in Tuple Slicing the starting index is inclusive and ending index is exclusive i.e we include the starting index but we don't include the ending index rather we include ending index - 1 element. <br>\n",
    "[1:3] here means starting from index 0 and ending with 3-1 = 2 <br>\n",
    "[:5] here means starting from index 0 and ending with 5-1 = 4 <br>\n",
    "[1:] here means starting from index 1 and ending with the last element <br>\n",
    "[:] here means including all the elements as nothing is mentioned."
   ]
  },
  {
   "cell_type": "markdown",
   "id": "8618d849-2233-42fc-bf5d-25e12db6c200",
   "metadata": {},
   "source": [
    "A tuple can also be created without using parentheses. This is known as tuple packing."
   ]
  },
  {
   "cell_type": "code",
   "execution_count": 18,
   "id": "30b24765-05ba-423d-aa99-7ecffed5151b",
   "metadata": {},
   "outputs": [
    {
     "name": "stdout",
     "output_type": "stream",
     "text": [
      "(10, 5.6, 'Apple', True)\n",
      "10\n",
      "5.6\n",
      "Apple\n",
      "True\n"
     ]
    }
   ],
   "source": [
    "e = 10, 5.6, \"Apple\",True\n",
    "print(e)\n",
    "\n",
    "# tuple unpacking is also possible\n",
    "a, b, c, d= e\n",
    "\n",
    "print(a)    \n",
    "print(b)      \n",
    "print(c)      \n",
    "print(d)"
   ]
  },
  {
   "cell_type": "markdown",
   "id": "aceb6ac3-de18-449c-960b-07f2287c827e",
   "metadata": {},
   "source": [
    "Elements of a tuple cannot be changed once they have been assigned. But, if the element is itself a mutable data type like a list, its nested items can be changed."
   ]
  },
  {
   "cell_type": "code",
   "execution_count": 19,
   "id": "50aa4d57-0f76-475d-b641-dda68d09a96b",
   "metadata": {},
   "outputs": [
    {
     "ename": "TypeError",
     "evalue": "'tuple' object does not support item assignment",
     "output_type": "error",
     "traceback": [
      "\u001b[0;31m---------------------------------------------------------------------------\u001b[0m",
      "\u001b[0;31mTypeError\u001b[0m                                 Traceback (most recent call last)",
      "Input \u001b[0;32mIn [19]\u001b[0m, in \u001b[0;36m<cell line: 2>\u001b[0;34m()\u001b[0m\n\u001b[1;32m      1\u001b[0m g \u001b[38;5;241m=\u001b[39m (\u001b[38;5;241m1\u001b[39m,\u001b[38;5;241m2\u001b[39m,\u001b[38;5;241m3\u001b[39m,[\u001b[38;5;241m4\u001b[39m,\u001b[38;5;241m5\u001b[39m,\u001b[38;5;241m6\u001b[39m],\u001b[38;5;241m7\u001b[39m)\n\u001b[0;32m----> 2\u001b[0m g[\u001b[38;5;241m1\u001b[39m] \u001b[38;5;241m=\u001b[39m \u001b[38;5;241m8\u001b[39m\n",
      "\u001b[0;31mTypeError\u001b[0m: 'tuple' object does not support item assignment"
     ]
    }
   ],
   "source": [
    "g = (1,2,3,[4,5,6],7)\n",
    "g[1] = 8"
   ]
  },
  {
   "cell_type": "markdown",
   "id": "6defe27b-3a09-46f0-8ef4-e3ab8c7fefa7",
   "metadata": {},
   "source": [
    "As you can see the error which says - 'tuple' object does not support item assignment. Hence, tuples are unchangeable however if the element is itself a mutable data type like a list, its nested items can be changed."
   ]
  },
  {
   "cell_type": "code",
   "execution_count": 20,
   "id": "3baf5edf-0d72-412a-a21a-efd0bbb45056",
   "metadata": {},
   "outputs": [
    {
     "name": "stdout",
     "output_type": "stream",
     "text": [
      "(1, 2, 3, [8, 5, 6], 7)\n"
     ]
    }
   ],
   "source": [
    "g[3][0] = 8  \n",
    "print(g)"
   ]
  },
  {
   "cell_type": "markdown",
   "id": "97112840-0766-4b53-91aa-127a57689c69",
   "metadata": {},
   "source": [
    "We can also use + operator to combine two tuples. This is also called concatenation. <br>\n",
    "\n",
    "The * operator repeats a tuples for the given number of times. <br>\n",
    "\n"
   ]
  },
  {
   "cell_type": "code",
   "execution_count": 21,
   "id": "11a55152-5fd0-4d9e-9658-81a5c434f493",
   "metadata": {},
   "outputs": [
    {
     "name": "stdout",
     "output_type": "stream",
     "text": [
      "(1, 2, 3, 4, 5, 6)\n"
     ]
    }
   ],
   "source": [
    "m = (1,2,3)\n",
    "print(m + (4,5,6))"
   ]
  },
  {
   "cell_type": "code",
   "execution_count": 22,
   "id": "ed2f5f52-a4ea-455d-a16c-4f5a0dce693f",
   "metadata": {},
   "outputs": [
    {
     "name": "stdout",
     "output_type": "stream",
     "text": [
      "[1, 2, 3, 1, 2, 3, 1, 2, 3]\n"
     ]
    }
   ],
   "source": [
    "m = [1,2,3]\n",
    "print(m * 3)"
   ]
  },
  {
   "cell_type": "markdown",
   "id": "5cf7e975-e74a-498d-b02c-4450ed27f7d5",
   "metadata": {},
   "source": [
    "As discussed above, we cannot change the elements in a tuple. It means that we cannot delete or remove items from a tuple. <br>\n",
    "\n",
    "Deleting a tuple entirely, however, is possible using the keyword del."
   ]
  },
  {
   "cell_type": "code",
   "execution_count": 23,
   "id": "7c2a43d7-b3e3-49ec-8490-d1f635cb7472",
   "metadata": {},
   "outputs": [
    {
     "ename": "TypeError",
     "evalue": "'tuple' object doesn't support item deletion",
     "output_type": "error",
     "traceback": [
      "\u001b[0;31m---------------------------------------------------------------------------\u001b[0m",
      "\u001b[0;31mTypeError\u001b[0m                                 Traceback (most recent call last)",
      "Input \u001b[0;32mIn [23]\u001b[0m, in \u001b[0;36m<cell line: 2>\u001b[0;34m()\u001b[0m\n\u001b[1;32m      1\u001b[0m n \u001b[38;5;241m=\u001b[39m (\u001b[38;5;241m1\u001b[39m,\u001b[38;5;241m2\u001b[39m,\u001b[38;5;241m3\u001b[39m,\u001b[38;5;241m4\u001b[39m,\u001b[38;5;241m5\u001b[39m)\n\u001b[0;32m----> 2\u001b[0m \u001b[38;5;28;01mdel\u001b[39;00m n[\u001b[38;5;241m3\u001b[39m]\n",
      "\u001b[0;31mTypeError\u001b[0m: 'tuple' object doesn't support item deletion"
     ]
    }
   ],
   "source": [
    "n = (1,2,3,4,5)\n",
    "del n[3]"
   ]
  },
  {
   "cell_type": "code",
   "execution_count": 24,
   "id": "37d3aa69-7146-4a88-9760-057f284a6430",
   "metadata": {},
   "outputs": [],
   "source": [
    "del n"
   ]
  },
  {
   "cell_type": "code",
   "execution_count": 25,
   "id": "23c9079d-a3d0-4591-bf31-16b1683fec23",
   "metadata": {},
   "outputs": [
    {
     "ename": "NameError",
     "evalue": "name 'n' is not defined",
     "output_type": "error",
     "traceback": [
      "\u001b[0;31m---------------------------------------------------------------------------\u001b[0m",
      "\u001b[0;31mNameError\u001b[0m                                 Traceback (most recent call last)",
      "Input \u001b[0;32mIn [25]\u001b[0m, in \u001b[0;36m<cell line: 1>\u001b[0;34m()\u001b[0m\n\u001b[0;32m----> 1\u001b[0m \u001b[38;5;28mprint\u001b[39m(\u001b[43mn\u001b[49m)\n",
      "\u001b[0;31mNameError\u001b[0m: name 'n' is not defined"
     ]
    }
   ],
   "source": [
    "print(n)"
   ]
  },
  {
   "cell_type": "markdown",
   "id": "964f1018-c878-4fe6-9d18-6c82143cec3d",
   "metadata": {},
   "source": [
    "<b>Note: As the tuple is deleted completely hence it says that is is not defined as it doesn't exist.</b>"
   ]
  },
  {
   "cell_type": "markdown",
   "id": "e578da12-baef-416d-a955-49d8414bd684",
   "metadata": {},
   "source": [
    "Methods that add items or remove items are not available with tuple. Only the two methods are available - ccount and index."
   ]
  },
  {
   "cell_type": "code",
   "execution_count": 26,
   "id": "c4934ba1-482b-4ecf-be26-827b3f5222b2",
   "metadata": {},
   "outputs": [
    {
     "name": "stdout",
     "output_type": "stream",
     "text": [
      "2\n",
      "5\n"
     ]
    }
   ],
   "source": [
    "o = (1,2,3,1,2,5,4,3)\n",
    "\n",
    "print(o.count(1)) \n",
    "print(o.index(5)) "
   ]
  },
  {
   "cell_type": "code",
   "execution_count": 27,
   "id": "81249e78-fa1d-498a-80fe-03a863b26578",
   "metadata": {},
   "outputs": [
    {
     "name": "stdout",
     "output_type": "stream",
     "text": [
      "2\n"
     ]
    }
   ],
   "source": [
    "print(o.index(3))"
   ]
  },
  {
   "cell_type": "markdown",
   "id": "7405ea62-251b-4e6e-bbd2-420a99ce4096",
   "metadata": {},
   "source": [
    "As you can see in the case of duplicate items it will return the idex of the first occurring."
   ]
  },
  {
   "cell_type": "markdown",
   "id": "968913e9-07f6-4ef1-8db6-e41fd28d9b6a",
   "metadata": {},
   "source": [
    "<b>Tuple Membership Operator</b>"
   ]
  },
  {
   "cell_type": "markdown",
   "id": "1487dc3b-2955-4910-b382-45fbc9915b6f",
   "metadata": {},
   "source": [
    "We can test if an item exists in a tuple or not, using the keyword in."
   ]
  },
  {
   "cell_type": "code",
   "execution_count": 28,
   "id": "7f6df9d5-d07e-4e43-b603-9ed7e51e14cb",
   "metadata": {},
   "outputs": [
    {
     "name": "stdout",
     "output_type": "stream",
     "text": [
      "True\n",
      "False\n",
      "True\n",
      "False\n"
     ]
    }
   ],
   "source": [
    "t = ('p','y','t','h','o','n')\n",
    "print('p' in t)\n",
    "print('b' in t)\n",
    "print('o' in t)\n",
    "print('y' not in t) #will return False as 'y' is in Tuple t"
   ]
  },
  {
   "cell_type": "markdown",
   "id": "5a707957-78fd-4f9f-bd32-127aa6c762bc",
   "metadata": {},
   "source": [
    "<b>Iterating through Tuple</b>"
   ]
  },
  {
   "cell_type": "markdown",
   "id": "9badb883-8f57-4f33-a4ee-17e1321233b1",
   "metadata": {},
   "source": [
    "We can use a for loop to iterate through each item in a tuple."
   ]
  },
  {
   "cell_type": "code",
   "execution_count": 29,
   "id": "bc004c74-3090-4f98-858c-edceafda549f",
   "metadata": {},
   "outputs": [
    {
     "name": "stdout",
     "output_type": "stream",
     "text": [
      "Hello Santushti\n",
      "Hello Naina\n"
     ]
    }
   ],
   "source": [
    "for i in ('Santushti', 'Naina'):\n",
    "    print('Hello', i)"
   ]
  },
  {
   "cell_type": "markdown",
   "id": "2366a046-5f45-492c-a8f0-6471734d41df",
   "metadata": {},
   "source": [
    "That's it about Tuples. <br> \n",
    "So, Keep Practicing and Happy Learning!"
   ]
  }
 ],
 "metadata": {
  "kernelspec": {
   "display_name": "Python 3 (ipykernel)",
   "language": "python",
   "name": "python3"
  },
  "language_info": {
   "codemirror_mode": {
    "name": "ipython",
    "version": 3
   },
   "file_extension": ".py",
   "mimetype": "text/x-python",
   "name": "python",
   "nbconvert_exporter": "python",
   "pygments_lexer": "ipython3",
   "version": "3.9.13"
  }
 },
 "nbformat": 4,
 "nbformat_minor": 5
}
